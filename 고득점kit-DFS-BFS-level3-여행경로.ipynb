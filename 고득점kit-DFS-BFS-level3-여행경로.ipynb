{
 "cells": [
  {
   "cell_type": "code",
   "execution_count": 3,
   "metadata": {},
   "outputs": [
    {
     "ename": "SyntaxError",
     "evalue": "invalid syntax (<ipython-input-3-a6642ae886f0>, line 1)",
     "output_type": "error",
     "traceback": [
      "\u001b[0;36m  File \u001b[0;32m\"<ipython-input-3-a6642ae886f0>\"\u001b[0;36m, line \u001b[0;32m1\u001b[0m\n\u001b[0;31m    문제 설명\u001b[0m\n\u001b[0m        ^\u001b[0m\n\u001b[0;31mSyntaxError\u001b[0m\u001b[0;31m:\u001b[0m invalid syntax\n"
     ]
    }
   ],
   "source": [
    "문제 설명\n",
    "주어진 항공권을 모두 이용하여 여행경로를 짜려고 합니다. 항상 ICN 공항에서 출발합니다.\n",
    "\n",
    "항공권 정보가 담긴 2차원 배열 tickets가 매개변수로 주어질 때, 방문하는 공항 경로를 \n",
    "배열에 담아 return 하도록 solution 함수를 작성해주세요.\n",
    "\n",
    "제한사항\n",
    "모든 공항은 알파벳 대문자 3글자로 이루어집니다.\n",
    "주어진 공항 수는 3개 이상 10,000개 이하입니다.\n",
    "tickets의 각 행 [a, b]는 a 공항에서 b 공항으로 가는 항공권이 있다는 의미입니다.\n",
    "주어진 항공권은 모두 사용해야 합니다.\n",
    "만일 가능한 경로가 2개 이상일 경우 알파벳 순서가 앞서는 경로를 return 합니다.\n",
    "모든 도시를 방문할 수 없는 경우는 주어지지 않습니다.\n",
    "입출력 예\n",
    "tickets\treturn\n",
    "[[ICN, JFK], [HND, IAD], [JFK, HND]]\t[ICN, JFK, HND, IAD]\n",
    "[[ICN, SFO], [ICN, ATL], [SFO, ATL], [ATL, ICN], [ATL,SFO]]\t[ICN, ATL, ICN, SFO, ATL, SFO]\n",
    "입출력 예 설명\n",
    "예제 #1\n",
    "\n",
    "[ICN, JFK, HND, IAD] 순으로 방문할 수 있습니다.\n",
    "\n",
    "예제 #2\n",
    "\n",
    "[ICN, SFO, ATL, ICN, ATL, SFO] 순으로 방문할 수도 있지만\n",
    "[ICN, ATL, ICN, SFO, ATL, SFO] 가 알파벳 순으로 앞섭니다."
   ]
  },
  {
   "cell_type": "code",
   "execution_count": 67,
   "metadata": {},
   "outputs": [],
   "source": [
    "answer =[]\n",
    "used = []\n",
    "# path_stack = \"\"\n",
    "\n",
    "def dfs(tickets,j,path_stack):\n",
    "    global answer\n",
    "    global used\n",
    "#     global path_stack\n",
    "    \n",
    "    used[j] = True\n",
    "    \n",
    "    \n",
    "    path_stack = path_stack + \" \" + tickets[j][1] # 추후에 두번 연속인거 제거해주자. \n",
    "    \n",
    "    cur_port = tickets[j][0]\n",
    "    next_port = tickets[j][1]\n",
    "    \n",
    "    \n",
    "    # 모두 방문한 경우에 path_stack을 결과에 저장. \n",
    "    \n",
    "    count = 0 \n",
    "    for i in used:\n",
    "        if i == True:\n",
    "            count+=1\n",
    "    \n",
    "    if count == len(tickets):\n",
    "        answer.append(path_stack)\n",
    "        \n",
    "    \n",
    "\n",
    "    # 전체 tickets중 사용 안했고/next_port가 출발지인 지점에 대해서 재귀\n",
    "    \n",
    "    for index,item in enumerate(tickets):\n",
    "        fr,to = item[0],item[1]\n",
    "        \n",
    "        if fr == next_port and not used[index]:\n",
    "            dfs(tickets,index,path_stack)\n",
    "            used[index]=False\n",
    "#             path_stack = path_stack[:-6]\n",
    "    \n",
    "    \n",
    "    \n",
    "def solution(tickets):\n",
    "    global answer\n",
    "    global used \n",
    "    global path_stack\n",
    "    \n",
    "    used = [False]*len(tickets)\n",
    "    \n",
    "    \n",
    "    path_stack = \"\" \n",
    "    for i in range(len(tickets)):\n",
    "#         if not used[i]:  # 항상 ICN에서 출발하는 경우만~ 이란 조건 추가하자. \n",
    "        if tickets[i][0] == \"ICN\":\n",
    "            path_stack = tickets[i][0]\n",
    "            dfs(tickets,i,path_stack)\n",
    "            used[i]=False\n",
    "            path_stack = \"\"\n",
    "    \n",
    "    \n",
    "    answer.sort()\n",
    "    temp_result = answer[0]\n",
    "    result = temp_result.split(' ')\n",
    "    \n",
    "\n",
    "\n",
    "    return result"
   ]
  },
  {
   "cell_type": "code",
   "execution_count": 68,
   "metadata": {},
   "outputs": [
    {
     "name": "stdout",
     "output_type": "stream",
     "text": [
      "['ICN', 'ATL', 'ICN', 'SFO', 'ATL', 'SFO']\n"
     ]
    }
   ],
   "source": [
    "input1 = [[\"ICN\", \"JFK\"], [\"HND\", \"IAD\"], [\"JFK\", \"HND\"]]\n",
    "input2 = [[\"ICN\", \"SFO\"], [\"ICN\", \"ATL\"], [\"SFO\", \"ATL\"], [\"ATL\", \"ICN\"], [\"ATL\", \"SFO\"]]\n",
    "# output1 = solution(input1)\n",
    "# print(output1) # ['ICN', 'JFK', 'HND', 'IAD']\n",
    "\n",
    "output2 = solution(input2)\n",
    "print(output2) # [\"ICN\", \"ATL\", \"ICN\", \"SFO\", \"ATL\", \"SFO\"]"
   ]
  },
  {
   "cell_type": "code",
   "execution_count": null,
   "metadata": {},
   "outputs": [],
   "source": []
  },
  {
   "cell_type": "code",
   "execution_count": 11,
   "metadata": {},
   "outputs": [],
   "source": [
    "aa = [[1,2],[3,4],[5,6]]\n",
    "ll = \"123456\"\n"
   ]
  },
  {
   "cell_type": "code",
   "execution_count": 14,
   "metadata": {},
   "outputs": [
    {
     "data": {
      "text/plain": [
       "'1234'"
      ]
     },
     "execution_count": 14,
     "metadata": {},
     "output_type": "execute_result"
    }
   ],
   "source": [
    "ll[:-2]  "
   ]
  },
  {
   "cell_type": "code",
   "execution_count": 37,
   "metadata": {},
   "outputs": [
    {
     "data": {
      "text/plain": [
       "'ATLICNSFOATLSFO'"
      ]
     },
     "execution_count": 37,
     "metadata": {},
     "output_type": "execute_result"
    }
   ],
   "source": [
    "aa = ['SFOATLICNATLSFO', 'ATLICNSFOATLSFO', 'ATLSFOATLICNSFO']\n",
    "aa.sort()\n",
    "aa[0]"
   ]
  },
  {
   "cell_type": "code",
   "execution_count": null,
   "metadata": {},
   "outputs": [],
   "source": []
  }
 ],
 "metadata": {
  "kernelspec": {
   "display_name": "Python 3",
   "language": "python",
   "name": "python3"
  },
  "language_info": {
   "codemirror_mode": {
    "name": "ipython",
    "version": 3
   },
   "file_extension": ".py",
   "mimetype": "text/x-python",
   "name": "python",
   "nbconvert_exporter": "python",
   "pygments_lexer": "ipython3",
   "version": "3.6.5"
  }
 },
 "nbformat": 4,
 "nbformat_minor": 2
}
