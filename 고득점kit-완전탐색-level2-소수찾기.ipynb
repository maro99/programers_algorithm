{
 "cells": [
  {
   "cell_type": "code",
   "execution_count": 37,
   "metadata": {},
   "outputs": [
    {
     "ename": "SyntaxError",
     "evalue": "invalid syntax (<ipython-input-37-a52d7d6f1130>, line 1)",
     "output_type": "error",
     "traceback": [
      "\u001b[0;36m  File \u001b[0;32m\"<ipython-input-37-a52d7d6f1130>\"\u001b[0;36m, line \u001b[0;32m1\u001b[0m\n\u001b[0;31m    문제 설명\u001b[0m\n\u001b[0m        ^\u001b[0m\n\u001b[0;31mSyntaxError\u001b[0m\u001b[0;31m:\u001b[0m invalid syntax\n"
     ]
    }
   ],
   "source": [
    "문제 설명\n",
    "한자리 숫자가 적힌 종이 조각이 흩어져있습니다. 흩어진 종이 조각을 붙여 소수를 몇 개 만들 수 있는지 알아내려 합니다.\n",
    "\n",
    "각 종이 조각에 적힌 숫자가 적힌 문자열 numbers가 주어졌을 때, 종이 조각으로 만들 수 있는 소수가 몇 개인지 return 하도록 solution 함수를 완성해주세요.\n",
    "\n",
    "제한사항\n",
    "numbers는 길이 1 이상 7 이하인 문자열입니다.\n",
    "numbers는 0~9까지 숫자만으로 이루어져 있습니다.\n",
    "013은 0, 1, 3 숫자가 적힌 종이 조각이 흩어져있다는 의미입니다.\n",
    "입출력 예\n",
    "numbers\treturn\n",
    "17\t3\n",
    "011\t2\n",
    "입출력 예 설명\n",
    "예제 #1\n",
    "[1, 7]으로는 소수 [7, 17, 71]를 만들 수 있습니다.\n",
    "\n",
    "예제 #2\n",
    "[0, 1, 1]으로는 소수 [11, 101]를 만들 수 있습니다.\n",
    "\n",
    "11과 011은 같은 숫자로 취급합니다."
   ]
  },
  {
   "cell_type": "code",
   "execution_count": 38,
   "metadata": {},
   "outputs": [],
   "source": [
    "# 빠르게 순열 tool 써서 해본거 \n",
    "import itertools\n",
    "\n",
    "# 소수 = 약수가 1과 자기 자신만 인 수 \n",
    "def is_prime(n):\n",
    "\n",
    "    if n == 1 or n== 0 :\n",
    "        return False\n",
    "    \n",
    "    mid = n // 2 \n",
    "\n",
    "    for i in range(2,mid+1):\n",
    "        if n % i == 0:\n",
    "            return False\n",
    "    return True\n",
    "    \n",
    "    \n",
    "def solution(numbers):\n",
    "    \n",
    "    pool = [] \n",
    "    for i in numbers:\n",
    "        pool.append(i)\n",
    "    \n",
    "    prime_num_list_pre = []    \n",
    "    for i in range(1,len(numbers)+1):\n",
    "        prime_num_list_pre = prime_num_list_pre + list(map(''.join, itertools.permutations(pool, i)))\n",
    "    \n",
    "    # str -> int \n",
    "    prime_num_list = [] \n",
    "    for i in prime_num_list_pre:\n",
    "        prime_num_list.append(int(i))\n",
    "        \n",
    "    # 중복 제거 \n",
    "    prime_num_list = list(set(prime_num_list))\n",
    "    \n",
    "    count = 0 \n",
    "    for num in prime_num_list:\n",
    "        if is_prime(int(num)):\n",
    "            count+=1\n",
    "            \n",
    "    print(prime_num_list)\n",
    "    \n",
    "    return count"
   ]
  },
  {
   "cell_type": "code",
   "execution_count": null,
   "metadata": {},
   "outputs": [],
   "source": []
  },
  {
   "cell_type": "code",
   "execution_count": null,
   "metadata": {},
   "outputs": [],
   "source": []
  },
  {
   "cell_type": "code",
   "execution_count": null,
   "metadata": {},
   "outputs": [],
   "source": []
  },
  {
   "cell_type": "code",
   "execution_count": 2,
   "metadata": {},
   "outputs": [],
   "source": [
    "n1 = 7\n",
    "n2 = 8"
   ]
  },
  {
   "cell_type": "code",
   "execution_count": 3,
   "metadata": {},
   "outputs": [
    {
     "data": {
      "text/plain": [
       "3"
      ]
     },
     "execution_count": 3,
     "metadata": {},
     "output_type": "execute_result"
    }
   ],
   "source": [
    "n1//2"
   ]
  },
  {
   "cell_type": "code",
   "execution_count": 4,
   "metadata": {},
   "outputs": [
    {
     "data": {
      "text/plain": [
       "4"
      ]
     },
     "execution_count": 4,
     "metadata": {},
     "output_type": "execute_result"
    }
   ],
   "source": [
    "n2//2"
   ]
  },
  {
   "cell_type": "code",
   "execution_count": 5,
   "metadata": {},
   "outputs": [
    {
     "data": {
      "text/plain": [
       "0"
      ]
     },
     "execution_count": 5,
     "metadata": {},
     "output_type": "execute_result"
    }
   ],
   "source": [
    "1//2"
   ]
  },
  {
   "cell_type": "code",
   "execution_count": 6,
   "metadata": {},
   "outputs": [
    {
     "data": {
      "text/plain": [
       "0"
      ]
     },
     "execution_count": 6,
     "metadata": {},
     "output_type": "execute_result"
    }
   ],
   "source": [
    "4%2"
   ]
  },
  {
   "cell_type": "code",
   "execution_count": 12,
   "metadata": {},
   "outputs": [
    {
     "name": "stdout",
     "output_type": "stream",
     "text": [
      "2\n"
     ]
    }
   ],
   "source": [
    "for i in range(2,3):\n",
    "    print(i)"
   ]
  },
  {
   "cell_type": "code",
   "execution_count": 14,
   "metadata": {},
   "outputs": [],
   "source": [
    "def is_prime(n):\n",
    "\n",
    "    if n == 1:\n",
    "        return False\n",
    "    \n",
    "    mid = n // 2 \n",
    "\n",
    "    for i in range(2,mid+1):\n",
    "        if n % i == 0:\n",
    "            return False\n",
    "    return True"
   ]
  },
  {
   "cell_type": "code",
   "execution_count": 36,
   "metadata": {},
   "outputs": [
    {
     "data": {
      "text/plain": [
       "True"
      ]
     },
     "execution_count": 36,
     "metadata": {},
     "output_type": "execute_result"
    }
   ],
   "source": [
    "is_prime(0)"
   ]
  },
  {
   "cell_type": "code",
   "execution_count": 24,
   "metadata": {},
   "outputs": [
    {
     "name": "stdout",
     "output_type": "stream",
     "text": [
      "['ABC', 'ACB', 'BAC', 'BCA', 'CAB', 'CBA']\n",
      "['A', 'B', 'C']\n"
     ]
    }
   ],
   "source": [
    "import itertools\n",
    "\n",
    "pool = ['A', 'B', 'C']\n",
    "print(list(map(''.join, itertools.permutations(pool,3)))) # 3개의 원소로 수열 만들기\n",
    "print(list(map(''.join, itertools.permutations(pool, 1)))) # 2개의 원소로 수열 만들기"
   ]
  },
  {
   "cell_type": "code",
   "execution_count": null,
   "metadata": {},
   "outputs": [],
   "source": []
  },
  {
   "cell_type": "code",
   "execution_count": 28,
   "metadata": {},
   "outputs": [],
   "source": [
    "a = [1,1,2,2,3,3]"
   ]
  },
  {
   "cell_type": "code",
   "execution_count": 26,
   "metadata": {},
   "outputs": [
    {
     "data": {
      "text/plain": [
       "{1, 2, 3}"
      ]
     },
     "execution_count": 26,
     "metadata": {},
     "output_type": "execute_result"
    }
   ],
   "source": [
    "set(a)"
   ]
  },
  {
   "cell_type": "code",
   "execution_count": 29,
   "metadata": {},
   "outputs": [
    {
     "data": {
      "text/plain": [
       "[1, 2, 3]"
      ]
     },
     "execution_count": 29,
     "metadata": {},
     "output_type": "execute_result"
    }
   ],
   "source": [
    "list(set(a))"
   ]
  },
  {
   "cell_type": "code",
   "execution_count": 31,
   "metadata": {},
   "outputs": [],
   "source": [
    "lista = 'abc'"
   ]
  },
  {
   "cell_type": "code",
   "execution_count": 35,
   "metadata": {},
   "outputs": [
    {
     "data": {
      "text/plain": [
       "['abc']"
      ]
     },
     "execution_count": 35,
     "metadata": {},
     "output_type": "execute_result"
    }
   ],
   "source": [
    "lista.split()"
   ]
  },
  {
   "cell_type": "code",
   "execution_count": null,
   "metadata": {},
   "outputs": [],
   "source": []
  },
  {
   "cell_type": "code",
   "execution_count": 53,
   "metadata": {},
   "outputs": [
    {
     "name": "stdout",
     "output_type": "stream",
     "text": [
      "[['B', 'A', 'C'], ['B', 'A', 'C']]\n"
     ]
    }
   ],
   "source": [
    "# 프로그레머스의 permutaitoin 소개글  \n",
    "\n",
    "import copy\n",
    "\n",
    "\n",
    "def permute(l):\n",
    "    n = len(l)\n",
    "    n = 2\n",
    "    result = []\n",
    "    c = n * [0]\n",
    "\n",
    "    result.append(l)\n",
    "\n",
    "    i = 0;\n",
    "    while i < n:\n",
    "        if c[i] < i:\n",
    "            if i % 2 == 0:\n",
    "                tmp = l[0]\n",
    "                l[0] = l[i]\n",
    "                l[i] = tmp\n",
    "\n",
    "            else:\n",
    "\n",
    "                tmp = l[c[i]]\n",
    "                l[c[i]] = l[i]\n",
    "                l[i] = tmp\n",
    "\n",
    "            result.append(copy.copy(l))\n",
    "            c[i] += 1\n",
    "            i = 0\n",
    "        else:\n",
    "            c[i] = 0\n",
    "            i += 1\n",
    "\n",
    "    return result\n",
    "\n",
    "l = [\"A\",\"B\",\"C\"]\n",
    "print(permute(l))"
   ]
  },
  {
   "cell_type": "code",
   "execution_count": null,
   "metadata": {},
   "outputs": [],
   "source": [
    "# 좀더 잘 정리된글 \n",
    "# 출처: https://gorakgarak.tistory.com/522 [먹거리 만드는 열정맨 고락가락]\n",
    "\n",
    "\n",
    "public void perm(int[] arr, int depth, int n, int k) { \n",
    "    if (depth == k) { // 한번 depth 가 k로 도달하면 사이클이 돌았음. 출력함. \n",
    "                     print(arr); \n",
    "                     return; } \n",
    "    for (int i = depth; i < n; i++) { \n",
    "        swap(arr, i, depth); perm(arr, depth + 1, n, k); swap(arr, i, depth); \n",
    "    } \n",
    "}\n",
    "\n",
    "\n",
    "public void swap(int[] arr, int i, int j) {\n",
    "    int temp = arr[i]; \n",
    "    arr[i] = arr[j]; \n",
    "    arr[j] = temp; \n",
    "}\n",
    "\n",
    "public void print(int[] arr, int k) {\n",
    "    for (int i = 0; i < k; i++) { \n",
    "        if (i == k - 1) System.out.println(arr[i]); \n",
    "        else System.out.print(arr[i] + \",\"); }\n",
    "}\n"
   ]
  }
 ],
 "metadata": {
  "kernelspec": {
   "display_name": "Python 3",
   "language": "python",
   "name": "python3"
  },
  "language_info": {
   "codemirror_mode": {
    "name": "ipython",
    "version": 3
   },
   "file_extension": ".py",
   "mimetype": "text/x-python",
   "name": "python",
   "nbconvert_exporter": "python",
   "pygments_lexer": "ipython3",
   "version": "3.6.5"
  }
 },
 "nbformat": 4,
 "nbformat_minor": 2
}
