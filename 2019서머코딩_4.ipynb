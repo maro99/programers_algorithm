{
 "cells": [
  {
   "cell_type": "code",
   "execution_count": 2,
   "metadata": {},
   "outputs": [
    {
     "ename": "SyntaxError",
     "evalue": "invalid syntax (<ipython-input-2-b6cc2a8848f2>, line 1)",
     "output_type": "error",
     "traceback": [
      "\u001b[0;36m  File \u001b[0;32m\"<ipython-input-2-b6cc2a8848f2>\"\u001b[0;36m, line \u001b[0;32m1\u001b[0m\n\u001b[0;31m    EMPLOYEES 테이블은 보험 회사 직원의 정보를 담고 있는 테이블입니다. EMPLOYEES 테이블 구조는 다음과 같으며, ID, NAME, SALARY, BRANCH_ID는 각각 직원의 아이디, 이름, 월급, 근무하는 대리점 아이디를 나타냅니다.\u001b[0m\n\u001b[0m                 ^\u001b[0m\n\u001b[0;31mSyntaxError\u001b[0m\u001b[0;31m:\u001b[0m invalid syntax\n"
     ]
    }
   ],
   "source": [
    "EMPLOYEES 테이블은 보험 회사 직원의 정보를 담고 있는 테이블입니다. EMPLOYEES 테이블 구조는 다음과 같으며, ID, NAME, SALARY, BRANCH_ID는 각각 직원의 아이디, 이름, 월급, 근무하는 대리점 아이디를 나타냅니다.\n",
    "\n",
    "NAME\tTYPE\tNULLABLE\n",
    "ID\tINT\tFALSE\n",
    "NAME\tVARCHAR(N)\tFALSE\n",
    "SALARY\tNUMERIC(N,M)\tFALSE\n",
    "BRANCH_ID\tINT\tFALSE\n",
    "SELLINGS 테이블은 자동차 보험 판매 기록을 담고 있는 테이블입니다. SELLINGS 테이블 구조는 다음과 같으며, CAR_ID, EMPLOYEE_ID, CREATED_AT, PRICE는 각각 보험 대상 자동차 ID, 보험 설계사 사원 ID, 계약일, 보험료를 나타냅니다.\n",
    "\n",
    "NAME\tTYPE\tNULLABLE\n",
    "CAR_ID\tINT\tFALSE\n",
    "EMPLOYEE_ID\tINT\tFALSE\n",
    "CREATED_AT\tDATETIME\tFALSE\n",
    "PRICE\tNUMERIC(N,M)\tFALSE\n",
    "EMPLOYEES 테이블과 SELLINGS 테이블을 이용해 각 대리점의 매출액을 조회하는 SQL 문을 작성해주세요. 단, 매출이 높은 대리점이 먼저 조회되어야 합니다.\n",
    "\n",
    "예시\n",
    "예를 들어 EMPLOYEES 테이블과 SELLINGS 테이블이 다음과 같다면\n",
    "\n",
    "EMPLOYEES:\n",
    "\n",
    "ID\tNAME\tSALARY\tBRANCH_ID\n",
    "4603\tAlayna\t180\t15\n",
    "4651\tJuliet\t300\t15\n",
    "864\tHolly\t330\t17\n",
    "2842\tKyra\t280\t16\n",
    "4521\tMargaret\t400\t16\n",
    "SELLINGS:\n",
    "\n",
    "CAR_ID\tEMPLOYEE_ID\tCREATED_AT\tPRICE\n",
    "306\t4603\t20160905223752\t5200\n",
    "309\t2455\t20160905223752\t5000\n",
    "305\t864\t20160905223752\t5100\n",
    "307\t4521\t20160905223752\t5000\n",
    "310\t4651\t20160905223752\t5500\n",
    "388\t4603\t20160905223752\t5700\n",
    "15번 대리점의 매출액은 16400원\n",
    "* 4651번, 4603번 직원이 각각 [5500], [5200, 5700] 원\n",
    "16번 대리점의 매출액은 5000원\n",
    "* 2842번, 4521번 직원은 [0], [5000] 원\n",
    "17번 대리점의 매출액은 5100원\n",
    "* 864번 직원이 [5100] 원\n",
    "\n",
    "입니다. 따라서 SQL을 실행하면 다음과 같이 출력되어야 합니다.\n",
    " \n",
    "    \n",
    "BRANCH_ID\t매출액\n",
    "15\t16400\n",
    "17\t5100\n",
    "16\t5000"
   ]
  },
  {
   "cell_type": "code",
   "execution_count": null,
   "metadata": {},
   "outputs": [],
   "source": [
    "# 참고 \n",
    "# https://stackoverflow.com/questions/17437616/mysql-sum-from-another-table"
   ]
  },
  {
   "cell_type": "code",
   "execution_count": null,
   "metadata": {},
   "outputs": [],
   "source": [
    "-- EMPLOYEES 테이블과 SELLINGS 테이블을 이용해 각 대리점의 매출액을 조회하는 SQL 문을 작성해주세요. \n",
    "-- 단, 매출이 높은 대리점이 먼저 조회되어야 합니다.\n",
    "-- select\n",
    "\n",
    "\n",
    "select BRANCH_ID,SUM(PRICE) AS 매출액 \n",
    "FROM EMPLOYEES a LEFT JOIN SELLINGS i\n",
    "    ON a.ID = i.EMPLOYEE_ID\n",
    "GROUP BY BRANCH_ID"
   ]
  }
 ],
 "metadata": {
  "kernelspec": {
   "display_name": "Python 3",
   "language": "python",
   "name": "python3"
  },
  "language_info": {
   "codemirror_mode": {
    "name": "ipython",
    "version": 3
   },
   "file_extension": ".py",
   "mimetype": "text/x-python",
   "name": "python",
   "nbconvert_exporter": "python",
   "pygments_lexer": "ipython3",
   "version": "3.6.5"
  }
 },
 "nbformat": 4,
 "nbformat_minor": 2
}
