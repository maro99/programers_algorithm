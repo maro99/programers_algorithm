{
 "cells": [
  {
   "cell_type": "code",
   "execution_count": 1,
   "metadata": {},
   "outputs": [
    {
     "ename": "SyntaxError",
     "evalue": "invalid syntax (<ipython-input-1-cdb6020a42bb>, line 1)",
     "output_type": "error",
     "traceback": [
      "\u001b[0;36m  File \u001b[0;32m\"<ipython-input-1-cdb6020a42bb>\"\u001b[0;36m, line \u001b[0;32m1\u001b[0m\n\u001b[0;31m    문제 설명\u001b[0m\n\u001b[0m        ^\u001b[0m\n\u001b[0;31mSyntaxError\u001b[0m\u001b[0;31m:\u001b[0m invalid syntax\n"
     ]
    }
   ],
   "source": [
    "문제 설명\n",
    "무인도에 갇힌 사람들을 구명보트를 이용하여 구출하려고 합니다. 구명보트는 작아서 한 번에 최대 2명씩 밖에 탈 수 없고, 무게 제한도 있습니다.\n",
    "\n",
    "예를 들어, 사람들의 몸무게가 [70kg, 50kg, 80kg, 50kg]이고 구명보트의 무게 제한이 100kg이라면 2번째 사람과 4번째 사람은 같이 탈 수 있지만 1번째 사람과 3번째 사람의 무게의 합은 150kg이므로 구명보트의 무게 제한을 초과하여 같이 탈 수 없습니다.\n",
    "\n",
    "구명보트를 최대한 적게 사용하여 모든 사람을 구출하려고 합니다.\n",
    "\n",
    "사람들의 몸무게를 담은 배열 people과 구명보트의 무게 제한 limit가 매개변수로 주어질 때, 모든 사람을 구출하기 위해 필요한 구명보트 개수의 최솟값을 return 하도록 solution 함수를 작성해주세요.\n",
    "\n",
    "제한사항\n",
    "무인도에 갇힌 사람은 1명 이상 50,000명 이하입니다.\n",
    "각 사람의 몸무게는 40kg 이상 240kg 이하입니다.\n",
    "구명보트의 무게 제한은 40kg 이상 240kg 이하입니다.\n",
    "구명보트의 무게 제한은 항상 사람들의 몸무게 중 최댓값보다 크게 주어지므로 사람들을 구출할 수 없는 경우는 없습니다.\n",
    "입출력 예\n",
    "people\tlimit\treturn\n",
    "[70, 50, 80, 50]\t100\t3\n",
    "[70, 80, 50]\t100\t3"
   ]
  },
  {
   "cell_type": "code",
   "execution_count": 18,
   "metadata": {},
   "outputs": [],
   "source": [
    "# 걍 가벼운 애들부터 다태우면 되는거 아닌가?  -> 이렇게하면 합쳐서 100되는 최적경우 놓쳐서 안된다. \n",
    "# 무조건 앞에 100 체우는 쪽으로 가야함. \n",
    "\n",
    "\n",
    "def solution(people, limit):\n",
    "    \n",
    "    people.sort()\n",
    "    print(people)\n",
    "    \n",
    "    temp = 0  \n",
    "    count = 0\n",
    "    for i, person in enumerate(people):\n",
    "        print(temp)\n",
    "        \n",
    "        if i == 0:\n",
    "            temp = person\n",
    "            count+=1\n",
    "            continue\n",
    "        \n",
    "        if temp+person <= limit:\n",
    "            temp = temp+person\n",
    "            \n",
    "        elif temp+person > limit:\n",
    "            temp =person\n",
    "            count+=1\n",
    "    \n",
    "    \n",
    "    \n",
    "    \n",
    "    \n",
    "    return count"
   ]
  },
  {
   "cell_type": "code",
   "execution_count": 27,
   "metadata": {},
   "outputs": [],
   "source": [
    "# 보트에 두명씩 밖에 탈수 없다는것을 이용해라.  --------->효율성 다떨어진다. \n",
    "\n",
    "def solution(people, limit):\n",
    "    count = 0 \n",
    "    \n",
    "    \n",
    "    # 각 자리에서 limit에 가장 가까운 값에 도달할수있는 대상 뽑아서 짝지어면 어떤가. \n",
    "    while people:\n",
    "    \n",
    "        p1 = people.pop(0)\n",
    "        max_sum = p1\n",
    "        picked_i = -1\n",
    "        for i, p in enumerate(people):\n",
    "            if p+p1 > max_sum and p+p1 <= limit:\n",
    "                max_sum = p + p1 \n",
    "                picked_i = i   \n",
    "                \n",
    "        if picked_i != -1:\n",
    "            p2 = people.pop(picked_i)\n",
    "        \n",
    "        # 누군가 뽑혔으면 2명다 탔으니 count \n",
    "        # 안뽑혔어도 그사람 타고 끝이니 count   \n",
    "        count+=1\n",
    "        \n",
    "    return count\n"
   ]
  },
  {
   "cell_type": "code",
   "execution_count": null,
   "metadata": {},
   "outputs": [],
   "source": []
  },
  {
   "cell_type": "code",
   "execution_count": 39,
   "metadata": {},
   "outputs": [],
   "source": [
    "# 큰순서 대로 나열후 큰순서 부터 짝 지어서 리밋 이하면 break   --------->효율성 다떨어진다. \n",
    "\n",
    "def solution(people, limit):\n",
    "    count = 0 \n",
    "    people.sort(reverse=True)\n",
    "    \n",
    "    # 각 자리에서 limit에 가장 가까운 값에 도달할수있는 대상 뽑아서 짝지어면 어떤가. \n",
    "    while people:\n",
    "    \n",
    "        p1 = people.pop(0)\n",
    "        picked_i = -1\n",
    "        for i, p in enumerate(people):\n",
    "            if p+p1 <= limit:\n",
    "                picked_i = i\n",
    "                break\n",
    "                \n",
    "        if picked_i != -1:\n",
    "            p2 = people.pop(picked_i)\n",
    "        \n",
    "        # 누군가 뽑혔으면 2명다 탔으니 count \n",
    "        # 안뽑혔어도 그사람 타고 끝이니 count   \n",
    "        count+=1\n",
    "        \n",
    "    return count"
   ]
  },
  {
   "cell_type": "code",
   "execution_count": null,
   "metadata": {},
   "outputs": [],
   "source": []
  },
  {
   "cell_type": "code",
   "execution_count": 76,
   "metadata": {},
   "outputs": [],
   "source": [
    "# 큰순서 대로 나열후 큰순서 부터 뽑고                        # 1,3 시간초과 ... \n",
    "# 비교 대상은 작은수 부터.\n",
    "# 떨어진 바로 앞에것을 선택하자. \n",
    "\n",
    "def solution(people, limit):\n",
    "    count = 0 \n",
    "    people.sort()\n",
    "    print(people)\n",
    "    \n",
    "    while people:\n",
    "    \n",
    "        p1 = people.pop(-1) # 가장큰수뽑고 \n",
    "        print(f'big: {p1}')\n",
    "        picked_i = -1 \n",
    "        pre_i = -1 \n",
    "        \n",
    "        for i in range(len(people)): # 작은수 부터 비교\n",
    "            \n",
    "            \n",
    "            \n",
    "            \n",
    "            if p1+people[i] > limit:\n",
    "                picked_i = pre_i\n",
    "                break\n",
    "            elif p1+people[i] == limit:\n",
    "                picked_i = i\n",
    "                break\n",
    "            elif p1+people[i] < limit:\n",
    "                picked_i = i \n",
    "                \n",
    "            pre_i = i     \n",
    "            \n",
    "     \n",
    "        if picked_i != -1:\n",
    "            p2 = people.pop(picked_i)\n",
    "            print(f'small: {p2}')\n",
    "\n",
    "        # 누군가 뽑혔으면 2명다 탔으니 count \n",
    "        # 안뽑혔어도 그사람 타고 끝이니 count   \n",
    "        count+=1\n",
    "        \n",
    "    return count"
   ]
  },
  {
   "cell_type": "code",
   "execution_count": null,
   "metadata": {},
   "outputs": [],
   "source": []
  },
  {
   "cell_type": "code",
   "execution_count": 119,
   "metadata": {},
   "outputs": [],
   "source": [
    "# 단순히 생각해보면 \n",
    "# 작 ~큰 으로 정렬하고 \n",
    "# 작 이 큰 중에 짝지을수 있는것 가지고 pass 하면 끝. \n",
    "# 만약 초과라면 무저건 break\n",
    "# 만약 범위안이라면 한번으로 가장 큰수+ 작은수 최적 된것. 끝  \n",
    "\n",
    "def solution(people, limit):\n",
    "    count = 0 \n",
    "    people.sort(reverse=True)\n",
    "    print(people)\n",
    "    \n",
    "    small_i = len(people) -1\n",
    "    \n",
    "    for big_i in range(len(people)):        \n",
    "        print(small_i)\n",
    "        \n",
    "        # 바로 앞서서 매칭 되서 big_i = 2-> 3되고 small_i = 3-> 2된경우 \n",
    "        if small_i < big_i:\n",
    "            break\n",
    "        \n",
    "        \n",
    "        # 일단 보트에 큰거 탔다 치고                 \n",
    "        count+=1\n",
    "        \n",
    "        # 이번 big_i순과 small_i 같아서 한개 남은 경우 \n",
    "        if small_i == big_i:\n",
    "            break\n",
    "                \n",
    "        if people[small_i] +people[big_i] <= limit:\n",
    "            # 가장 큰수 + 가장작은수 합  범위 안이면 \n",
    "            # 이게 최적이니까 count작은수에 대한거 안하고 작은수 index진행시킴 \n",
    "            small_i-=1 \n",
    "            \n",
    "        elif people[small_i] + people[big_i] > limit:\n",
    "            # 범위 벋어나면 작은수는 진행 안시키고 카운트도 안함. \n",
    "            # 진행 하다보면 big_i 증가해서 small_i 근처올때 조건 만족할수도있기 때문에 \n",
    "            pass\n",
    "\n",
    "            \n",
    "            \n",
    "    return count"
   ]
  },
  {
   "cell_type": "code",
   "execution_count": 142,
   "metadata": {},
   "outputs": [],
   "source": [
    "# 더 좋게 가보자 \n",
    "# https://oneshottenkill.tistory.com/373    참고 ()\n",
    "\n",
    "# 짝지을거 짝지어서 짝질때마다 1씩 추가 and 두개 인덱스 빼주고 \n",
    "# 마지막에 짝 못지은 것들만 count따로 1씩 해주자. \n",
    "\n",
    "\n",
    "\n",
    "def solution(people, limit):\n",
    "    count = 0 \n",
    "    people.sort(reverse=True)\n",
    "    small_i = len(people)-1  \n",
    "    print(people)\n",
    "    \n",
    "    merged_count = 0 \n",
    "    \n",
    "    for big_i in range(len(people)):\n",
    "        \n",
    "        if small_i <=  big_i:\n",
    "            break\n",
    "        \n",
    "        \n",
    "        if people[big_i] + people[small_i] <= limit:\n",
    "            print(f'{people[big_i]} + {people[small_i]}')\n",
    "            count+=1\n",
    "            merged_count+=2\n",
    "            small_i -=1\n",
    "            \n",
    "    print(f'count: {count}')\n",
    "    print(f'merged_count: {merged_count}')\n",
    "            \n",
    "            \n",
    "    return count + (len(people) -merged_count)\n",
    "\n",
    "\n",
    "\n",
    "# 참고 에서는   전체인원에서 짝의수 빼서 보트수 구함.\n",
    "def solution(people, limit):\n",
    "    count = 0 \n",
    "    people.sort(reverse=True)\n",
    "    small_i = len(people)-1  \n",
    "    print(people)\n",
    "    \n",
    "    merged_count = 0 \n",
    "    \n",
    "    for big_i in range(len(people)):\n",
    "        \n",
    "        if small_i <=  big_i:\n",
    "            break\n",
    "        \n",
    "        \n",
    "        if people[big_i] + people[small_i] <= limit:\n",
    "            print(f'{people[big_i]} + {people[small_i]}')\n",
    "            count+=1\n",
    "            small_i -=1\n",
    "\n",
    "            \n",
    "            \n",
    "    return len(people) - count\n",
    "\n",
    "\n"
   ]
  },
  {
   "cell_type": "code",
   "execution_count": 143,
   "metadata": {},
   "outputs": [
    {
     "name": "stdout",
     "output_type": "stream",
     "text": [
      "[70, 70, 40, 30, 30, 30, 30]\n",
      "70 + 30\n",
      "70 + 30\n",
      "40 + 30\n"
     ]
    },
    {
     "data": {
      "text/plain": [
       "4"
      ]
     },
     "execution_count": 143,
     "metadata": {},
     "output_type": "execute_result"
    }
   ],
   "source": [
    "people = [30, 30, 30,30,70,70,40]   \n",
    "limit = 100  \n",
    "solution(people, limit) # 4"
   ]
  },
  {
   "cell_type": "code",
   "execution_count": 144,
   "metadata": {},
   "outputs": [
    {
     "name": "stdout",
     "output_type": "stream",
     "text": [
      "[80, 70, 50, 50]\n",
      "50 + 50\n"
     ]
    },
    {
     "data": {
      "text/plain": [
       "3"
      ]
     },
     "execution_count": 144,
     "metadata": {},
     "output_type": "execute_result"
    }
   ],
   "source": [
    "people = [70, 50, 80, 50] \n",
    "limit = 100\n",
    "solution(people, limit) # 3 "
   ]
  },
  {
   "cell_type": "code",
   "execution_count": 145,
   "metadata": {},
   "outputs": [
    {
     "name": "stdout",
     "output_type": "stream",
     "text": [
      "[80, 70, 50, 40]\n",
      "50 + 40\n"
     ]
    },
    {
     "data": {
      "text/plain": [
       "3"
      ]
     },
     "execution_count": 145,
     "metadata": {},
     "output_type": "execute_result"
    }
   ],
   "source": [
    "people = [70, 40, 80, 50] \n",
    "limit = 100\n",
    "solution(people, limit) # 3 "
   ]
  },
  {
   "cell_type": "code",
   "execution_count": 146,
   "metadata": {},
   "outputs": [
    {
     "name": "stdout",
     "output_type": "stream",
     "text": [
      "[80, 70, 50]\n"
     ]
    },
    {
     "data": {
      "text/plain": [
       "3"
      ]
     },
     "execution_count": 146,
     "metadata": {},
     "output_type": "execute_result"
    }
   ],
   "source": [
    "people = [70, 80, 50]\n",
    "limit = 100  \n",
    "solution(people, limit) # 3 "
   ]
  },
  {
   "cell_type": "code",
   "execution_count": 35,
   "metadata": {},
   "outputs": [],
   "source": [
    "people.sort(reverse=True)"
   ]
  },
  {
   "cell_type": "code",
   "execution_count": null,
   "metadata": {},
   "outputs": [],
   "source": []
  }
 ],
 "metadata": {
  "kernelspec": {
   "display_name": "Python 3",
   "language": "python",
   "name": "python3"
  },
  "language_info": {
   "codemirror_mode": {
    "name": "ipython",
    "version": 3
   },
   "file_extension": ".py",
   "mimetype": "text/x-python",
   "name": "python",
   "nbconvert_exporter": "python",
   "pygments_lexer": "ipython3",
   "version": "3.6.5"
  }
 },
 "nbformat": 4,
 "nbformat_minor": 2
}
