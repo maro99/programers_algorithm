{
 "cells": [
  {
   "cell_type": "code",
   "execution_count": 1,
   "metadata": {},
   "outputs": [
    {
     "ename": "SyntaxError",
     "evalue": "invalid syntax (<ipython-input-1-7b17c94fc36c>, line 1)",
     "output_type": "error",
     "traceback": [
      "\u001b[0;36m  File \u001b[0;32m\"<ipython-input-1-7b17c94fc36c>\"\u001b[0;36m, line \u001b[0;32m1\u001b[0m\n\u001b[0;31m    문제 설명\u001b[0m\n\u001b[0m        ^\u001b[0m\n\u001b[0;31mSyntaxError\u001b[0m\u001b[0;31m:\u001b[0m invalid syntax\n"
     ]
    }
   ],
   "source": [
    "문제 설명\n",
    "두 개의 단어 begin, target과 단어의 집합 words가 있습니다. 아래와 같은 규칙을 이용하여 begin에서 target으로 변환하는 가장 짧은 변환 과정을 찾으려고 합니다.\n",
    "\n",
    "1. 한 번에 한 개의 알파벳만 바꿀 수 있습니다.\n",
    "2. words에 있는 단어로만 변환할 수 있습니다.\n",
    "예를 들어 begin이 hit, target가 cog, words가 [hot,dot,dog,lot,log,cog]라면 hit -> hot -> dot -> dog -> cog와 같이 4단계를 거쳐 변환할 수 있습니다.\n",
    "\n",
    "두 개의 단어 begin, target과 단어의 집합 words가 매개변수로 주어질 때, 최소 몇 단계의 과정을 거쳐 begin을 target으로 변환할 수 있는지 return 하도록 solution 함수를 작성해주세요.\n",
    "\n",
    "제한사항\n",
    "각 단어는 알파벳 소문자로만 이루어져 있습니다.\n",
    "각 단어의 길이는 3 이상 10 이하이며 모든 단어의 길이는 같습니다.\n",
    "words에는 3개 이상 50개 이하의 단어가 있으며 중복되는 단어는 없습니다.\n",
    "begin과 target은 같지 않습니다.\n",
    "변환할 수 없는 경우에는 0를 return 합니다.\n",
    "입출력 예\n",
    "begin\ttarget\twords\treturn\n",
    "hit\tcog\t[hot, dot, dog, lot, log, cog]\t4\n",
    "hit\tcog\t[hot, dot, dog, lot, log]\t0\n",
    "입출력 예 설명\n",
    "예제 #1\n",
    "문제에 나온 예와 같습니다.\n",
    "\n",
    "예제 #2\n",
    "target인 cog는 words 안에 없기 때문에 변환할 수 없습니다."
   ]
  },
  {
   "cell_type": "code",
   "execution_count": 8,
   "metadata": {},
   "outputs": [],
   "source": [
    "def compare_str(a,b):\n",
    "    count = 0 \n",
    "    for x,y in zip(a,b):\n",
    "        if x== y:\n",
    "            count +=1\n",
    "            \n",
    "    if count == 1:\n",
    "        return True\n",
    "    else:\n",
    "        return False\n"
   ]
  },
  {
   "cell_type": "code",
   "execution_count": 13,
   "metadata": {},
   "outputs": [
    {
     "data": {
      "text/plain": [
       "True"
      ]
     },
     "execution_count": 13,
     "metadata": {},
     "output_type": "execute_result"
    }
   ],
   "source": [
    "compare_str('abc','ass')"
   ]
  },
  {
   "cell_type": "code",
   "execution_count": 262,
   "metadata": {},
   "outputs": [],
   "source": [
    "# 걍 BFS 로 하면 될라나?  \n",
    "# 완전 탐색은 필요없고 각 노드에서 접근 가능한 노드들 다 방문하고 나서 \n",
    "# 쭉쭉 진행 하는 방식으로 한단계씩 만 내려가면 될듯? \n",
    "\n",
    "# 일단은 특정 문자에서 시작해서 변환 가능한 것들 다 방문하는것 해보자. BFS로                   실패한 코드 \n",
    "\n",
    "visited = []\n",
    "target_index = 0\n",
    "result = 0\n",
    "\n",
    "def compare_str(a,b):\n",
    "    count = 0 \n",
    "    for x,y in zip(a,b):\n",
    "        if x== y:\n",
    "            count +=1\n",
    "            \n",
    "    if count == 2:\n",
    "        return True\n",
    "    else:\n",
    "        return False\n",
    "\n",
    "    \n",
    "def dfs(words,i,depth):\n",
    "    global visited\n",
    "    global target_index\n",
    "    global result\n",
    "    \n",
    "    visited[i] = True\n",
    "#     print(i,' ',end=\"\")\n",
    "    \n",
    "    if i == target_index:\n",
    "        result = depth\n",
    "        print(result)\n",
    "    \n",
    "    \n",
    "    for w in words[i]:\n",
    "#         print(w)\n",
    "        if not visited[w]:\n",
    "            dfs(words,w,depth+1)\n",
    "\n",
    "        \n",
    "\n",
    "def solution(begin, target, words):\n",
    "    global visited\n",
    "    global target_index\n",
    "    global result\n",
    "    \n",
    "    words = [begin] + words\n",
    "    visited = [False]*len(words)\n",
    "    \n",
    "    # 어쨋든 간에 리스트를 각 인덱스에서 방문한 지점 리스트 형식으로 바꿔주고 시작하자. \n",
    "    # 또한 타깃의 인덱스 저장.\n",
    "    words_nodes = []\n",
    "    \n",
    "    for i,word in enumerate(words):\n",
    "        temp_list = []\n",
    "        \n",
    "        for j,inner_word in enumerate(words):\n",
    "            if i!=j and compare_str(word, inner_word):\n",
    "                temp_list.append(j)\n",
    "        \n",
    "        if word == target:\n",
    "            target_index = i\n",
    "            \n",
    "        words_nodes.append(temp_list)\n",
    "    \n",
    "    \n",
    "    if target_index == 0:\n",
    "        return 0\n",
    "    \n",
    "    depth = 0 \n",
    "    for i in range(len(words_nodes)):\n",
    "        if not visited[i]:\n",
    "            dfs(words_nodes,i,depth+1)\n",
    "    \n",
    "\n",
    "    return result"
   ]
  },
  {
   "cell_type": "code",
   "execution_count": null,
   "metadata": {},
   "outputs": [],
   "source": []
  },
  {
   "cell_type": "code",
   "execution_count": null,
   "metadata": {},
   "outputs": [],
   "source": []
  },
  {
   "cell_type": "code",
   "execution_count": null,
   "metadata": {},
   "outputs": [],
   "source": []
  },
  {
   "cell_type": "code",
   "execution_count": null,
   "metadata": {},
   "outputs": [],
   "source": [
    "# 참고한 코드    내가 잘못한것. 체인지 가능한 여부 함수 잘못됨..\n",
    "\n",
    "answer = 0\n",
    "def solution(begin, target, words):\n",
    "\n",
    "    dfs(begin, target, 0, words)\n",
    "    return answer\n",
    "\n",
    "def change(fr, to):\n",
    "    for i in range(len(fr)):\n",
    "        if fr[:i]+fr[i+1:] == to[:i]+to[i+1:]:\n",
    "            return True\n",
    "    return False\n",
    "\n",
    "def dfs(begin, target, d, words):\n",
    "    global answer\n",
    "    # print(begin)\n",
    "    # print(words)\n",
    "    if begin == target:\n",
    "        # print(d)\n",
    "        answer = d\n",
    "        return\n",
    "    else:\n",
    "        if len(words) == 0:\n",
    "            return \n",
    "        for w in range(len(words)):\n",
    "            if change(begin, words[w]):\n",
    "                word = words[:w]+words[w+1:]\n",
    "                dfs(words[w], target, d+1, word)"
   ]
  },
  {
   "cell_type": "code",
   "execution_count": 324,
   "metadata": {},
   "outputs": [
    {
     "data": {
      "text/plain": [
       "4"
      ]
     },
     "execution_count": 324,
     "metadata": {},
     "output_type": "execute_result"
    }
   ],
   "source": [
    "begin = \"hit\"\n",
    "target = \"cog\"\n",
    "words = [\"hot\", \"dot\", \"dog\", \"lot\", \"log\", \"cog\"]\n",
    "solution(begin, target, words)"
   ]
  },
  {
   "cell_type": "code",
   "execution_count": 325,
   "metadata": {},
   "outputs": [
    {
     "data": {
      "text/plain": [
       "3"
      ]
     },
     "execution_count": 325,
     "metadata": {},
     "output_type": "execute_result"
    }
   ],
   "source": [
    "begin = \"hit\"\n",
    "target = \"cog\"\n",
    "words = [\"hot\", \"dot\", \"dog\", \"lot\", \"log\", \"hig\", \"hog\", \"cog\"]\n",
    "solution(begin, target, words)"
   ]
  },
  {
   "cell_type": "code",
   "execution_count": 340,
   "metadata": {},
   "outputs": [],
   "source": [
    "\n",
    "# 고찰 이부분 잘못됬다  (제약조건에 단어 3~10자이다..) \n",
    "\n",
    "\n",
    "# 내코드 \n",
    "def compare_str(a,b):\n",
    "    count = 0 \n",
    "    for x,y in zip(a,b):\n",
    "        if x== y:\n",
    "            print(x,y)\n",
    "            count +=1\n",
    "            \n",
    "    if count == len(a)-1:\n",
    "#     if count == 2: # 이부분 잘못됬었다. \n",
    "\n",
    "        return True\n",
    "    else:\n",
    "        return False\n",
    "\n",
    "# 참고한 코드 \n",
    "\n",
    "def change(fr, to):\n",
    "    for i in range(len(fr)):\n",
    "        if fr[:i]+fr[i+1:] == to[:i]+to[i+1:]:\n",
    "            print(fr[:i]+fr[i+1:], to[:i]+to[i+1:])\n",
    "            return True\n",
    "    return False\n"
   ]
  },
  {
   "cell_type": "code",
   "execution_count": 342,
   "metadata": {},
   "outputs": [
    {
     "name": "stdout",
     "output_type": "stream",
     "text": [
      "a a\n",
      "k k\n",
      "d d\n",
      "True\n",
      "akd akd\n",
      "True\n"
     ]
    }
   ],
   "source": [
    "a = \"akkd\"\n",
    "b = \"ackd\"\n",
    "print(compare_str(a,b))\n",
    "print(change(a,b))"
   ]
  },
  {
   "cell_type": "code",
   "execution_count": 332,
   "metadata": {},
   "outputs": [
    {
     "name": "stdout",
     "output_type": "stream",
     "text": [
      "bc\n",
      "ac\n",
      "ab\n"
     ]
    }
   ],
   "source": [
    "fr = \"abc\"\n",
    "for i in range(len(fr)):\n",
    "    print(fr[:i]+fr[i+1:])"
   ]
  },
  {
   "cell_type": "code",
   "execution_count": null,
   "metadata": {},
   "outputs": [],
   "source": []
  },
  {
   "cell_type": "code",
   "execution_count": null,
   "metadata": {},
   "outputs": [],
   "source": [
    "#그래서 제출한 최종 정답. \n",
    "target_index = -1\n",
    "result = []\n",
    "\n",
    "# 내코드 \n",
    "def compare_str(a,b):\n",
    "    count = 0 \n",
    "    for x,y in zip(a,b):\n",
    "        if x== y:\n",
    "            print(x,y)\n",
    "            count +=1\n",
    "            \n",
    "    if count == len(a)-1:\n",
    "        return True\n",
    "    else:\n",
    "        return False\n",
    "\n",
    "def dfs(words,visited,i,depth):\n",
    "    global target_index\n",
    "    global result\n",
    "    # print(f\"depth:{depth},w: {i} , visited: {visited}\")\n",
    "    \n",
    "    visited[i] = True\n",
    "    \n",
    "    if i == target_index:\n",
    "        result.append(depth)\n",
    "        # print('@@')\n",
    "        return\n",
    "    \n",
    "    for w in words[i]:\n",
    "        if not visited[w]:\n",
    "            \n",
    "            dfs(words,visited,w,depth+1)\n",
    "            visited[w] = False\n",
    "            \n",
    "\n",
    "\n",
    "\n",
    "def solution(begin, target, words):\n",
    "    global target_index\n",
    "    global result\n",
    "    target_index = -1 \n",
    "    \n",
    "    words = [begin] + words\n",
    "    visited = [False]*len(words)\n",
    "    \n",
    "    # 리스트를 각 인덱스에서 방문한 지점 리스트 형식으로 바꿔주고 시작하자. \n",
    "    # 타깃의 인덱스 저장.\n",
    "    words_nodes = []\n",
    "    \n",
    "    for i,word in enumerate(words):\n",
    "        temp_list = []\n",
    "        \n",
    "        for j,inner_word in enumerate(words):\n",
    "            if i!=j and compare_str(word, inner_word):\n",
    "                temp_list.append(j)\n",
    "        \n",
    "        if word == target:\n",
    "            target_index = i\n",
    "            \n",
    "        words_nodes.append(temp_list)\n",
    "    \n",
    "    \n",
    "    # print(f'target_index: {target_index}')\n",
    "    \n",
    "    depth = 0\n",
    "    visited[0] = True\n",
    "    for i in words_nodes[0]:\n",
    "#             print(f'i: {i}')\n",
    "#             print(f'visited : {visited}')\n",
    "\n",
    "        dfs(words_nodes,visited,i,depth+1)   \n",
    "        visited[i] = False\n",
    "        # print('@@@@@@@@@@@@@@@@@@@@@@@@@@@@@@@@@@@@@@@@@@@@@@@@@@@@@@@@@@@@@@@@2222@')\n",
    "    \n",
    "    if not result:\n",
    "        return 0\n",
    "\n",
    "    # print(target_index)\n",
    "    # print(words_nodes)\n",
    "    # print(result)\n",
    "    return min(result)"
   ]
  }
 ],
 "metadata": {
  "kernelspec": {
   "display_name": "Python 3",
   "language": "python",
   "name": "python3"
  },
  "language_info": {
   "codemirror_mode": {
    "name": "ipython",
    "version": 3
   },
   "file_extension": ".py",
   "mimetype": "text/x-python",
   "name": "python",
   "nbconvert_exporter": "python",
   "pygments_lexer": "ipython3",
   "version": "3.6.5"
  }
 },
 "nbformat": 4,
 "nbformat_minor": 2
}
