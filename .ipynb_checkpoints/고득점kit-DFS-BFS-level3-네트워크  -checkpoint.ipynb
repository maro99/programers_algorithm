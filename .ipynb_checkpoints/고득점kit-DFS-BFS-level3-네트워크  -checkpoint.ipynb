{
 "cells": [
  {
   "cell_type": "code",
   "execution_count": 1,
   "metadata": {},
   "outputs": [
    {
     "ename": "SyntaxError",
     "evalue": "invalid syntax (<ipython-input-1-c396810af619>, line 1)",
     "output_type": "error",
     "traceback": [
      "\u001b[0;36m  File \u001b[0;32m\"<ipython-input-1-c396810af619>\"\u001b[0;36m, line \u001b[0;32m1\u001b[0m\n\u001b[0;31m    https://programmers.co.kr/learn/courses/30/lessons/43162?language=python3\u001b[0m\n\u001b[0m           ^\u001b[0m\n\u001b[0;31mSyntaxError\u001b[0m\u001b[0;31m:\u001b[0m invalid syntax\n"
     ]
    }
   ],
   "source": [
    "https://programmers.co.kr/learn/courses/30/lessons/43162?language=python3\n",
    "    \n",
    "문제 설명\n",
    "네트워크란 컴퓨터 상호 간에 정보를 교환할 수 있도록 연결된 형태를 의미합니다. 예를 들어, 컴퓨터 A와 컴퓨터 B가 직접적으로 연결되어있고, 컴퓨터 B와 컴퓨터 C가 직접적으로 연결되어 있을 때 컴퓨터 A와 컴퓨터 C도 간접적으로 연결되어 정보를 교환할 수 있습니다. 따라서 컴퓨터 A, B, C는 모두 같은 네트워크 상에 있다고 할 수 있습니다.\n",
    "\n",
    "컴퓨터의 개수 n, 연결에 대한 정보가 담긴 2차원 배열 computers가 매개변수로 주어질 때, 네트워크의 개수를 return 하도록 solution 함수를 작성하시오.\n",
    "\n",
    "제한사항\n",
    "컴퓨터의 개수 n은 1 이상 200 이하인 자연수입니다.\n",
    "각 컴퓨터는 0부터 n-1인 정수로 표현합니다.\n",
    "i번 컴퓨터와 j번 컴퓨터가 연결되어 있으면 computers[i][j]를 1로 표현합니다.\n",
    "computer[i][i]는 항상 1입니다.\n",
    "입출력 예\n",
    "n\tcomputers\treturn\n",
    "3\t[[1, 1, 0], [1, 1, 0], [0, 0, 1]]\t2\n",
    "3\t[[1, 1, 0], [1, 1, 1], [0, 1, 1]]\t1\n",
    "입출력 예 설명\n",
    "예제 #1\n",
    "아래와 같이 2개의 네트워크가 있습니다.\n",
    "image0.png\n",
    "\n",
    "예제 #2\n",
    "아래와 같이 1개의 네트워크가 있습니다.\n",
    "image1.png"
   ]
  },
  {
   "cell_type": "code",
   "execution_count": null,
   "metadata": {},
   "outputs": [],
   "source": [
    "# 자료구조 8.3.1 의 연결성분 찾기 대로 하면 될듯.  -> DFS 로 해보겠슴. \n",
    "# 살짝 다른점은 이건 0,1로 연결여부 각각 표시되 있다는것. \n",
    "\n",
    "visited = [] \n",
    "\n",
    "def tour_one_network(lista,k):\n",
    "    global visited\n",
    "    visited[k] = True\n",
    "    \n",
    "    row = lista[k]\n",
    "    \n",
    "    for index,col in enumerate(row):\n",
    "        if k !=index and col == 1 and visited[index] == False:\n",
    "            tour_one_network(lista,index)\n",
    "\n",
    "\n",
    "def solution(n, computers):\n",
    "\n",
    "    global visited\n",
    "    visited = [False]*len(computers)\n",
    "    net_work_count = 0 \n",
    "    \n",
    "    \n",
    "    for i in range(n):\n",
    "        if visited[i] == False:\n",
    "            net_work_count +=1\n",
    "            tour_one_network(computers,i)\n",
    "            \n",
    "            \n",
    "    return net_work_count"
   ]
  }
 ],
 "metadata": {
  "kernelspec": {
   "display_name": "Python 3",
   "language": "python",
   "name": "python3"
  },
  "language_info": {
   "codemirror_mode": {
    "name": "ipython",
    "version": 3
   },
   "file_extension": ".py",
   "mimetype": "text/x-python",
   "name": "python",
   "nbconvert_exporter": "python",
   "pygments_lexer": "ipython3",
   "version": "3.6.5"
  }
 },
 "nbformat": 4,
 "nbformat_minor": 2
}
