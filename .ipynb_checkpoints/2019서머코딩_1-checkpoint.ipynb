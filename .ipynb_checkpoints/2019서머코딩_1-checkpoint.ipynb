{
 "cells": [
  {
   "cell_type": "code",
   "execution_count": 1,
   "metadata": {},
   "outputs": [
    {
     "ename": "SyntaxError",
     "evalue": "invalid syntax (<ipython-input-1-171d139dfdd1>, line 1)",
     "output_type": "error",
     "traceback": [
      "\u001b[0;36m  File \u001b[0;32m\"<ipython-input-1-171d139dfdd1>\"\u001b[0;36m, line \u001b[0;32m1\u001b[0m\n\u001b[0;31m    문제 설명\u001b[0m\n\u001b[0m        ^\u001b[0m\n\u001b[0;31mSyntaxError\u001b[0m\u001b[0;31m:\u001b[0m invalid syntax\n"
     ]
    }
   ],
   "source": [
    "문제 설명\n",
    "철수의 생일을 맞아 XX 식당에서 생일 파티를 하기로 했습니다. 생일 파티를 하는 XX 식당까지는 택시를 타고 이동하기로 했습니다. 철수의 친구들은 친한 친구들끼리 그룹을 구성하고 있으며, 한 사람당 하나의 그룹에만 속해 있습니다. 택시를 탈 때는 반드시 같은 그룹에 속한 친구들은 같은 택시를 타기로 했으며, 한 택시에는 여러 그룹이 함께 탈 수 있습니다. 단, 택시에는 최대 4명까지 함께 탑승 가능합니다. 각 그룹의 구성원 수가 들어있는 배열 s가 매개변수로 주어질 때, 필요한 택시의 수의 최솟값을 return 하도록 solution 함수를 완성해주세요.\n",
    "\n",
    "주의사항\n",
    "s는 각 그룹별 구성원 수가 들어있는 배열이며, 배열의 길이(그룹의 수)는 100,000 이하의 자연수입니다.\n",
    "각 그룹의 구성원 수는 4 이하의 자연수입니다.\n",
    "입출력 예\n",
    "s\toutput\n",
    "[1,2,4,3,3]\t4\n",
    "[2,3,4,4,2,1,3,1]\t5\n",
    "입출력 설명\n",
    "입출력 예 #1 \n",
    "한 그룹당 하나씩의 택시를 이용한다면 총 5대의 택시가 필요합니다. 그러나 다음과 같이 탑승한다면 4대의 택시만으로도 충분합니다.\n",
    "\n",
    "첫 번째 그룹(1명)과 네 번째 그룹(3명)이 같은 택시를 탑니다.\n",
    "그 외 나머지 그룹은 모두 다른 택시를 탑니다.\n",
    "입출력 예 #2 \n",
    "한 그룹당 하나씩의 택시를 이용한다면 총 8대의 택시가 필요하지만, 다음과 같이 탑승한다면 5대의 택시만으로도 충분합니다.\n",
    "\n",
    "첫 번째 그룹(2명)과 다섯 번째 그룹(2명)이 같은 택시를 탑니다.\n",
    "두 번째 그룹(3명)과 여섯 번째 그룹(1명)이 같은 택시를 탑니다.\n",
    "일곱 번째 그룹(3명)과 여덟 번째 그룹(1명)이 같은 택시를 탑니다.\n",
    "그 외 나머지 그룹은 모두 다른 택시를 탑니다."
   ]
  },
  {
   "cell_type": "code",
   "execution_count": 6,
   "metadata": {},
   "outputs": [],
   "source": [
    "# 필요한 택시의 최솟값. 한번에 4명 탑승 가능. 같은 그룹은 같은 택시 \n",
    "\n",
    "# 4명 꽉차기 전에 3 까지 체우고 4 나오면 3그냥 출발하는듯? 아닌가? -->어떻게든 꽊꽉 채워서 탐.\n",
    "\n",
    "# 앞에 안차고 있는 버스가 여러대가 될수도 있다. \n",
    "# 가령 1,2,2, 같은 경우는 2대 안차고있음 \n",
    "# 1,2,4,2   [3][4][2]\n",
    "\n",
    "# 4되는 경우를 빼버리면서 카운트 하고 리스트 앞뒤 합쳐주면 될듯. \n",
    "\n",
    "# 아니면 변수 하나 놓고 다 더해서 4로 나눠 볼까? \n",
    "\n",
    "def solution(s):\n",
    "    count = 0\n",
    "    \n",
    "    sum = 0 \n",
    "    for i in s:\n",
    "        sum+=i\n",
    "        \n",
    "    \n",
    "    count = sum//4 + sum%4\n",
    "        \n",
    "\n",
    "\n",
    "    return count"
   ]
  },
  {
   "cell_type": "code",
   "execution_count": 5,
   "metadata": {},
   "outputs": [
    {
     "data": {
      "text/plain": [
       "4"
      ]
     },
     "execution_count": 5,
     "metadata": {},
     "output_type": "execute_result"
    }
   ],
   "source": [
    "s = [1, 2, 4, 3, 3] # 기댓값 〉\t4\n",
    "solution(s)"
   ]
  },
  {
   "cell_type": "code",
   "execution_count": 7,
   "metadata": {},
   "outputs": [
    {
     "data": {
      "text/plain": [
       "5"
      ]
     },
     "execution_count": 7,
     "metadata": {},
     "output_type": "execute_result"
    }
   ],
   "source": [
    "s = [2, 3, 4, 4, 2, 1, 3, 1] # 기댓값 〉\t5\n",
    "solution(s)"
   ]
  },
  {
   "cell_type": "code",
   "execution_count": null,
   "metadata": {},
   "outputs": [],
   "source": []
  }
 ],
 "metadata": {
  "kernelspec": {
   "display_name": "Python 3",
   "language": "python",
   "name": "python3"
  },
  "language_info": {
   "codemirror_mode": {
    "name": "ipython",
    "version": 3
   },
   "file_extension": ".py",
   "mimetype": "text/x-python",
   "name": "python",
   "nbconvert_exporter": "python",
   "pygments_lexer": "ipython3",
   "version": "3.6.5"
  }
 },
 "nbformat": 4,
 "nbformat_minor": 2
}
