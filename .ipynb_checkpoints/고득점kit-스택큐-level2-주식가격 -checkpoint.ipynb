{
 "cells": [
  {
   "cell_type": "code",
   "execution_count": 1,
   "metadata": {},
   "outputs": [],
   "source": [
    "a = [1,2,3,4]\n"
   ]
  },
  {
   "cell_type": "code",
   "execution_count": 4,
   "metadata": {},
   "outputs": [
    {
     "data": {
      "text/plain": [
       "[1]"
      ]
     },
     "execution_count": 4,
     "metadata": {},
     "output_type": "execute_result"
    }
   ],
   "source": [
    "a[:0+1]"
   ]
  },
  {
   "cell_type": "code",
   "execution_count": null,
   "metadata": {},
   "outputs": [],
   "source": []
  },
  {
   "cell_type": "code",
   "execution_count": null,
   "metadata": {},
   "outputs": [],
   "source": []
  },
  {
   "cell_type": "code",
   "execution_count": null,
   "metadata": {},
   "outputs": [],
   "source": []
  },
  {
   "cell_type": "code",
   "execution_count": 5,
   "metadata": {},
   "outputs": [],
   "source": [
    "# 1시도  (효율성 O(N^2))   -->본 문제 ON에 풀수 있다함....\n",
    "\n",
    "# 중점은 몇초간 가격이(초기값보다 작게) 떨어지지 않았는지? \n",
    "\n",
    "def solution(p):\n",
    "    \n",
    "    # 먼저 한번도 다운 안됬을 경우 다 깔아주고 시작.\n",
    "    answer = []\n",
    "    for num in range(len(p)-1,-1,-1):\n",
    "        answer.append(num)\n",
    "        \n",
    "    changed_once_mask = [0]*len(p)\n",
    "        \n",
    "        \n",
    "    # 한번이라도 따운되면 업데이트 바로 해줌. \n",
    "    for i,price in enumerate(p):\n",
    "        \n",
    "        for j,temp_price in enumerate(p[:i+1]):\n",
    "            if (price < temp_price) and changed_once_mask[j] == 0: # 따운됬다 채크 한번도 안됬을때만. \n",
    "                # print(j,i)\n",
    "                answer[j]=i-j\n",
    "                changed_once_mask[j] = 1\n",
    "            \n",
    "    \n",
    "    \n",
    "    \n",
    "    \n",
    "    # answer = []\n",
    "    return answer"
   ]
  },
  {
   "cell_type": "code",
   "execution_count": null,
   "metadata": {},
   "outputs": [],
   "source": []
  },
  {
   "cell_type": "code",
   "execution_count": 6,
   "metadata": {},
   "outputs": [],
   "source": [
    "# 2시도 \n",
    "\n",
    "# 1시도  (효율성 O(N^2))   -->본 문제 ON에 풀수 있다함....\n",
    "\n",
    "# 중점은 몇초간 가격이(초기값보다 작게) 떨어지지 않았는지? \n",
    "\n",
    "def solution(p):\n",
    "    \n",
    "    # 먼저 한번도 다운 안됬을 경우 다 깔아주고 시작.\n",
    "    answer = []\n",
    "    for num in range(len(p)-1,-1,-1):\n",
    "        answer.append(num)\n",
    "        \n",
    "    changed_once_mask = [0]*len(p)\n",
    "        \n",
    "        \n",
    "    # 한번이라도 따운되면 업데이트 바로 해줌. \n",
    "    for i in range(len(p)):\n",
    "        for j in range(0,i+1):\n",
    "            if changed_once_mask[j] == 0 and (p[i] < p[j]): # 따운됬다 채크 한번도 안됬을때만. \n",
    "                # print(j,i)\n",
    "                answer[j]=i-j\n",
    "                changed_once_mask[j] = 1\n",
    "    \n",
    "    # answer = []\n",
    "    return answer"
   ]
  },
  {
   "cell_type": "code",
   "execution_count": null,
   "metadata": {},
   "outputs": [],
   "source": []
  },
  {
   "cell_type": "code",
   "execution_count": null,
   "metadata": {},
   "outputs": [],
   "source": []
  },
  {
   "cell_type": "code",
   "execution_count": 24,
   "metadata": {},
   "outputs": [],
   "source": [
    "# 참고한 답안   \n",
    "# 분석 \n",
    "# 이거 어떻게 보면 내가 첨에 생각한것.\n",
    "# 스텍에는 새로운 위치의 인덱스들  계속 저장해 나가는데 \n",
    "\n",
    "#  만약 앞값이 뒷값보다 작다면 ( 정확히는 스택의 끝값. 즉 현제값이 문제되는값이면 = 앞에 있는 수중에 이것으로 문제되는 값이 남아있으면) \n",
    "    # 만약 스택에든 인덱스에 해당하는 값들 포문 돌면서 비교시 현제값보다  작으면 \n",
    "        # 해당 인덱스로는 더이상 값비교 안해도되니까(한번이라도 작아졌으니 ) 스택에서 빼버리고 \n",
    "        # 결과에서 ( 현인덱스 - 해당인덱스) 값이 유지된 시간 동안의 값을 저장해버린다. \n",
    "    \n",
    "# 이후의 값 비교에서 빼버린 값 (이미 한번이상 감소한 값은) 비교에 쓰이지 않는다. \n",
    "\n",
    "# 마지막으로 일괄적으로 ans에 값 저장 안된 친구들에 대해서 값 저장해 준다. \n",
    "\n",
    "\n",
    "def solution(p):\n",
    "    ans = [0] * len(p)            \n",
    "    stack = [0]                             # 먼저 스택을 만들어 놓고 (여기에 인덱스만 저장하는듯.)\n",
    "    \n",
    "    for i in range(1, len(p)):              # 받은 p = [1, 2, 3, 2, 3] 돌면서 \n",
    "        \n",
    "        if p[i] < p[stack[-1]]:             # 스택 맨뒤의 값꺼네서 p의 인덱스로 써서  현재 p값 p[i]와 비교, 현재값이 더 작다면 \n",
    "            print(stack)\n",
    "            \n",
    "            for j in stack[::-1]:           # 스택 뒤부터 앞으로 가면서 \n",
    "                if p[i] < p[j]:             # 현재값이 스택뒤 꺼낸 값보다 작다면 \n",
    "                    ans[j] = i-j            # 이것을  답에 그 스택위치 꺼넨것 인덱스 맞춰서    현제인덱스 - 꺼낸인덱스 저장.\n",
    "                                               # ( 현제부터 값 보다 꺼낸게 더 작으면 거기 까지의 거리)\n",
    "                        \n",
    "                    stack.remove(j)         # 스택에서 꺼낸값 스택에서 삭제 . ( 한번이라도 작아지면 그다음 측정할 필요 없다.\n",
    "#                                                               작아지면  몇초동안 값 감소 안했는지 더이상 카운트 안해도되서)\n",
    "                else:\n",
    "                    break\n",
    "        print(stack)\n",
    "        print('@@@@@@@@@@@@@@@@@@@@@@@@@')\n",
    "        stack.append(i)                     # 현재값이 더 크다면 스택에 그인덱스 저장. \n",
    "        \n",
    "    for i in range(0, len(stack)-1):\n",
    "        ans[stack[i]] = len(p) - stack[i] - 1\n",
    "        \n",
    "    return ans\n",
    "\n"
   ]
  },
  {
   "cell_type": "code",
   "execution_count": 25,
   "metadata": {},
   "outputs": [
    {
     "name": "stdout",
     "output_type": "stream",
     "text": [
      "[0]\n",
      "@@@@@@@@@@@@@@@@@@@@@@@@@\n",
      "[0, 1]\n",
      "@@@@@@@@@@@@@@@@@@@@@@@@@\n",
      "[0, 1, 2]\n",
      "[0, 1]\n",
      "@@@@@@@@@@@@@@@@@@@@@@@@@\n",
      "[0, 1, 3]\n",
      "@@@@@@@@@@@@@@@@@@@@@@@@@\n"
     ]
    },
    {
     "data": {
      "text/plain": [
       "[4, 3, 1, 1, 0]"
      ]
     },
     "execution_count": 25,
     "metadata": {},
     "output_type": "execute_result"
    }
   ],
   "source": [
    "        # 0  1  2  3  4  \n",
    "prices = [1, 2, 3, 2, 3]\n",
    "solution(prices)"
   ]
  },
  {
   "cell_type": "code",
   "execution_count": null,
   "metadata": {},
   "outputs": [],
   "source": []
  },
  {
   "cell_type": "code",
   "execution_count": 16,
   "metadata": {},
   "outputs": [],
   "source": [
    "# 다른답안  \n",
    "\n",
    "def solution(prices):\n",
    "    answer = []\n",
    "\n",
    "    for i in range(len(prices)-1):\n",
    "        cnt = 0\n",
    "        for j in range(i, len(prices)-1):\n",
    "            if prices[i] <= prices[j]:\n",
    "                print(f'{i}:{prices[i]}', f'{j}:{prices[j]}')\n",
    "                cnt += 1\n",
    "            else:\n",
    "                break\n",
    "        \n",
    "        answer.append(cnt)\n",
    "        print(answer)\n",
    "        \n",
    "    answer.append(0)\n",
    "    return answer\n",
    "\n"
   ]
  },
  {
   "cell_type": "code",
   "execution_count": 17,
   "metadata": {},
   "outputs": [
    {
     "name": "stdout",
     "output_type": "stream",
     "text": [
      "0:1 0:1\n",
      "0:1 1:2\n",
      "0:1 2:3\n",
      "0:1 3:2\n",
      "[4]\n",
      "1:2 1:2\n",
      "1:2 2:3\n",
      "1:2 3:2\n",
      "[4, 3]\n",
      "2:3 2:3\n",
      "[4, 3, 1]\n",
      "3:2 3:2\n",
      "[4, 3, 1, 1]\n"
     ]
    },
    {
     "data": {
      "text/plain": [
       "[4, 3, 1, 1, 0]"
      ]
     },
     "execution_count": 17,
     "metadata": {},
     "output_type": "execute_result"
    }
   ],
   "source": [
    "        # 0  1  2  3  4 \n",
    "prices = [1, 2, 3, 2, 3]\n",
    "solution(prices)"
   ]
  },
  {
   "cell_type": "code",
   "execution_count": null,
   "metadata": {},
   "outputs": [],
   "source": []
  }
 ],
 "metadata": {
  "kernelspec": {
   "display_name": "Python 3",
   "language": "python",
   "name": "python3"
  },
  "language_info": {
   "codemirror_mode": {
    "name": "ipython",
    "version": 3
   },
   "file_extension": ".py",
   "mimetype": "text/x-python",
   "name": "python",
   "nbconvert_exporter": "python",
   "pygments_lexer": "ipython3",
   "version": "3.6.5"
  }
 },
 "nbformat": 4,
 "nbformat_minor": 2
}
