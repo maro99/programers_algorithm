{
 "cells": [
  {
   "cell_type": "code",
   "execution_count": 2,
   "metadata": {},
   "outputs": [
    {
     "ename": "SyntaxError",
     "evalue": "invalid syntax (<ipython-input-2-0e2a3ad26aec>, line 1)",
     "output_type": "error",
     "traceback": [
      "\u001b[0;36m  File \u001b[0;32m\"<ipython-input-2-0e2a3ad26aec>\"\u001b[0;36m, line \u001b[0;32m1\u001b[0m\n\u001b[0;31m    문제 설명\u001b[0m\n\u001b[0m        ^\u001b[0m\n\u001b[0;31mSyntaxError\u001b[0m\u001b[0;31m:\u001b[0m invalid syntax\n"
     ]
    }
   ],
   "source": [
    "문제 설명\n",
    "국가의 역할 중 하나는 여러 지방의 예산요청을 심사하여 국가의 예산을 분배하는 것입니다. \n",
    "국가예산의 총액은 미리 정해져 있어서 모든 예산요청을 배정해 주기는 어려울 수도 있습니다. \n",
    "그래서 정해진 총액 이하에서 가능한 한 최대의 총 예산을 다음과 같은 방법으로 배정합니다.\n",
    "\n",
    "1. 모든 요청이 배정될 수 있는 경우에는 요청한 금액을 그대로 배정합니다.\n",
    "2. 모든 요청이 배정될 수 없는 경우에는 특정한 정수 상한액을 계산하여 그 이상인 \n",
    "예산요청에는 모두 상한액을 배정합니다. \n",
    "   상한액 이하의 예산요청에 대해서는 요청한 금액을 그대로 배정합니다. \n",
    "예를 들어, 전체 국가예산이 485이고 4개 지방의 예산요청이 각각 120, 110, 140, 150일 때\n",
    ", 상한액을 127로 잡으면 위의 요청들에 대해서 각각 120, 110, 127, 127을 배정하고 \n",
    "그 합이 484로 가능한 최대가 됩니다.\n",
    "각 지방에서 요청하는 예산이 담긴 배열 budgets과 총 예산 M이 매개변수로 주어질 때, \n",
    "위의 조건을 모두 만족하는 상한액을 return 하도록 solution 함수를 작성해주세요.\n",
    "\n",
    "제한 사항\n",
    "지방의 수는 3 이상 100,000 이하인 자연수입니다.\n",
    "각 지방에서 요청하는 예산은 1 이상 100,000 이하인 자연수입니다.\n",
    "총 예산은 지방의 수 이상 1,000,000,000 이하인 자연수입니다.\n",
    "입출력 예\n",
    "budgets\tM\treturn\n",
    "[120, 110, 140, 150]\t485\t127\n",
    "출처\n",
    "\n"
   ]
  },
  {
   "cell_type": "code",
   "execution_count": null,
   "metadata": {},
   "outputs": [],
   "source": []
  },
  {
   "cell_type": "code",
   "execution_count": 3,
   "metadata": {},
   "outputs": [],
   "source": [
    "def solution(budgets, M):\n",
    "    answer = 0\n",
    "    return answer"
   ]
  },
  {
   "cell_type": "code",
   "execution_count": 4,
   "metadata": {},
   "outputs": [
    {
     "data": {
      "text/plain": [
       "0"
      ]
     },
     "execution_count": 4,
     "metadata": {},
     "output_type": "execute_result"
    }
   ],
   "source": [
    "budgets = 485\n",
    "M = [120, 110, 140, 150]\n",
    "solution(budgets, M)"
   ]
  },
  {
   "cell_type": "code",
   "execution_count": null,
   "metadata": {},
   "outputs": [],
   "source": []
  }
 ],
 "metadata": {
  "kernelspec": {
   "display_name": "Python 3",
   "language": "python",
   "name": "python3"
  },
  "language_info": {
   "codemirror_mode": {
    "name": "ipython",
    "version": 3
   },
   "file_extension": ".py",
   "mimetype": "text/x-python",
   "name": "python",
   "nbconvert_exporter": "python",
   "pygments_lexer": "ipython3",
   "version": "3.6.5"
  }
 },
 "nbformat": 4,
 "nbformat_minor": 2
}
