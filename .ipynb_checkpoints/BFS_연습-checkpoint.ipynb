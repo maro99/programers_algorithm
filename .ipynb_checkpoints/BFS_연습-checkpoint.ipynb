{
 "cells": [
  {
   "cell_type": "code",
   "execution_count": 14,
   "metadata": {},
   "outputs": [],
   "source": [
    "visited = [] \n",
    "\n",
    "\n",
    "def bfs(a,i):\n",
    "    queue = [] \n",
    "    \n",
    "    visited[i] = True\n",
    "#     print(f'{i}', \" \", end=\"\")\n",
    "    \n",
    "    queue.append(i)\n",
    "    \n",
    "    while queue:\n",
    "        \n",
    "        cur_index = queue.pop(0)\n",
    "        \n",
    "        print(f'{cur_index}', \" \", end=\"\")\n",
    "        \n",
    "        for k in a[cur_index]:\n",
    "            if not visited[k] :\n",
    "                visited[k] = True\n",
    "                queue.append(k)\n",
    "        \n",
    "    \n",
    "\n",
    "\n",
    "\n",
    "def solution(a):\n",
    "    global visited\n",
    "    visited = [False]*len(a)\n",
    "    \n",
    "    for i in range(len(a)):\n",
    "        if not visited[i]:\n",
    "            bfs(a,i)\n",
    "\n",
    "\n",
    "\n"
   ]
  },
  {
   "cell_type": "code",
   "execution_count": 15,
   "metadata": {},
   "outputs": [
    {
     "name": "stdout",
     "output_type": "stream",
     "text": [
      "0  2  1  3  9  8  4  5  7  6  "
     ]
    }
   ],
   "source": [
    "a = [[2,1],[3,0],[3,0],[9,8,2,1],[5],[7,6,4],[7,5],[6,5],[3],[3]]\n",
    "\n",
    "solution(a)"
   ]
  },
  {
   "cell_type": "code",
   "execution_count": 3,
   "metadata": {},
   "outputs": [
    {
     "data": {
      "text/plain": [
       "5"
      ]
     },
     "execution_count": 3,
     "metadata": {},
     "output_type": "execute_result"
    }
   ],
   "source": [
    "s = [1,2,3,4,5]\n",
    "s.pop()"
   ]
  },
  {
   "cell_type": "code",
   "execution_count": null,
   "metadata": {},
   "outputs": [],
   "source": []
  }
 ],
 "metadata": {
  "kernelspec": {
   "display_name": "Python 3",
   "language": "python",
   "name": "python3"
  },
  "language_info": {
   "codemirror_mode": {
    "name": "ipython",
    "version": 3
   },
   "file_extension": ".py",
   "mimetype": "text/x-python",
   "name": "python",
   "nbconvert_exporter": "python",
   "pygments_lexer": "ipython3",
   "version": "3.6.5"
  }
 },
 "nbformat": 4,
 "nbformat_minor": 2
}
