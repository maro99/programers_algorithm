{
 "cells": [
  {
   "cell_type": "code",
   "execution_count": 1,
   "metadata": {},
   "outputs": [
    {
     "ename": "SyntaxError",
     "evalue": "invalid syntax (<ipython-input-1-0387af2efe30>, line 1)",
     "output_type": "error",
     "traceback": [
      "\u001b[0;36m  File \u001b[0;32m\"<ipython-input-1-0387af2efe30>\"\u001b[0;36m, line \u001b[0;32m1\u001b[0m\n\u001b[0;31m    숫자 야구 게임이란 2명이 서로가 생각한 숫자를 맞추는 게임입니다. 게임해보기\u001b[0m\n\u001b[0m        ^\u001b[0m\n\u001b[0;31mSyntaxError\u001b[0m\u001b[0;31m:\u001b[0m invalid syntax\n"
     ]
    }
   ],
   "source": [
    "숫자 야구 게임이란 2명이 서로가 생각한 숫자를 맞추는 게임입니다. 게임해보기\n",
    "\n",
    "각자 서로 다른 1~9까지 3자리 임의의 숫자를 정한 뒤 서로에게 3자리의 숫자를 불러서 결과를 확인합니다. 그리고 그 결과를 토대로 상대가 정한 숫자를 예상한 뒤 맞힙니다.\n",
    "\n",
    "* 숫자는 맞지만, 위치가 틀렸을 때는 볼\n",
    "* 숫자와 위치가 모두 맞을 때는 스트라이크\n",
    "* 숫자와 위치가 모두 틀렸을 때는 아웃\n",
    "예를 들어, 아래의 경우가 있으면\n",
    "\n",
    "A : 123\n",
    "B : 1스트라이크 1볼.\n",
    "A : 356\n",
    "B : 1스트라이크 0볼.\n",
    "A : 327\n",
    "B : 2스트라이크 0볼.\n",
    "A : 489\n",
    "B : 0스트라이크 1볼.\n",
    "이때 가능한 답은 324와 328 두 가지입니다.\n",
    "\n",
    "질문한 세 자리의 수, 스트라이크의 수, 볼의 수를 담은 2차원 배열 baseball이 매개변수로 주어질 때, 가능한 답의 개수를 return 하도록 solution 함수를 작성해주세요.\n",
    "\n",
    "제한사항\n",
    "질문의 수는 1 이상 100 이하의 자연수입니다.\n",
    "baseball의 각 행은 [세 자리의 수, 스트라이크의 수, 볼의 수] 를 담고 있습니다.\n",
    "입출력 예\n",
    "baseball\treturn\n",
    "[[123, 1, 1], [356, 1, 0], [327, 2, 0], [489, 0, 1]]\t2\n",
    "입출력 예 설명\n",
    "문제에 나온 예와 같습니다."
   ]
  },
  {
   "cell_type": "code",
   "execution_count": 2,
   "metadata": {},
   "outputs": [],
   "source": [
    "a = \"123\"\n",
    "b = \"456\"\n"
   ]
  },
  {
   "cell_type": "code",
   "execution_count": 3,
   "metadata": {},
   "outputs": [
    {
     "name": "stdout",
     "output_type": "stream",
     "text": [
      "1 4\n",
      "2 5\n",
      "3 6\n"
     ]
    }
   ],
   "source": [
    "for x,y in zip(a,b):\n",
    "    print(x,y)"
   ]
  },
  {
   "cell_type": "code",
   "execution_count": null,
   "metadata": {},
   "outputs": [],
   "source": [
    "import itertools\n",
    "\n",
    "def solution(baseball):\n",
    "    \n",
    "    # 0 하나라도 포함된 경우는 생각 x \n",
    "    pools = [\"1\",\"2\",\"3\",\"4\",\"5\",\"6\",\"7\",\"8\",\"9\"]\n",
    "    candidates = list(map(''.join,itertools.permutations(pools,3)))\n",
    "    # print(candidates)\n",
    "        \n",
    "    for index,case in enumerate(baseball):\n",
    "        \n",
    "        if index != 0:\n",
    "            candidates = temp_candidates \n",
    "        temp_candidates = []\n",
    "        predic_num = str(case[0])\n",
    "        strike = case[1]\n",
    "        ball = case[2]\n",
    "        \n",
    "        for num in candidates:\n",
    "            \n",
    "            # 스트라이크 검사 \n",
    "            strike_count = 0 \n",
    "            for x,y in zip(predic_num,num):\n",
    "                if x == y:\n",
    "                    strike_count+=1\n",
    "                    \n",
    "            # ball 검사 \n",
    "            ball_count = 0\n",
    "            for z in predic_num:\n",
    "                if z in num:\n",
    "                    ball_count+=1\n",
    "                    \n",
    "            # ball과 strike겹치는거 빼줌 \n",
    "            ball_count = ball_count - strike_count\n",
    "            \n",
    "            if ball_count == ball and strike_count == strike:\n",
    "                temp_candidates.append(num)\n",
    "        \n",
    "        # print(temp_candidates)\n",
    "        \n",
    "    answer = 0\n",
    "    return len(temp_candidates)"
   ]
  }
 ],
 "metadata": {
  "kernelspec": {
   "display_name": "Python 3",
   "language": "python",
   "name": "python3"
  },
  "language_info": {
   "codemirror_mode": {
    "name": "ipython",
    "version": 3
   },
   "file_extension": ".py",
   "mimetype": "text/x-python",
   "name": "python",
   "nbconvert_exporter": "python",
   "pygments_lexer": "ipython3",
   "version": "3.6.5"
  }
 },
 "nbformat": 4,
 "nbformat_minor": 2
}
