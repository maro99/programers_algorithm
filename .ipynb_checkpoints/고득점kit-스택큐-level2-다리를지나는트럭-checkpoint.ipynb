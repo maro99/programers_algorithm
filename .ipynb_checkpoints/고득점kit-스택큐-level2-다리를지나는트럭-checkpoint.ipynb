{
 "cells": [
  {
   "cell_type": "markdown",
   "metadata": {},
   "source": [
    "\n",
    "다리를 지나는 트럭  \n",
    "문제 설명  \n",
    "트럭 여러 대가 강을 가로지르는 일 차선 다리를 정해진 순으로 건너려 합니다. 모든 트럭이 다리를 건너려면 최소 몇 초가 걸리는지 알아내야 합니다. 트럭은 1초에 1만큼 움직이며, 다리 길이는 bridge_length이고 다리는 무게 weight까지 견딥니다.\n",
    "※ 트럭이 다리에 완전히 오르지 않은 경우, 이 트럭의 무게는 고려하지 않습니다.  \n",
    "  \n",
    "예를 들어, 길이가 2이고 10kg 무게를 견디는 다리가 있습니다. 무게가 [7, 4, 5, 6]kg인 트럭이 순서대로 최단 시간 안에 다리를 건너려면 다음과 같이 건너야 합니다.\n",
    "  \n",
    "경과 시간\t다리를 지난 트럭\t다리를 건너는 트럭\t대기 트럭  \n",
    "0\t[]\t[]\t[7,4,5,6]  \n",
    "1~2\t[]\t[7]\t[4,5,6]  \n",
    "3\t[7]\t[4]\t[5,6]  \n",
    "4\t[7]\t[4,5]\t[6]  \n",
    "5\t[7,4]\t[5]\t[6]  \n",
    "6~7\t[7,4,5]\t[6]\t[]    \n",
    "8\t[7,4,5,6]\t[]\t[]   \n",
    "따라서, 모든 트럭이 다리를 지나려면 최소 8초가 걸립니다.  \n",
    "  \n",
    "solution 함수의 매개변수로 다리 길이 bridge_length, 다리가 견딜 수 있는 무게 weight, 트럭별 무게 truck_weights가 주어집니다. 이때 모든 트럭이 다리를 건너려면 최소 몇 초가 걸리는지 return 하도록 solution 함수를 완성하세요.\n",
    "  \n",
    "제한 조건  \n",
    "bridge_length는 1 이상 10,000 이하입니다.  \n",
    "weight는 1 이상 10,000 이하입니다.  \n",
    "truck_weights의 길이는 1 이상 10,000 이하입니다.  \n",
    "모든 트럭의 무게는 1 이상 weight 이하입니다.  \n",
    "입출력 예  \n",
    "bridge_length\tweight\ttruck_weights\treturn  \n",
    "2\t10\t[7,4,5,6]\t8  \n",
    "100\t100\t[10]\t101  \n",
    "100\t100\t[10,10,10,10,10,10,10,10,10,10]\t110  \n"
   ]
  },
  {
   "cell_type": "code",
   "execution_count": null,
   "metadata": {},
   "outputs": [],
   "source": []
  },
  {
   "cell_type": "code",
   "execution_count": null,
   "metadata": {},
   "outputs": [],
   "source": [
    "a= []"
   ]
  },
  {
   "cell_type": "code",
   "execution_count": 3,
   "metadata": {},
   "outputs": [
    {
     "name": "stdout",
     "output_type": "stream",
     "text": [
      "2\n"
     ]
    }
   ],
   "source": [
    "if a == []:\n",
    "    print('2')"
   ]
  },
  {
   "cell_type": "code",
   "execution_count": 4,
   "metadata": {},
   "outputs": [
    {
     "data": {
      "text/plain": [
       "0"
      ]
     },
     "execution_count": 4,
     "metadata": {},
     "output_type": "execute_result"
    }
   ],
   "source": [
    "sum(a)"
   ]
  },
  {
   "cell_type": "code",
   "execution_count": 5,
   "metadata": {},
   "outputs": [
    {
     "ename": "IndexError",
     "evalue": "pop from empty list",
     "output_type": "error",
     "traceback": [
      "\u001b[0;31m---------------------------------------------------------------------------\u001b[0m",
      "\u001b[0;31mIndexError\u001b[0m                                Traceback (most recent call last)",
      "\u001b[0;32m<ipython-input-5-38252bcfddcc>\u001b[0m in \u001b[0;36m<module>\u001b[0;34m()\u001b[0m\n\u001b[0;32m----> 1\u001b[0;31m \u001b[0ma\u001b[0m\u001b[0;34m.\u001b[0m\u001b[0mpop\u001b[0m\u001b[0;34m(\u001b[0m\u001b[0;36m0\u001b[0m\u001b[0;34m)\u001b[0m\u001b[0;34m\u001b[0m\u001b[0m\n\u001b[0m",
      "\u001b[0;31mIndexError\u001b[0m: pop from empty list"
     ]
    }
   ],
   "source": [
    "a.pop(0)"
   ]
  },
  {
   "cell_type": "code",
   "execution_count": null,
   "metadata": {},
   "outputs": [],
   "source": [
    "# 모든 트럭이 다리를 건너려면 최소 몇 초가 걸리는지\n",
    "# (트럭은 순서대로 일렬로 지나간다!)\n",
    "\n",
    "                # 다리길이      # 견디는무게  # 각트럭 무게 \n",
    "# def solution(bridge_length, weight, truck_weights):\n",
    "def solution(b_l, w, t_w):\n",
    "    \n",
    "    time = 0 # 소요시간\n",
    "    t_on_bl = [] # 다리위의 트럭 \n",
    "    t_on_bl_left_distance =  [] # 각 b_l 만큼 충전. \n",
    "    \n",
    "    while True:\n",
    "        # print(f'{time}:time, {t_on_bl}:on_bridge, {t_w}:wait')\n",
    "        time+=1\n",
    "        \n",
    "        # 이번 타임에 빠지는 트럭 빼줌. \n",
    "        if t_on_bl_left_distance and t_on_bl_left_distance[0] == 0:\n",
    "            t_on_bl.pop(0)\n",
    "            t_on_bl_left_distance.pop(0)\n",
    "            \n",
    "        # 이번타임에 오르는 트럭 올림 \n",
    "        if t_w and (sum(t_on_bl) + t_w[0] <= w):\n",
    "            t = t_w.pop(0)\n",
    "            t_on_bl.append(t)\n",
    "            t_on_bl_left_distance.append(b_l)\n",
    "            \n",
    "\n",
    "            \n",
    "        if t_w == [] and t_on_bl == []:\n",
    "            break\n",
    "        \n",
    "        # 이번 타임에 전진한 만큼 각 트럭의 남은거리 빼줌. \n",
    "        for index in range(len(t_on_bl_left_distance)):\n",
    "            t_on_bl_left_distance[index] = t_on_bl_left_distance[index] - 1\n",
    "        \n",
    "    return time"
   ]
  }
 ],
 "metadata": {
  "kernelspec": {
   "display_name": "Python 3",
   "language": "python",
   "name": "python3"
  },
  "language_info": {
   "codemirror_mode": {
    "name": "ipython",
    "version": 3
   },
   "file_extension": ".py",
   "mimetype": "text/x-python",
   "name": "python",
   "nbconvert_exporter": "python",
   "pygments_lexer": "ipython3",
   "version": "3.6.5"
  }
 },
 "nbformat": 4,
 "nbformat_minor": 2
}
