{
 "cells": [
  {
   "cell_type": "code",
   "execution_count": 1,
   "metadata": {},
   "outputs": [],
   "source": [
    "# 참고 \n",
    "# https://www.evernote.com/u/0/client/web#?anb=true&b=5bf069d5-b1b4-4df5-bbf5-c63fb04f8d32&fs=true&n=8c146f10-8cb8-4cce-b5b7-900823b2073e&s=s372&\n",
    "\n",
    "#기본 정보 \n",
    "# nCr = n-1Cr-1 + n-1 Cr 로 나뉘므로 \n",
    "# nCn = 1 ,  nC0 = 1 이 될때 까지 재귀적으로 나눠가다가 return하면 될것. \n"
   ]
  },
  {
   "cell_type": "code",
   "execution_count": 34,
   "metadata": {},
   "outputs": [
    {
     "name": "stdout",
     "output_type": "stream",
     "text": [
      "[0, 1, 2, None, None]\n",
      "[0, 1, 3, None, None]\n",
      "[0, 1, 4, None, None]\n",
      "[0, 2, 3, None, None]\n",
      "[0, 2, 4, None, None]\n",
      "[0, 3, 4, None, None]\n",
      "[1, 2, 3, None, None]\n",
      "[1, 2, 4, None, None]\n",
      "[1, 3, 4, None, None]\n",
      "[2, 3, 4, None, None]\n"
     ]
    }
   ],
   "source": [
    "# 0 ~ n에서 r개 뽑아서 만드는 조합구해보자. (내 임의로 하는게 빠를듯)\n",
    "\n",
    "#    1,    2,   3,   4,   5 \n",
    "#  target\n",
    "\n",
    "# target은 해당 구슬을 가리키는 화살표로 5번만 가리킨다. \n",
    "# case가 두개로 갈릴시 \n",
    "# target을 선택한것, 선택 안한거로 갈리고 \n",
    "# 선택한 쪽은 앞으로의 선택이 1 줄어든다. 안선택한 쪽은 그대로 \n",
    "# target은 5번만 가리키므로 그대로 증가. \n",
    "# \n",
    "\n",
    "\n",
    "def combination(arr, index, n, r, target):\n",
    "#     print(index,r,target)\n",
    "    \n",
    "    if r == 0:\n",
    "#         print(target)\n",
    "        print(arr)\n",
    "    \n",
    "    elif n == target:\n",
    "        return\n",
    "    \n",
    "    else:\n",
    "        arr[index] = target\n",
    "\n",
    "        combination(arr,index+1,n,r-1,target + 1)\n",
    "        combination(arr,index,n,r,target + 1 )\n",
    "\n",
    "\n",
    "\n",
    "combination([None]*5,0,5,3,target = 0)\n"
   ]
  },
  {
   "cell_type": "code",
   "execution_count": 7,
   "metadata": {},
   "outputs": [
    {
     "data": {
      "text/plain": [
       "10"
      ]
     },
     "execution_count": 7,
     "metadata": {},
     "output_type": "execute_result"
    }
   ],
   "source": [
    "count"
   ]
  },
  {
   "cell_type": "code",
   "execution_count": null,
   "metadata": {},
   "outputs": [],
   "source": []
  },
  {
   "cell_type": "code",
   "execution_count": null,
   "metadata": {},
   "outputs": [],
   "source": []
  },
  {
   "cell_type": "code",
   "execution_count": null,
   "metadata": {},
   "outputs": [],
   "source": []
  },
  {
   "cell_type": "code",
   "execution_count": 40,
   "metadata": {},
   "outputs": [
    {
     "data": {
      "text/plain": [
       "[['a', 'b', 'c', None, None],\n",
       " ['a', 'b', 'd', None, None],\n",
       " ['a', 'b', 'e', None, None],\n",
       " ['a', 'c', 'd', None, None],\n",
       " ['a', 'c', 'e', None, None],\n",
       " ['a', 'd', 'e', None, None],\n",
       " ['b', 'c', 'd', None, None],\n",
       " ['b', 'c', 'e', None, None],\n",
       " ['b', 'd', 'e', None, None],\n",
       " ['c', 'd', 'e', None, None]]"
      ]
     },
     "execution_count": 40,
     "metadata": {},
     "output_type": "execute_result"
    }
   ],
   "source": [
    "# A에서 3개 뽑는 경우를 조합해보자. 5C3 = 10 \n",
    "\n",
    "# 이번에는 재귀시 n-1해가면서 함수 호출 해보겠슴. \n",
    "\n",
    "import copy \n",
    "\n",
    "A = [\"a\",\"b\",\"c\",\"d\",\"e\"] \n",
    "N = len(A)\n",
    "sets = []\n",
    "\n",
    "def combination(arr,n,r,index):\n",
    "    global A\n",
    "    global N\n",
    "    global sets\n",
    "    \n",
    "    \n",
    "    \n",
    "    if r==0:\n",
    "        \n",
    "        temp = copy.deepcopy(arr)\n",
    "        sets.append(temp)\n",
    "        return\n",
    "        \n",
    "    elif n==0:\n",
    "        return\n",
    "    \n",
    "    else:\n",
    "        arr[index] = A[N-n]\n",
    "\n",
    "        combination(arr,n-1,r-1,index+1)\n",
    "        combination(arr,n-1,r,index)\n",
    "\n",
    "\n",
    "combination(arr=[None]*5, n=5, r=3, index=0)\n",
    "sets"
   ]
  },
  {
   "cell_type": "code",
   "execution_count": 48,
   "metadata": {},
   "outputs": [
    {
     "data": {
      "text/plain": [
       "[['a', 'b', 'c', None, None],\n",
       " ['a', 'b', 'd', None, None],\n",
       " ['a', 'b', 'e', None, None],\n",
       " ['a', 'c', 'd', None, None],\n",
       " ['a', 'c', 'e', None, None],\n",
       " ['a', 'd', 'e', None, None],\n",
       " ['b', 'c', 'd', None, None],\n",
       " ['b', 'c', 'e', None, None],\n",
       " ['b', 'd', 'e', None, None],\n",
       " ['c', 'd', 'e', None, None]]"
      ]
     },
     "execution_count": 48,
     "metadata": {},
     "output_type": "execute_result"
    }
   ],
   "source": [
    "# 좀더 보기 쉽게 바꿔보자. \n",
    "\n",
    "# 앞서서 썼던 target사용, \n",
    "# 전역변수 sets만 써보겠슴 .\n",
    "\n",
    "import copy \n",
    "sets = []\n",
    "\n",
    "def combination(candidates, arr, n, r, index,target):\n",
    "\n",
    "    global sets\n",
    "    \n",
    "    \n",
    "    \n",
    "    if r==0:\n",
    "        temp = copy.deepcopy(arr)\n",
    "        sets.append(temp)\n",
    "        return\n",
    "        \n",
    "    elif target == n:\n",
    "        return\n",
    "    \n",
    "    else:\n",
    "        arr[index] = A[target]\n",
    "        combination(candidates, arr, n, r-1, index+1,target+1)\n",
    "        combination(candidates, arr, n, r, index,target+1)\n",
    "\n",
    "combination(candidates = [\"a\",\"b\",\"c\",\"d\",\"e\"] , arr=[None]*5, n=5, r=3, index=0,target=0)\n",
    "sets"
   ]
  },
  {
   "cell_type": "code",
   "execution_count": null,
   "metadata": {},
   "outputs": [],
   "source": []
  }
 ],
 "metadata": {
  "kernelspec": {
   "display_name": "Python 3",
   "language": "python",
   "name": "python3"
  },
  "language_info": {
   "codemirror_mode": {
    "name": "ipython",
    "version": 3
   },
   "file_extension": ".py",
   "mimetype": "text/x-python",
   "name": "python",
   "nbconvert_exporter": "python",
   "pygments_lexer": "ipython3",
   "version": "3.6.5"
  }
 },
 "nbformat": 4,
 "nbformat_minor": 2
}
