{
 "cells": [
  {
   "cell_type": "code",
   "execution_count": 1,
   "metadata": {},
   "outputs": [
    {
     "ename": "SyntaxError",
     "evalue": "invalid syntax (<ipython-input-1-e2f77e0479be>, line 1)",
     "output_type": "error",
     "traceback": [
      "\u001b[0;36m  File \u001b[0;32m\"<ipython-input-1-e2f77e0479be>\"\u001b[0;36m, line \u001b[0;32m1\u001b[0m\n\u001b[0;31m    문제 설명\u001b[0m\n\u001b[0m        ^\u001b[0m\n\u001b[0;31mSyntaxError\u001b[0m\u001b[0;31m:\u001b[0m invalid syntax\n"
     ]
    }
   ],
   "source": [
    "문제 설명\n",
    "어떤 숫자에서 k개의 수를 제거했을 때 얻을 수 있는 가장 큰 숫자를 구하려 합니다.\n",
    "\n",
    "예를 들어, 숫자 1924에서 수 두 개를 제거하면 [19, 12, 14, 92, 94, 24] 를 만들 수 있습니다. \n",
    "이 중 가장 큰 숫자는 94 입니다.\n",
    "\n",
    "문자열 형식으로 숫자 number와 제거할 수의 개수 k가 solution 함수의 매개변수로 주어집니다.\n",
    "number에서 k 개의 수를 제거했을 때 만들 수 있는 수 중 가장 큰 숫자를 문자열 형태로 return 하도록\n",
    "solution 함수를 완성하세요.\n",
    "\n",
    "제한 조건\n",
    "number는 1자리 이상, 1,000,000자리 이하인 숫자입니다.\n",
    "k는 1 이상 number의 자릿수 미만인 자연수입니다.\n",
    "입출력 예\n",
    "number\tk\treturn\n",
    "1924\t2\t94\n",
    "1231234\t3\t3234\n",
    "4177252841"
   ]
  },
  {
   "cell_type": "code",
   "execution_count": 36,
   "metadata": {},
   "outputs": [],
   "source": [
    "# 해당 리스트에서 1개 없애면 최대인 값을 리턴해주자.  -> 6,7,8,9,10 시간초과 \n",
    "def get_max_value_if_pop_one(a):\n",
    "    \n",
    "    candidates = []\n",
    "    \n",
    "    for i in range(len(a)):\n",
    "        \n",
    "        if i == 0:\n",
    "            temp = a[1:]\n",
    "        elif i == len(a)-1:\n",
    "            temp = a[:-1]\n",
    "        else:\n",
    "            temp = a[:i] + a[i+1:]\n",
    "            \n",
    "        candidates.append(temp)\n",
    "        \n",
    "    return max(candidates)\n",
    "    \n",
    "    \n",
    "    \n",
    "    \n",
    "    \n",
    "    \n",
    "    \n",
    "def solution(number, k):\n",
    "        \n",
    "    for i in range(k):\n",
    "        print(number)\n",
    "        number = get_max_value_if_pop_one(number)\n",
    "        \n",
    "        \n",
    "    \n",
    "    \n",
    "    return number"
   ]
  },
  {
   "cell_type": "code",
   "execution_count": 72,
   "metadata": {},
   "outputs": [],
   "source": [
    "# 해당 리스트에서 1개 없애면 최대인 값을 리턴해주자.  -> 6,7,8,9,10 시간초과 \n",
    "def get_max_value_if_pop_one(a):\n",
    "    \n",
    "    max_value = '0'\n",
    "    for i in range(len(a)):\n",
    "        if a[:i] + a[i+1:] >= max_value:\n",
    "            max_value = a[:i] + a[i+1:]\n",
    "        \n",
    "    return max_value\n",
    "\n",
    "def solution(number, k):\n",
    "        \n",
    "    for i in range(k):\n",
    "        print(number)\n",
    "        number = get_max_value_if_pop_one(number)\n",
    "        \n",
    "        \n",
    "    \n",
    "    \n",
    "    return number"
   ]
  },
  {
   "cell_type": "code",
   "execution_count": 55,
   "metadata": {},
   "outputs": [],
   "source": [
    "# 해당 리스트에서 1개 없애면 최대인 값을 리턴해주자.  -> 6,7,8,9,10 시간초과 \n",
    "\n",
    "def solution(number, k):\n",
    "        \n",
    "    for i in range(k):\n",
    "        # print(number)\n",
    "        max_value = '0'\n",
    "        for i in range(len(number)):\n",
    "            if number[:i] + number[i+1:] >= max_value:\n",
    "                max_value = number[:i] + number[i+1:]\n",
    "        \n",
    "        number = max_value\n",
    "                    \n",
    "    return number"
   ]
  },
  {
   "cell_type": "code",
   "execution_count": 50,
   "metadata": {},
   "outputs": [
    {
     "name": "stdout",
     "output_type": "stream",
     "text": [
      "1924\n",
      "924\n"
     ]
    },
    {
     "data": {
      "text/plain": [
       "'94'"
      ]
     },
     "execution_count": 50,
     "metadata": {},
     "output_type": "execute_result"
    }
   ],
   "source": [
    "number = \"1924\"          \n",
    "k  = 2\n",
    "solution(number, k) # 94 \n",
    "\n",
    "# 924, 124, 194, 192 중 큰갑 -> 924 \n",
    "# 24, 94, 92 중 큰값 -> 94 "
   ]
  },
  {
   "cell_type": "code",
   "execution_count": 51,
   "metadata": {},
   "outputs": [
    {
     "name": "stdout",
     "output_type": "stream",
     "text": [
      "1231234\n",
      "231234\n",
      "31234\n"
     ]
    },
    {
     "data": {
      "text/plain": [
       "'3234'"
      ]
     },
     "execution_count": 51,
     "metadata": {},
     "output_type": "execute_result"
    }
   ],
   "source": [
    "number = \"1231234\"\n",
    "k  = 3\n",
    "solution(number, k) # 3234\n",
    "\n",
    "# 231234, 131234, 121234, 123234, 123134, 123124, 1231223 중 큰값  -> 231234  \n",
    "# ~중 큰값 -> 31234\n",
    "# ~중 큰값 -> 3234"
   ]
  },
  {
   "cell_type": "code",
   "execution_count": 52,
   "metadata": {},
   "outputs": [
    {
     "name": "stdout",
     "output_type": "stream",
     "text": [
      "4177252841\n",
      "477252841\n",
      "77252841\n",
      "7752841\n"
     ]
    },
    {
     "data": {
      "text/plain": [
       "'775841'"
      ]
     },
     "execution_count": 52,
     "metadata": {},
     "output_type": "execute_result"
    }
   ],
   "source": [
    "number = \"4177252841\"\n",
    "k  = 4\n",
    "solution(number, k) # 775841"
   ]
  },
  {
   "cell_type": "code",
   "execution_count": 2,
   "metadata": {},
   "outputs": [],
   "source": [
    "aaa = '1234'"
   ]
  },
  {
   "cell_type": "code",
   "execution_count": 8,
   "metadata": {},
   "outputs": [],
   "source": [
    "b = aaa[1] + aaa[2]"
   ]
  },
  {
   "cell_type": "code",
   "execution_count": 9,
   "metadata": {},
   "outputs": [
    {
     "data": {
      "text/plain": [
       "'23'"
      ]
     },
     "execution_count": 9,
     "metadata": {},
     "output_type": "execute_result"
    }
   ],
   "source": [
    "b"
   ]
  },
  {
   "cell_type": "code",
   "execution_count": 10,
   "metadata": {},
   "outputs": [
    {
     "data": {
      "text/plain": [
       "'2'"
      ]
     },
     "execution_count": 10,
     "metadata": {},
     "output_type": "execute_result"
    }
   ],
   "source": [
    "b[:-1]"
   ]
  },
  {
   "cell_type": "code",
   "execution_count": 23,
   "metadata": {},
   "outputs": [],
   "source": [
    "aaa = '123456789'"
   ]
  },
  {
   "cell_type": "code",
   "execution_count": 30,
   "metadata": {},
   "outputs": [],
   "source": [
    "k =  aaa[:1] + aaa[1+1:]"
   ]
  },
  {
   "cell_type": "code",
   "execution_count": 31,
   "metadata": {},
   "outputs": [
    {
     "data": {
      "text/plain": [
       "'134567899'"
      ]
     },
     "execution_count": 31,
     "metadata": {},
     "output_type": "execute_result"
    }
   ],
   "source": [
    "k"
   ]
  },
  {
   "cell_type": "code",
   "execution_count": 40,
   "metadata": {},
   "outputs": [
    {
     "data": {
      "text/plain": [
       "True"
      ]
     },
     "execution_count": 40,
     "metadata": {},
     "output_type": "execute_result"
    }
   ],
   "source": [
    "'11'>'0'"
   ]
  },
  {
   "cell_type": "code",
   "execution_count": 47,
   "metadata": {},
   "outputs": [],
   "source": [
    "a= '123456789'\n",
    "i = 0"
   ]
  },
  {
   "cell_type": "code",
   "execution_count": 48,
   "metadata": {},
   "outputs": [
    {
     "data": {
      "text/plain": [
       "'23456789'"
      ]
     },
     "execution_count": 48,
     "metadata": {},
     "output_type": "execute_result"
    }
   ],
   "source": [
    "a[:i] + a[i+1:]"
   ]
  },
  {
   "cell_type": "code",
   "execution_count": 56,
   "metadata": {},
   "outputs": [
    {
     "data": {
      "text/plain": [
       "'123456789'"
      ]
     },
     "execution_count": 56,
     "metadata": {},
     "output_type": "execute_result"
    }
   ],
   "source": [
    "a"
   ]
  },
  {
   "cell_type": "code",
   "execution_count": 57,
   "metadata": {},
   "outputs": [
    {
     "ename": "AttributeError",
     "evalue": "'str' object has no attribute 'pop'",
     "output_type": "error",
     "traceback": [
      "\u001b[0;31m---------------------------------------------------------------------------\u001b[0m",
      "\u001b[0;31mAttributeError\u001b[0m                            Traceback (most recent call last)",
      "\u001b[0;32m<ipython-input-57-38252bcfddcc>\u001b[0m in \u001b[0;36m<module>\u001b[0;34m\u001b[0m\n\u001b[0;32m----> 1\u001b[0;31m \u001b[0ma\u001b[0m\u001b[0;34m.\u001b[0m\u001b[0mpop\u001b[0m\u001b[0;34m(\u001b[0m\u001b[0;36m0\u001b[0m\u001b[0;34m)\u001b[0m\u001b[0;34m\u001b[0m\u001b[0;34m\u001b[0m\u001b[0m\n\u001b[0m",
      "\u001b[0;31mAttributeError\u001b[0m: 'str' object has no attribute 'pop'"
     ]
    }
   ],
   "source": [
    "a.pop(0)"
   ]
  },
  {
   "cell_type": "code",
   "execution_count": null,
   "metadata": {},
   "outputs": [],
   "source": []
  },
  {
   "cell_type": "code",
   "execution_count": 85,
   "metadata": {},
   "outputs": [],
   "source": [
    "# 좋은 아이디어.  -> 틀린 아이디어임.... \n",
    "\n",
    "# 앞자리부터 순서대로 뒤로 가면서 \n",
    "# 앞자리 없애는 것이 뒷자리 없애는것보다 작으면 앞자리 바로 없앰. \n",
    "# (여기서 중요한 아이디어는 매번 완전한 답 즉 1개 없앨시 가장 큰값 을 구해 나가는 것이 아니라 \n",
    "# 당장 없애 버려도 상관없는거 암거나 없애나가는것 앞부터 훑어가면서 \n",
    "\n",
    "def solution(number, k):\n",
    "        \n",
    "    \n",
    "        \n",
    "    for i in range(k):\n",
    "        # print(number)\n",
    "        pre_value = '9'*(len(number)-1-i)\n",
    "        p_i = 0\n",
    "        \n",
    "        for i in range(len(number)):\n",
    "            \n",
    "            now_value = number[:i] + number[i+1:]\n",
    "            \n",
    "            if pre_value < now_value:\n",
    "                p_i = i\n",
    "                print(pre_value, now_value)\n",
    "                break\n",
    "                \n",
    "            pre_value = now_value\n",
    "            \n",
    "        print(p_i)\n",
    "#         print(number)\n",
    "        number = number[:p_i] + number[p_i+1:]\n",
    "        print(number)    \n",
    "        \n",
    "        \n",
    "                    \n",
    "    return number\n",
    "\n"
   ]
  },
  {
   "cell_type": "code",
   "execution_count": 86,
   "metadata": {},
   "outputs": [
    {
     "name": "stdout",
     "output_type": "stream",
     "text": [
      "177252841 477252841\n",
      "1\n",
      "477252841\n",
      "47252841 47752841\n",
      "3\n",
      "47752841\n",
      "4752841 4772841\n",
      "3\n",
      "4772841\n",
      "472841 477841\n",
      "3\n",
      "477841\n"
     ]
    },
    {
     "data": {
      "text/plain": [
       "'477841'"
      ]
     },
     "execution_count": 86,
     "metadata": {},
     "output_type": "execute_result"
    }
   ],
   "source": [
    "number = \"4177252841\"\n",
    "k  = 4\n",
    "solution(number, k) # 775841"
   ]
  },
  {
   "cell_type": "code",
   "execution_count": 65,
   "metadata": {},
   "outputs": [
    {
     "data": {
      "text/plain": [
       "False"
      ]
     },
     "execution_count": 65,
     "metadata": {},
     "output_type": "execute_result"
    }
   ],
   "source": [
    "'112' > '22'"
   ]
  },
  {
   "cell_type": "code",
   "execution_count": 66,
   "metadata": {},
   "outputs": [
    {
     "data": {
      "text/plain": [
       "'1111'"
      ]
     },
     "execution_count": 66,
     "metadata": {},
     "output_type": "execute_result"
    }
   ],
   "source": [
    "'1'*4"
   ]
  },
  {
   "cell_type": "code",
   "execution_count": 82,
   "metadata": {},
   "outputs": [
    {
     "data": {
      "text/plain": [
       "'23456789'"
      ]
     },
     "execution_count": 82,
     "metadata": {},
     "output_type": "execute_result"
    }
   ],
   "source": [
    "\n",
    "number = '123456789'\n",
    "p_i = 0\n",
    "number[:p_i] + number[p_i+1:]"
   ]
  },
  {
   "cell_type": "code",
   "execution_count": 90,
   "metadata": {},
   "outputs": [],
   "source": [
    "# 참고할 코드 \n",
    "\n",
    "def solution(number, k):\n",
    "    s=0\n",
    "    length=len(number)\n",
    "    \n",
    "    for i in range(k):\n",
    "        isEnd=True\n",
    "        \n",
    "        for j in range(s,length-1):\n",
    "            \n",
    "            if number[j]<number[j+1]:\n",
    "                isEnd=False\n",
    "                number=number[:j]+number[j+1:]\n",
    "                length-=1#숫자 하나를 제외했으므로 길이 감소\n",
    "                # 제외된 인덱스에 뒤 인덱스 값이 오므로 인덱스 조정해야 함\n",
    "                \n",
    "                if j>0:#인덱스가 1이상인 경우 인덱스 하나 줄이면 제자리에서 새로 온 값과 다시 비교 가능해짐\n",
    "                    # (위 for문에서 s가 1 증가하므로)\n",
    "                    s=j-1\n",
    "                else:#인덱스가 0인 경우 처음부터 다시 비교\n",
    "                    s=0\n",
    "                break#작은 수 제외시켰으므로 다음 것 찾기\n",
    "                \n",
    "        if isEnd==True:#문자열 맨 마지막을 제외 시킴\n",
    "            print('hi')\n",
    "            number=number[:-1]\n",
    "            s=j-1#인덱스 하나 줄이기\n",
    "            \n",
    "    return number\n",
    "\n",
    "\n"
   ]
  },
  {
   "cell_type": "code",
   "execution_count": null,
   "metadata": {},
   "outputs": [],
   "source": []
  },
  {
   "cell_type": "code",
   "execution_count": null,
   "metadata": {},
   "outputs": [],
   "source": []
  },
  {
   "cell_type": "code",
   "execution_count": null,
   "metadata": {},
   "outputs": [],
   "source": []
  },
  {
   "cell_type": "code",
   "execution_count": null,
   "metadata": {},
   "outputs": [],
   "source": []
  },
  {
   "cell_type": "code",
   "execution_count": null,
   "metadata": {},
   "outputs": [],
   "source": []
  },
  {
   "cell_type": "code",
   "execution_count": null,
   "metadata": {},
   "outputs": [],
   "source": []
  },
  {
   "cell_type": "code",
   "execution_count": null,
   "metadata": {},
   "outputs": [],
   "source": []
  },
  {
   "cell_type": "code",
   "execution_count": null,
   "metadata": {},
   "outputs": [],
   "source": []
  },
  {
   "cell_type": "code",
   "execution_count": null,
   "metadata": {},
   "outputs": [],
   "source": []
  },
  {
   "cell_type": "code",
   "execution_count": null,
   "metadata": {},
   "outputs": [],
   "source": []
  },
  {
   "cell_type": "code",
   "execution_count": null,
   "metadata": {},
   "outputs": [],
   "source": []
  },
  {
   "cell_type": "code",
   "execution_count": null,
   "metadata": {},
   "outputs": [],
   "source": []
  },
  {
   "cell_type": "code",
   "execution_count": null,
   "metadata": {},
   "outputs": [],
   "source": []
  },
  {
   "cell_type": "code",
   "execution_count": null,
   "metadata": {},
   "outputs": [],
   "source": []
  },
  {
   "cell_type": "code",
   "execution_count": null,
   "metadata": {},
   "outputs": [],
   "source": []
  },
  {
   "cell_type": "code",
   "execution_count": null,
   "metadata": {},
   "outputs": [],
   "source": []
  },
  {
   "cell_type": "code",
   "execution_count": null,
   "metadata": {},
   "outputs": [],
   "source": []
  },
  {
   "cell_type": "code",
   "execution_count": null,
   "metadata": {},
   "outputs": [],
   "source": [
    "\n"
   ]
  },
  {
   "cell_type": "code",
   "execution_count": 98,
   "metadata": {},
   "outputs": [],
   "source": [
    "# 47 23333 2자리 없애기   \n",
    "# 723333 -> 73333\n",
    "\n",
    "# 47 32333 2자리 없애기 \n",
    "# 732333 -> 73333\n",
    "\n",
    "# 4733333 2자리 없애기  (같은경우 \n",
    "# 733333 -> 73333\n",
    "\n",
    "\n",
    "# 4733323 2자리 없애기 (뒤에 2 없애는것이 나은경우 ) \n",
    "\n",
    "# 4732100\n",
    "\n",
    "\n",
    "# 47334\n",
    "\n",
    "# 476655  ->이경우 55를 지우는 편이 더 났다. \n",
    "# 475566\n",
    "# 476655444444499\n",
    "\n",
    "\n",
    "# 컨셉을 바꿔서 앞자리 바로 뒷자리를 비교하는 방식으로 하자. \n",
    "# 중요한 사실은 앞자리가 뒷자리보다 커야지 큰숫자가된다. \n",
    "# 1. 한자리씩 이동해 나가면서 앞뒤 비교 -> 앞자리 < 뒷자리 면  앞자리 삭제  \n",
    "#                                -> 앞자리 >뒷자리 면 통과 \n",
    "#                                -> 앞자리 = 뒷자리 면 일단 통과 \n",
    "#                                   \n",
    "# 2. 한자리 삭제시 다시 앞부터 앞뒤 비교 \n",
    "\n",
    "# 3. 끝까지 갔는데 안끝나면 같은 부분 애서 줄여준다. \n",
    "\n",
    "def solution(number, k):\n",
    "    \n",
    "    count = 0 \n",
    "    while True:\n",
    "        \n",
    "        is_hit_last = False  # 마지막 바로전 원소까지 검사해본 경우 \n",
    "        \n",
    "        for i, num in enumerate(number):\n",
    "            # 맨 마지막은 건넘.(다음 수와 비교 불가->인덱스 끝이라서) \n",
    "            if i == len(number)-1:\n",
    "                is_hit_last = True\n",
    "                break\n",
    "                \n",
    "            if number[i] < number[i+1]:\n",
    "                number = number[:i] + number[i+1:]\n",
    "                count+=1 \n",
    "                break\n",
    "            elif number[i] > number[i+1]:\n",
    "                pass\n",
    "            elif number[i] == number[i+1]:\n",
    "                pass\n",
    "            \n",
    "            \n",
    "        if count == k:\n",
    "            break\n",
    "        \n",
    "        # 끝가지 돌았는데도 다 삭제 다 못했으면 맨뒤 부터 남은만큼 삭제함. \n",
    "        if count !=k and is_hit_last:\n",
    "            s = k-count\n",
    "            number = number[:-s]\n",
    "    \n",
    "                    \n",
    "    return number\n",
    "\n"
   ]
  },
  {
   "cell_type": "code",
   "execution_count": 99,
   "metadata": {},
   "outputs": [
    {
     "data": {
      "text/plain": [
       "'775841'"
      ]
     },
     "execution_count": 99,
     "metadata": {},
     "output_type": "execute_result"
    }
   ],
   "source": [
    "number = \"4177252841\"\n",
    "# number = \"41477252841\"\n",
    "k  = 4\n",
    "solution(number, k) # 775841"
   ]
  },
  {
   "cell_type": "code",
   "execution_count": null,
   "metadata": {},
   "outputs": [],
   "source": []
  },
  {
   "cell_type": "code",
   "execution_count": 110,
   "metadata": {},
   "outputs": [],
   "source": [
    "# 47 23333 2자리 없애기   \n",
    "# 723333 -> 73333\n",
    "\n",
    "# 47 32333 2자리 없애기 \n",
    "# 732333 -> 73333\n",
    "\n",
    "# 4733333 2자리 없애기  (같은경우 \n",
    "# 733333 -> 73333\n",
    "\n",
    "\n",
    "# 4733323 2자리 없애기 (뒤에 2 없애는것이 나은경우 ) \n",
    "\n",
    "# 4732100\n",
    "\n",
    "\n",
    "# 47334\n",
    "\n",
    "# 476655  ->이경우 55를 지우는 편이 더 났다. \n",
    "# 475566\n",
    "# 476655444444499\n",
    "\n",
    "\n",
    "# 컨셉을 바꿔서 앞자리 바로 뒷자리를 비교하는 방식으로 하자. \n",
    "# 중요한 사실은 앞자리가 뒷자리보다 커야지 큰숫자가된다. \n",
    "# 1. 한자리씩 이동해 나가면서 앞뒤 비교 -> 앞자리 < 뒷자리 면  앞자리 삭제  \n",
    "#                                -> 앞자리 >뒷자리 면 통과 \n",
    "#                                -> 앞자리 = 뒷자리 면 일단 통과 \n",
    "#                                   \n",
    "# 2. 한자리 삭제시 다시 앞부터 앞뒤 비교 \n",
    "\n",
    "# 3. 끝까지 갔는데 안끝나면 같은 부분 애서 줄여준다. \n",
    "\n",
    "# 4. + 참고 코드에서보면 검사를 재시작 하는 지점이 s로 이전에 pop한곳의 바로 앞이다. \n",
    "# 바로앞, 팝한곳, 바로다음 순서 이니 \n",
    "# 바로앞 과 바로 다음도 비교해야 되기 때문. (그 앞으로는 이미 한번 훓은거라 중복검사 하는것과 같은 이치 ) \n",
    "def solution(number, k):\n",
    "    \n",
    "    count = 0\n",
    "    s=0\n",
    "    \n",
    "    while True:\n",
    "        \n",
    "        is_hit_last = False  # 마지막 바로전 원소까지 검사해본 경우 \n",
    "        \n",
    "        for i in range(s,len(number)):\n",
    "            # 맨 마지막은 건넘.(다음 수와 비교 불가->인덱스 끝이라서) \n",
    "            if i == len(number)-1:\n",
    "                is_hit_last = True\n",
    "                break\n",
    "                \n",
    "            if number[i] < number[i+1]:\n",
    "                number = number[:i] + number[i+1:]\n",
    "                count+=1\n",
    "                \n",
    "                if i >0:\n",
    "                    s = i -1\n",
    "                else:\n",
    "                    s = 0\n",
    "                \n",
    "                break\n",
    "            \n",
    "        if count == k:\n",
    "            break\n",
    "        \n",
    "        # 끝가지 돌았는데도 다 삭제 다 못했으면 맨뒤 부터 남은만큼 삭제함.\n",
    "        # (이미 역순은 없는 상태임 무조건 맨 마지막에 남은것들이 없애도 좋은값들)\n",
    "        if count !=k and is_hit_last:\n",
    "            ss = k-count\n",
    "            number = number[:-ss]\n",
    "    \n",
    "                    \n",
    "    return number\n",
    "\n"
   ]
  },
  {
   "cell_type": "code",
   "execution_count": 111,
   "metadata": {},
   "outputs": [
    {
     "data": {
      "text/plain": [
       "'775841'"
      ]
     },
     "execution_count": 111,
     "metadata": {},
     "output_type": "execute_result"
    }
   ],
   "source": [
    "number = \"4177252841\"\n",
    "# number = \"41477252841\"\n",
    "k  = 4\n",
    "solution(number, k) # 775841"
   ]
  },
  {
   "cell_type": "code",
   "execution_count": null,
   "metadata": {},
   "outputs": [],
   "source": []
  },
  {
   "cell_type": "code",
   "execution_count": null,
   "metadata": {},
   "outputs": [],
   "source": []
  },
  {
   "cell_type": "code",
   "execution_count": null,
   "metadata": {},
   "outputs": [],
   "source": []
  },
  {
   "cell_type": "code",
   "execution_count": null,
   "metadata": {},
   "outputs": [],
   "source": []
  },
  {
   "cell_type": "code",
   "execution_count": null,
   "metadata": {},
   "outputs": [],
   "source": []
  }
 ],
 "metadata": {
  "kernelspec": {
   "display_name": "Python 3",
   "language": "python",
   "name": "python3"
  },
  "language_info": {
   "codemirror_mode": {
    "name": "ipython",
    "version": 3
   },
   "file_extension": ".py",
   "mimetype": "text/x-python",
   "name": "python",
   "nbconvert_exporter": "python",
   "pygments_lexer": "ipython3",
   "version": "3.6.5"
  }
 },
 "nbformat": 4,
 "nbformat_minor": 2
}
