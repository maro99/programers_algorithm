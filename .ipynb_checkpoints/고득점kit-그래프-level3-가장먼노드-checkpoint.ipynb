{
 "cells": [
  {
   "cell_type": "code",
   "execution_count": 1,
   "metadata": {},
   "outputs": [
    {
     "ename": "SyntaxError",
     "evalue": "invalid syntax (<ipython-input-1-88ededd6b262>, line 1)",
     "output_type": "error",
     "traceback": [
      "\u001b[0;36m  File \u001b[0;32m\"<ipython-input-1-88ededd6b262>\"\u001b[0;36m, line \u001b[0;32m1\u001b[0m\n\u001b[0;31m    https://programmers.co.kr/learn/courses/30/lessons/49189?language=python3\u001b[0m\n\u001b[0m           ^\u001b[0m\n\u001b[0;31mSyntaxError\u001b[0m\u001b[0;31m:\u001b[0m invalid syntax\n"
     ]
    }
   ],
   "source": [
    "https://programmers.co.kr/learn/courses/30/lessons/49189?language=python3\n",
    "    \n",
    "문제 설명\n",
    "n개의 노드가 있는 그래프가 있습니다. 각 노드는 1부터 n까지 번호가 적혀있습니다. 1번 노드에서 가장 멀리 떨어진 노드의 갯수를 구하려고 합니다. 가장 멀리 떨어진 노드란 최단경로로 이동했을 때 간선의 개수가 가장 많은 노드들을 의미합니다.\n",
    "\n",
    "노드의 개수 n, 간선에 대한 정보가 담긴 2차원 배열 vertex가 매개변수로 주어질 때, 1번 노드로부터 가장 멀리 떨어진 노드가 몇 개인지를 return 하도록 solution 함수를 작성해주세요.\n",
    "\n",
    "제한사항\n",
    "노드의 개수 n은 2 이상 20,000 이하입니다.\n",
    "간선은 양방향이며 총 1개 이상 50,000개 이하의 간선이 있습니다.\n",
    "vertex 배열 각 행 [a, b]는 a번 노드와 b번 노드 사이에 간선이 있다는 의미입니다.\n",
    "입출력 예\n",
    "n\tvertex\treturn\n",
    "6\t[[3, 6], [4, 3], [3, 2], [1, 3], [1, 2], [2, 4], [5, 2]]\t3\n",
    "입출력 예 설명\n",
    "예제의 그래프를 표현하면 아래 그림과 같고, 1번 노드에서 가장 멀리 떨어진 노드는 4,5,6번 노드입니다.\n",
    "\n",
    "image.png"
   ]
  },
  {
   "cell_type": "code",
   "execution_count": 30,
   "metadata": {},
   "outputs": [],
   "source": [
    "# . 1번 노드에서 가장 멀리 떨어진 노드의 갯수\n",
    "# https://www.youtube.com/watch?v=0XgVhsMOcQM 참고 \n",
    "\n",
    "def solution(n, edge):\n",
    "    global visited\n",
    "    \n",
    "    # 먼저 간선에대한 식을 익숙한 노드에서의 인접노드 나타내는 리스트 형태로 바꿔보겠다. \n",
    "    nodes = []\n",
    "    for i in range(n):\n",
    "        nodes.append([])\n",
    "    \n",
    "    \n",
    "    \n",
    "    for index,item in enumerate(edge):\n",
    "        fr,to = item\n",
    "#         print(fr,to)\n",
    "#         print(nodes)\n",
    "        nodes[fr-1].append(to-1)\n",
    "        nodes[to-1].append(fr-1)\n",
    "    \n",
    "    \n",
    "    # 0번 노드에서 각 노드의 최단거리 구해보자. \n",
    "\n",
    "    distances = [-1]*n\n",
    "    queue = []\n",
    "    queue.append(0)\n",
    "    distances[0] = 0\n",
    "    \n",
    "\n",
    "    while queue:\n",
    "        \n",
    "        parent = queue.pop(0)\n",
    "        \n",
    "        for child in nodes[parent]:\n",
    "            if distances[child] == -1:\n",
    "                distances[child] = distances[parent] + 1\n",
    "                queue.append(child)\n",
    "    \n",
    "    \n",
    "    max_distance = max(distances)\n",
    "    count = 0 \n",
    "    for num in distances:\n",
    "        if max_distance == num:\n",
    "            count+=1\n",
    "    \n",
    "    \n",
    "    \n",
    "    return count\n",
    "\n"
   ]
  },
  {
   "cell_type": "code",
   "execution_count": 31,
   "metadata": {},
   "outputs": [
    {
     "data": {
      "text/plain": [
       "3"
      ]
     },
     "execution_count": 31,
     "metadata": {},
     "output_type": "execute_result"
    }
   ],
   "source": [
    "n = 6\n",
    "edge = [[3, 6], [4, 3], [3, 2], [1, 3], [1, 2], [2, 4], [5, 2]]\n",
    "\n",
    "solution(n, edge) # 3 "
   ]
  },
  {
   "cell_type": "code",
   "execution_count": 9,
   "metadata": {},
   "outputs": [],
   "source": [
    "x,y = [1,2]"
   ]
  },
  {
   "cell_type": "code",
   "execution_count": 10,
   "metadata": {},
   "outputs": [
    {
     "data": {
      "text/plain": [
       "1"
      ]
     },
     "execution_count": 10,
     "metadata": {},
     "output_type": "execute_result"
    }
   ],
   "source": [
    "x"
   ]
  },
  {
   "cell_type": "code",
   "execution_count": null,
   "metadata": {},
   "outputs": [],
   "source": []
  }
 ],
 "metadata": {
  "kernelspec": {
   "display_name": "Python 3",
   "language": "python",
   "name": "python3"
  },
  "language_info": {
   "codemirror_mode": {
    "name": "ipython",
    "version": 3
   },
   "file_extension": ".py",
   "mimetype": "text/x-python",
   "name": "python",
   "nbconvert_exporter": "python",
   "pygments_lexer": "ipython3",
   "version": "3.6.5"
  }
 },
 "nbformat": 4,
 "nbformat_minor": 2
}
