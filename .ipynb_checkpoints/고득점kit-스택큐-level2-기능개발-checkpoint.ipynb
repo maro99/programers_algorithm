{
 "cells": [
  {
   "cell_type": "code",
   "execution_count": 6,
   "metadata": {},
   "outputs": [
    {
     "ename": "IndexError",
     "evalue": "pop index out of range",
     "output_type": "error",
     "traceback": [
      "\u001b[0;31m---------------------------------------------------------------------------\u001b[0m",
      "\u001b[0;31mIndexError\u001b[0m                                Traceback (most recent call last)",
      "\u001b[0;32m<ipython-input-6-70d01e13a697>\u001b[0m in \u001b[0;36m<module>\u001b[0;34m()\u001b[0m\n\u001b[1;32m      3\u001b[0m \u001b[0;32mfor\u001b[0m \u001b[0mindex\u001b[0m \u001b[0;32min\u001b[0m \u001b[0mrange\u001b[0m\u001b[0;34m(\u001b[0m\u001b[0mlen\u001b[0m\u001b[0;34m(\u001b[0m\u001b[0mlista\u001b[0m\u001b[0;34m)\u001b[0m\u001b[0;34m)\u001b[0m\u001b[0;34m:\u001b[0m\u001b[0;34m\u001b[0m\u001b[0m\n\u001b[1;32m      4\u001b[0m     \u001b[0;32mif\u001b[0m \u001b[0mindex\u001b[0m \u001b[0;34m==\u001b[0m\u001b[0;36m2\u001b[0m  \u001b[0;32mor\u001b[0m \u001b[0mindex\u001b[0m \u001b[0;34m==\u001b[0m \u001b[0;36m3\u001b[0m\u001b[0;34m:\u001b[0m\u001b[0;34m\u001b[0m\u001b[0m\n\u001b[0;32m----> 5\u001b[0;31m         \u001b[0mlista\u001b[0m\u001b[0;34m.\u001b[0m\u001b[0mpop\u001b[0m\u001b[0;34m(\u001b[0m\u001b[0mindex\u001b[0m\u001b[0;34m)\u001b[0m\u001b[0;34m\u001b[0m\u001b[0m\n\u001b[0m",
      "\u001b[0;31mIndexError\u001b[0m: pop index out of range"
     ]
    }
   ],
   "source": [
    "lista = [1,2,3,4]\n",
    "\n",
    "for index in range(len(lista)):\n",
    "    if index ==2  or index == 3:\n",
    "        lista.pop(index)"
   ]
  },
  {
   "cell_type": "code",
   "execution_count": 5,
   "metadata": {},
   "outputs": [
    {
     "data": {
      "text/plain": [
       "[1, 2]"
      ]
     },
     "execution_count": 5,
     "metadata": {},
     "output_type": "execute_result"
    }
   ],
   "source": [
    "lista"
   ]
  },
  {
   "cell_type": "code",
   "execution_count": 7,
   "metadata": {},
   "outputs": [],
   "source": [
    "lista = [1,2,3,4]\n"
   ]
  },
  {
   "cell_type": "code",
   "execution_count": 8,
   "metadata": {},
   "outputs": [
    {
     "data": {
      "text/plain": [
       "[1, 2, 3, 4]"
      ]
     },
     "execution_count": 8,
     "metadata": {},
     "output_type": "execute_result"
    }
   ],
   "source": [
    "lista"
   ]
  },
  {
   "cell_type": "code",
   "execution_count": 9,
   "metadata": {},
   "outputs": [
    {
     "data": {
      "text/plain": [
       "[1, 2]"
      ]
     },
     "execution_count": 9,
     "metadata": {},
     "output_type": "execute_result"
    }
   ],
   "source": [
    "lista[0:2]"
   ]
  },
  {
   "cell_type": "code",
   "execution_count": 10,
   "metadata": {},
   "outputs": [],
   "source": [
    "# 1시도 \n",
    "\n",
    "# 각 배포마다 몇 개의 기능이 배포되는지\n",
    "\n",
    "        #배포순서 and 진척도     # 각작업 개발속도 \n",
    "# def solution(progresses, speeds):\n",
    "def solution(pg, s):\n",
    "    \n",
    "    distribute_count = []\n",
    "    counter = 0 \n",
    "    while True:\n",
    "        counter+=1\n",
    "        if counter >50:\n",
    "            break\n",
    "        \n",
    "        \n",
    "        \n",
    "        check_fin_list = [0]*len(pg)\n",
    "        # 각 작업 진행 및 배포 될 가능성 있는것들(100프로 이상 되는것들) 체크 \n",
    "        for index in range(len(pg)):\n",
    "            pg[index] += s[index]\n",
    "            if pg[index] >= 100:\n",
    "                check_fin_list[index] = 1  \n",
    "                \n",
    "        print(counter)\n",
    "        print(pg)\n",
    "        print(check_fin_list)\n",
    "                \n",
    "                \n",
    "        # 배포 될것들 카운트 해보자. 진척도 0, 스피드 0으로 바꾸자. \n",
    "        is_pre_task_fin_this_time = False\n",
    "        count = 0\n",
    "        for index in range(len(check_fin_list)):\n",
    "            if pg[index] == -1:\n",
    "                is_pre_task_fin_this_time = True\n",
    "                continue\n",
    "            \n",
    "            if check_fin_list[index] == 1 and (is_pre_task_fin_this_time or index==0):\n",
    "                pg[index] = -1\n",
    "                s[index]= 0\n",
    "                count +=1\n",
    "                is_pre_task_fin_this_time = True\n",
    "            else:\n",
    "                is_pre_task_fin_this_time = False\n",
    "                break\n",
    "        \n",
    "        distribute_count.append(count)\n",
    "        \n",
    "        if sum(pg) ==0:\n",
    "            break\n",
    "        \n",
    "        \n",
    "    return distribute_count"
   ]
  },
  {
   "cell_type": "code",
   "execution_count": 11,
   "metadata": {},
   "outputs": [],
   "source": [
    "# 2시도 \n",
    "\n",
    "# 각 배포마다 몇 개의 기능이 배포되는지\n",
    "\n",
    "        #배포순서 and 진척도     # 각작업 개발속도 \n",
    "# def solution(progresses, speeds):\n",
    "def solution(pg, s):\n",
    "    \n",
    "    \n",
    "    distribute_count = []\n",
    "    # work_space = pg.copy()\n",
    "    \n",
    "    counter = 0\n",
    "    while True:\n",
    "        \n",
    "        counter+=1\n",
    "        if counter >50:\n",
    "            break\n",
    "        \n",
    "        # 각 작업 진행 및 배포 될 가능성 있는것들 체크 \n",
    "        check_fin_list = [0]*len(pg)\n",
    "        for index in range(len(pg)):\n",
    "            pg[index] += s[index]\n",
    "            if pg[index] >= 100:\n",
    "                check_fin_list[index] = 1  \n",
    "\n",
    "\n",
    "        # 배포 될것들 카운트 해보자.\n",
    "        is_pre_task_fin_this_time = False\n",
    "        confirm_destribute = [0]*len(pg)\n",
    "        \n",
    "        for index in range(len(check_fin_list)):\n",
    "\n",
    "            if check_fin_list[index] == 1 and (is_pre_task_fin_this_time or index==0):\n",
    "                confirm_destribute[index] = 1\n",
    "                is_pre_task_fin_this_time = True\n",
    "            else:\n",
    "                is_pre_task_fin_this_time = False\n",
    "                break\n",
    "\n",
    "        # 배포될 것들 빼자\n",
    "        count = 0\n",
    "        index_list = []\n",
    "        for index in range(len( confirm_destribute)):\n",
    "            if confirm_destribute[index] == 1:\n",
    "                index_list.append(index)\n",
    "                count+=1\n",
    "                \n",
    "        # print(counter)\n",
    "        # print(pg)\n",
    "        # print(check_fin_list)\n",
    "        # print(confirm_destribute)\n",
    "        \n",
    "        how_many_pop = len(index_list)\n",
    "        for i in range(how_many_pop):\n",
    "            if pg:\n",
    "                pg.pop(0)\n",
    "                s.pop(0)\n",
    "        \n",
    "        if count!=0:\n",
    "            distribute_count.append(count)\n",
    "        \n",
    "        if pg == []:\n",
    "            break\n",
    "\n",
    "        \n",
    "    return distribute_count"
   ]
  },
  {
   "cell_type": "code",
   "execution_count": 12,
   "metadata": {},
   "outputs": [],
   "source": [
    "# 3시도 \n",
    "\n",
    "\n",
    "def solution(pg, s):\n",
    "    \n",
    "    answer = []\n",
    "    counter = 0\n",
    "    while True:\n",
    "        counter +=1\n",
    "        # if counter == 20:\n",
    "        #     break\n",
    "            \n",
    "        print(f'counter: {counter}')\n",
    "        print(f'pg: {pg}')\n",
    "        print(f's: {s}')\n",
    "        \n",
    "\n",
    "        # 작업 진행 먼저 시켜봄. \n",
    "        pre_max = True\n",
    "        fin_list = []\n",
    "        for index in range(len(pg)):\n",
    "            pg[index] += s[index]\n",
    "            if pg[index] >= 100 and pre_max:\n",
    "                fin_list.append(index)\n",
    "                pre_max = True\n",
    "            else:\n",
    "                pre_max = False\n",
    "        \n",
    "        print(f'fin_list :{fin_list}')\n",
    "        # 배포할것들 빼주자. \n",
    "        how_many_pop = len(fin_list)\n",
    "        for i in range(how_many_pop):\n",
    "            if pg:\n",
    "                pg.pop(0)\n",
    "                s.pop(0)\n",
    "        \n",
    "        # 배포한것들 카운트 \n",
    "        if how_many_pop!=0:\n",
    "            answer.append(how_many_pop)\n",
    "        \n",
    "        if pg == []:\n",
    "            break\n",
    "    \n",
    "    \n",
    "        print('@@@@@@@@@@@')\n",
    "    return answer"
   ]
  },
  {
   "cell_type": "code",
   "execution_count": null,
   "metadata": {},
   "outputs": [],
   "source": []
  },
  {
   "cell_type": "code",
   "execution_count": null,
   "metadata": {},
   "outputs": [],
   "source": [
    "# 모범답안 \n",
    "\n",
    "# 분석. \n",
    "# 무조건 배포시에 앞에거부터 한다는것에 집중. \n",
    "# 앞에거 100이상 될때까지 시간 증가 시키고 팝시킴. \n",
    "\n",
    "# 그다음것도 그 시점에 100이상인지 확인 하고 아니면 증가후 앞에거만 결과에 저장 \n",
    "#          뒤에거 100되는 시점 겹치면 카운트 앞에것과 중첩해서  결과에 저장 \n",
    "# \n",
    "# \n",
    "# 이렇게하면 무조건 앞에게 선배포 된다. \n",
    "\n",
    "\n",
    "\n",
    "def solution(progresses, speeds):\n",
    "    print(progresses)\n",
    "    print(speeds)\n",
    "    answer = []\n",
    "    time = 0\n",
    "    count = 0\n",
    "    while len(progresses)> 0:\n",
    "        if (progresses[0] + time*speeds[0]) >= 100:\n",
    "            progresses.pop(0)\n",
    "            speeds.pop(0)\n",
    "            count += 1\n",
    "        else:\n",
    "            if count > 0:\n",
    "                answer.append(count)\n",
    "                count = 0\n",
    "            time += 1\n",
    "    answer.append(count)\n",
    "    return answer"
   ]
  }
 ],
 "metadata": {
  "kernelspec": {
   "display_name": "Python 3",
   "language": "python",
   "name": "python3"
  },
  "language_info": {
   "codemirror_mode": {
    "name": "ipython",
    "version": 3
   },
   "file_extension": ".py",
   "mimetype": "text/x-python",
   "name": "python",
   "nbconvert_exporter": "python",
   "pygments_lexer": "ipython3",
   "version": "3.6.5"
  }
 },
 "nbformat": 4,
 "nbformat_minor": 2
}
