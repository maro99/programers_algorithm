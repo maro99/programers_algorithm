{
 "cells": [
  {
   "cell_type": "code",
   "execution_count": 1,
   "metadata": {},
   "outputs": [
    {
     "ename": "SyntaxError",
     "evalue": "invalid syntax (<ipython-input-1-a9ff35b2e9e3>, line 1)",
     "output_type": "error",
     "traceback": [
      "\u001b[0;36m  File \u001b[0;32m\"<ipython-input-1-a9ff35b2e9e3>\"\u001b[0;36m, line \u001b[0;32m1\u001b[0m\n\u001b[0;31m    문제 설명\u001b[0m\n\u001b[0m        ^\u001b[0m\n\u001b[0;31mSyntaxError\u001b[0m\u001b[0;31m:\u001b[0m invalid syntax\n"
     ]
    }
   ],
   "source": [
    "문제 설명\n",
    "매운 것을 좋아하는 Leo는 모든 음식의 스코빌 지수를 K 이상으로 만들고 싶습니다. 모든 음식의 스코빌 지수를 K 이상으로 만들기 위해 Leo는 스코빌 지수가 가장 낮은 두 개의 음식을 아래와 같이 특별한 방법으로 섞어 새로운 음식을 만듭니다.\n",
    "\n",
    "섞은 음식의 스코빌 지수 = 가장 맵지 않은 음식의 스코빌 지수 + (두 번째로 맵지 않은 음식의 스코빌 지수 * 2)\n",
    "Leo는 모든 음식의 스코빌 지수가 K 이상이 될 때까지 반복하여 섞습니다.\n",
    "Leo가 가진 음식의 스코빌 지수를 담은 배열 scoville과 원하는 스코빌 지수 K가 주어질 때, 모든 음식의 스코빌 지수를 K 이상으로 만들기 위해 섞어야 하는 최소 횟수를 return 하도록 solution 함수를 작성해주세요.\n",
    "\n",
    "제한 사항\n",
    "scoville의 길이는 1 이상 1,000,000 이하입니다.\n",
    "K는 0 이상 1,000,000,000 이하입니다.\n",
    "scoville의 원소는 각각 0 이상 1,000,000 이하입니다.\n",
    "모든 음식의 스코빌 지수를 K 이상으로 만들 수 없는 경우에는 -1을 return 합니다.\n",
    "입출력 예\n",
    "scoville\tK\treturn\n",
    "[1, 2, 3, 9, 10, 12]\t7\t2\n",
    "입출력 예 설명\n",
    "스코빌 지수가 1인 음식과 2인 음식을 섞으면 음식의 스코빌 지수가 아래와 같이 됩니다.\n",
    "새로운 음식의 스코빌 지수 = 1 + (2 * 2) = 5\n",
    "가진 음식의 스코빌 지수 = [5, 3, 9, 10, 12]\n",
    "\n",
    "스코빌 지수가 3인 음식과 5인 음식을 섞으면 음식의 스코빌 지수가 아래와 같이 됩니다.\n",
    "새로운 음식의 스코빌 지수 = 3 + (5 * 2) = 13\n",
    "가진 음식의 스코빌 지수 = [13, 9, 10, 12]\n",
    "\n",
    "모든 음식의 스코빌 지수가 7 이상이 되었고 이때 섞은 횟수는 2회입니다.\n",
    "\n"
   ]
  },
  {
   "cell_type": "code",
   "execution_count": 93,
   "metadata": {},
   "outputs": [],
   "source": [
    "def solution(listb, K):\n",
    "\n",
    "    class BHeap:\n",
    "        def __init__(self,a): # 이진힙 생성자 \n",
    "            self.a = a\n",
    "            self.N = len(a) -1\n",
    "\n",
    "        def create_heap(self) : # 초기 힙 만들기 heapq.heapify()와 동일 \n",
    "            for i in range(self.N//2,0, -1):\n",
    "                self.downheap(i)\n",
    "\n",
    "        def insert(self, key_value): # 삽입연산\n",
    "            self.N +=1\n",
    "            self.a.append(key_value) # 새 항목을 힙 마지막에 추가 \n",
    "            self.upheap(self.N) # 힙 속성을 회복시키기 위해.\n",
    "\n",
    "        def delete_min(self): # 최솟값 삭제  \n",
    "            if self.N == 0:\n",
    "                print(\"힙이 비어있음\")\n",
    "                return None\n",
    "            minimum = self.a[1]\n",
    "            self.a[1], self.a[-1] = self.a[-1], self.a[1] # a[1]과 a[N] 교환\n",
    "            del self.a[-1]\n",
    "            self.N-=1\n",
    "            self.downheap(1)\n",
    "            return minimum\n",
    "\n",
    "        def downheap(self,i): # 힙 내려가며 힙속성 회복\n",
    "            while 2*i <= self.N:\n",
    "                #왼쪽 오른쪽 자식 중에서 승자 결정 \n",
    "                k = 2*i       # 근데 이경우 k< N인뗴 k+1 <N인경우 어떻게 하나?에러아닌가?\n",
    "                if k < self.N and self.a[k] > self.a[k+1]:  # 위같은 경우 앞에서 and 하기전에 걸러져서 뒤에 대입도 안하고 끝나는듯.\n",
    "                    k +=1\n",
    "                if self.a[i] < self.a[k]: # 힙속성 만족하면 루프 만나기\n",
    "                    break\n",
    "                self.a[i], self.a[k] = self.a[k], self.a[i]\n",
    "                i = k\n",
    "\n",
    "        def upheap(self,j): #힙을 올라가며 힙속성 회복\n",
    "            while j > 1 and self.a[j//2] > self.a[j]:\n",
    "                self.a[j],self.a[j//2] = self.a[j//2], self.a[j]\n",
    "                j = j//2\n",
    "\n",
    "        def print_heap(self): # 힙 출력\n",
    "            for i in range(1, self.N+1):\n",
    "                print('[%2d]' % self.a[i], self.a[i],']', end = \"\")\n",
    "            print('\\n힙의 크기 = ', self.N)\n",
    "\n",
    "\n",
    "            \n",
    "            \n",
    "    lista = [None] + listb\n",
    "        \n",
    "    b = BHeap(lista)\n",
    "    b.create_heap()\n",
    "        \n",
    "\n",
    "    count = 0     \n",
    "    while True:\n",
    "        count +=1\n",
    "        \n",
    "        # 최소, 차 최소 값 뽑고 변수저장 및 삭제 함. \n",
    "        min_value = b.delete_min()\n",
    "        next_min_value = b.delete_min()\n",
    "        \n",
    "        # 삽입 할 값 계산 \n",
    "        insert_value = min_value + next_min_value*2\n",
    "        b.insert(insert_value)\n",
    "        \n",
    "        # 가장 작은 값인 lista[1]값 체크해서 k 이상이면 리턴\n",
    "        if lista[1] >=K:\n",
    "            break\n",
    "            \n",
    "        if b.N == 1 and lista[1] < K:\n",
    "            return -1\n",
    "\n",
    "            \n",
    "        \n",
    "\n",
    "    return count"
   ]
  },
  {
   "cell_type": "code",
   "execution_count": 94,
   "metadata": {},
   "outputs": [],
   "source": [
    "scoville = [1, 2, 3, 9, 10, 12]\n",
    "k = 7\n",
    "\n",
    "result = solution(scoville, k)"
   ]
  },
  {
   "cell_type": "code",
   "execution_count": 95,
   "metadata": {},
   "outputs": [
    {
     "data": {
      "text/plain": [
       "2"
      ]
     },
     "execution_count": 95,
     "metadata": {},
     "output_type": "execute_result"
    }
   ],
   "source": [
    "result"
   ]
  },
  {
   "cell_type": "code",
   "execution_count": 97,
   "metadata": {},
   "outputs": [],
   "source": [
    "# 걍 리스트로 짜본거  왜 인지 이게더 빠르긴함. \n",
    "\n",
    "def solution(listb, K):\n",
    "\n",
    "    listb.sort() \n",
    "    \n",
    "    count = 0\n",
    "    while True:\n",
    "        count += 1\n",
    "        a = listb.pop(0)\n",
    "        b = listb.pop(0)\n",
    "        c = a + 2*b \n",
    "        listb.append(c)\n",
    "        listb.sort()\n",
    "        \n",
    "        if listb[0] >= K:\n",
    "            break\n",
    "            \n",
    "        if len(listb) == 1 and listb[0] < K:\n",
    "            return -1 \n",
    "    \n",
    "    return count"
   ]
  },
  {
   "cell_type": "code",
   "execution_count": null,
   "metadata": {},
   "outputs": [],
   "source": []
  },
  {
   "cell_type": "code",
   "execution_count": null,
   "metadata": {},
   "outputs": [],
   "source": [
    "# heapq 써서 하려함 이렇게 하니까 효율성 통과함 \n",
    "# http://www.daleseo.com/python-heapq/ 참고 \n",
    "\n",
    "def solution(listb, K):\n",
    "    import heapq\n",
    "    count = 0\n",
    "\n",
    "    heapq.heapify(listb)\n",
    "    \n",
    "    while True:\n",
    "        count += 1 \n",
    "        a = heapq.heappop(listb)\n",
    "        b = heapq.heappop(listb)\n",
    "        c = a + 2*b\n",
    "        \n",
    "        heapq.heappush(listb,c)\n",
    "        \n",
    "        if listb[0] >= K :\n",
    "            break\n",
    "            \n",
    "        if len(listb) == 1 and listb[0] < K:\n",
    "            return -1 \n",
    "    \n",
    "    return count"
   ]
  }
 ],
 "metadata": {
  "kernelspec": {
   "display_name": "Python 3",
   "language": "python",
   "name": "python3"
  },
  "language_info": {
   "codemirror_mode": {
    "name": "ipython",
    "version": 3
   },
   "file_extension": ".py",
   "mimetype": "text/x-python",
   "name": "python",
   "nbconvert_exporter": "python",
   "pygments_lexer": "ipython3",
   "version": "3.6.5"
  }
 },
 "nbformat": 4,
 "nbformat_minor": 2
}
