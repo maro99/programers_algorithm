{
 "cells": [
  {
   "cell_type": "code",
   "execution_count": 1,
   "metadata": {},
   "outputs": [
    {
     "ename": "SyntaxError",
     "evalue": "invalid syntax (<ipython-input-1-8f77f38ce626>, line 2)",
     "output_type": "error",
     "traceback": [
      "\u001b[0;36m  File \u001b[0;32m\"<ipython-input-1-8f77f38ce626>\"\u001b[0;36m, line \u001b[0;32m2\u001b[0m\n\u001b[0;31m    문제 설명\u001b[0m\n\u001b[0m        ^\u001b[0m\n\u001b[0;31mSyntaxError\u001b[0m\u001b[0;31m:\u001b[0m invalid syntax\n"
     ]
    }
   ],
   "source": [
    "H-Index\n",
    "문제 설명\n",
    "H-Index는 과학자의 생산성과 영향력을 나타내는 지표입니다. 어느 과학자의 H-Index를 나타내는 값인 h를 구하려고 합니다. 위키백과1에 따르면, H-Index는 다음과 같이 구합니다.\n",
    "\n",
    "어떤 과학자가 발표한 논문 n편 중, h번 이상 인용된 논문이 h편 이상이고 나머지 논문이 h번 이하 인용되었다면 h가 이 과학자의 H-Index입니다.\n",
    "\n",
    "어떤 과학자가 발표한 논문의 인용 횟수를 담은 배열 citations가 매개변수로 주어질 때, 이 과학자의 H-Index를 return 하도록 solution 함수를 작성해주세요.\n",
    "\n",
    "제한사항\n",
    "과학자가 발표한 논문의 수는 1편 이상 1,000편 이하입니다.\n",
    "논문별 인용 횟수는 0회 이상 10,000회 이하입니다.\n",
    "입출력 예\n",
    "citations\treturn\n",
    "[3, 0, 6, 1, 5]\t3\n",
    "입출력 예 설명\n",
    "이 과학자가 발표한 논문의 수는 5편이고, 그중 3편의 논문은 3회 이상 인용되었습니다. 그리고 나머지 2편의 논문은 3회 이하 인용되었기 때문에 이 과학자의 H-Index는 3입니다.\n",
    "\n",
    "※ 공지 - 2019년 2월 28일 테스트케이스가 추가되었습니다.\n",
    "\n"
   ]
  },
  {
   "cell_type": "code",
   "execution_count": 2,
   "metadata": {},
   "outputs": [],
   "source": [
    "def solution(citations):\n",
    "    \n",
    "    result_list = []\n",
    "    \n",
    "    for h in range(1,len(citations)+1):\n",
    "        nonmuncount = 0\n",
    "        \n",
    "        for i in citations:\n",
    "            if i>= h:\n",
    "                nonmuncount+=1\n",
    "                \n",
    "        if h <= nonmuncount:\n",
    "            result_list.append(h)\n",
    "            \n",
    "    result_list.sort()\n",
    "        \n",
    "    return result_list[-1]\n",
    "\n",
    "\n",
    "\n",
    "\n",
    "# if (citations.Min() >= citations.Length)\n",
    "# return citations.Length;"
   ]
  },
  {
   "cell_type": "code",
   "execution_count": null,
   "metadata": {},
   "outputs": [],
   "source": []
  },
  {
   "cell_type": "code",
   "execution_count": 3,
   "metadata": {},
   "outputs": [],
   "source": [
    "# 재도전 \n",
    "def solution(citations):\n",
    "    \n",
    "    result_list = []\n",
    "    \n",
    "    for h in range(0,len(citations)+1):\n",
    "        nonmuncount = 0\n",
    "        \n",
    "        for i in citations:\n",
    "            if i>= h:\n",
    "                nonmuncount+=1\n",
    "                \n",
    "        if h <= nonmuncount:\n",
    "            result_list.append(h)\n",
    "            \n",
    "    result_list.sort()\n",
    "        \n",
    "    return result_list[-1]"
   ]
  },
  {
   "cell_type": "code",
   "execution_count": 5,
   "metadata": {},
   "outputs": [
    {
     "name": "stdout",
     "output_type": "stream",
     "text": [
      "0\n",
      "1\n",
      "2\n",
      "3\n",
      "4\n",
      "5\n",
      "6\n",
      "7\n",
      "8\n",
      "9\n"
     ]
    }
   ],
   "source": [
    "for i in range(10):\n",
    "    print(i)"
   ]
  },
  {
   "cell_type": "code",
   "execution_count": null,
   "metadata": {},
   "outputs": [],
   "source": [
    "# 다른 풀이  내거보다 100배빠름... n에 해결함. \n",
    "\n",
    "# 분석 해보면: \n",
    "# 우선 작은 게 앞으로 정렬 하고 \n",
    "\n",
    "# for문을 전체 논문 수 만큼 돌면서 \n",
    "# 해당 i번째의 의 값이 l-i 즉 임시적 h만큼 보다 크다면 \n",
    "# 그앞의 l-i개 값들 또한 i 보다 크기 때문에 이때의 l-i = h 가 될수있다. \n",
    "\n",
    "def solution(citations):\n",
    "    citations = sorted(citations)\n",
    "    l = len(citations)\n",
    "    for i in range(l):\n",
    "        if citations[i] >= l-i:\n",
    "            return l-i\n",
    "    return 0\n"
   ]
  }
 ],
 "metadata": {
  "kernelspec": {
   "display_name": "Python 3",
   "language": "python",
   "name": "python3"
  },
  "language_info": {
   "codemirror_mode": {
    "name": "ipython",
    "version": 3
   },
   "file_extension": ".py",
   "mimetype": "text/x-python",
   "name": "python",
   "nbconvert_exporter": "python",
   "pygments_lexer": "ipython3",
   "version": "3.6.5"
  }
 },
 "nbformat": 4,
 "nbformat_minor": 2
}
