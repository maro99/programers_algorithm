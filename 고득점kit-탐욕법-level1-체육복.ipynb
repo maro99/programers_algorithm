{
 "cells": [
  {
   "cell_type": "code",
   "execution_count": 1,
   "metadata": {},
   "outputs": [
    {
     "ename": "SyntaxError",
     "evalue": "invalid syntax (<ipython-input-1-3221aeb18236>, line 1)",
     "output_type": "error",
     "traceback": [
      "\u001b[0;36m  File \u001b[0;32m\"<ipython-input-1-3221aeb18236>\"\u001b[0;36m, line \u001b[0;32m1\u001b[0m\n\u001b[0;31m    점심시간에 도둑이 들어, 일부 학생이 체육복을 도난당했습니다.\u001b[0m\n\u001b[0m            ^\u001b[0m\n\u001b[0;31mSyntaxError\u001b[0m\u001b[0;31m:\u001b[0m invalid syntax\n"
     ]
    }
   ],
   "source": [
    "점심시간에 도둑이 들어, 일부 학생이 체육복을 도난당했습니다. \n",
    "다행히 여벌 체육복이 있는 학생이 이들에게 체육복을 빌려주려 합니다. \n",
    "학생들의 번호는 체격 순으로 매겨져 있어, 바로 앞번호의 학생이나 바로 \n",
    "뒷번호의 학생에게만 체육복을 빌려줄 수 있습니다. 예를 들어, 4번 학생은 3번 학생이나\n",
    "5번 학생에게만 체육복을 빌려줄 수 있습니다. 체육복이 없으면 수업을 들을 수 없기 \n",
    "때문에 체육복을 적절히 빌려 최대한 많은 학생이 체육수업을 들어야 합니다.\n",
    "\n",
    "전체 학생의 수 n, 체육복을 도난당한 학생들의 번호가 담긴 배열 lost, \n",
    "여벌의 체육복을 가져온 학생들의 번호가 담긴 배열 reserve가 매개변수로 주어질 때,\n",
    "체육수업을 들을 수 있는 학생의 최댓값을 return 하도록 solution 함수를 작성해주세요.\n",
    "\n",
    "제한사항\n",
    "전체 학생의 수는 2명 이상 30명 이하입니다.\n",
    "체육복을 도난당한 학생의 수는 1명 이상 n명 이하이고 중복되는 번호는 없습니다.\n",
    "여벌의 체육복을 가져온 학생의 수는 1명 이상 n명 이하이고 중복되는 번호는 없습니다.\n",
    "여벌 체육복이 있는 학생만 다른 학생에게 체육복을 빌려줄 수 있습니다.\n",
    "여벌 체육복을 가져온 학생이 체육복을 도난당했을 수 있습니다. 이때 이 학생은 체육복을 \n",
    "하나만 도난당했다고 가정하며, 남은 체육복이 하나이기에 다른 학생에게는 체육복을 빌려줄 \n",
    "수 없습니다.\n",
    "입출력 예\n",
    "n\tlost\treserve\treturn\n",
    "5\t[2, 4]\t[1, 3, 5]\t5\n",
    "5\t[2, 4]\t[3]\t4\n",
    "3\t[3]\t[1]\t2\n",
    "입출력 예 설명\n",
    "예제 #1\n",
    "1번 학생이 2번 학생에게 체육복을 빌려주고, 3번 학생이나 5번 학생이 4번 학생에게 체육복을 빌려주면 학생 5명이 체육수업을 들을 수 있습니다.\n",
    "\n",
    "예제 #2\n",
    "3번 학생이 2번 학생이나 4번 학생에게 체육복을 빌려주면 학생 4명이 체육수업을 들을 수 있습니다."
   ]
  },
  {
   "cell_type": "code",
   "execution_count": 98,
   "metadata": {},
   "outputs": [],
   "source": [
    "def solution(n, lost, reserve):\n",
    "    \n",
    "    count = n - len(lost)\n",
    "    print(f'count_pre: {count}')\n",
    "    \n",
    "    covered_indexs_lost = []\n",
    "    covered_indexs_reverse = []\n",
    "    # 먼저 자기 자신 lost이고 reserve여분 있는것들 번호 적어줌. \n",
    "    for i in lost:\n",
    "        for j in reserve:\n",
    "            if i == j and i not in covered_indexs_lost and j not in covered_indexs_reverse:\n",
    "                covered_indexs_lost.append(i)\n",
    "                covered_indexs_reverse.append(j)\n",
    "                count+=1\n",
    "    print(f'count_mid: {count}')         \n",
    "                \n",
    "    for i in lost:\n",
    "        for j in reserve:\n",
    "            if i-1 <= j <= i+1 and i not in covered_indexs_lost and j not in covered_indexs_reverse:\n",
    "                covered_indexs_lost.append(i)\n",
    "                covered_indexs_reverse.append(j)\n",
    "                count+=1\n",
    "#                 print(count)\n",
    "    \n",
    "    \n",
    "#     print(count)\n",
    "    answer = 0\n",
    "    return count"
   ]
  },
  {
   "cell_type": "code",
   "execution_count": 99,
   "metadata": {},
   "outputs": [
    {
     "name": "stdout",
     "output_type": "stream",
     "text": [
      "count_pre: 3\n",
      "count_mid: 3\n",
      "5\n"
     ]
    }
   ],
   "source": [
    "n = 5\n",
    "lost = [2,4]\n",
    "reserve =  [1,3,5]\n",
    "result = solution(n, lost, reserve)\n",
    "print(result) # 5"
   ]
  },
  {
   "cell_type": "code",
   "execution_count": 100,
   "metadata": {},
   "outputs": [
    {
     "name": "stdout",
     "output_type": "stream",
     "text": [
      "count_pre: 3\n",
      "count_mid: 3\n",
      "4\n"
     ]
    }
   ],
   "source": [
    "n = 5\n",
    "lost = [2,4]\n",
    "reserve =  [3]\n",
    "result = solution(n, lost, reserve)\n",
    "print(result) # 4 "
   ]
  },
  {
   "cell_type": "code",
   "execution_count": 101,
   "metadata": {},
   "outputs": [
    {
     "name": "stdout",
     "output_type": "stream",
     "text": [
      "count_pre: 2\n",
      "count_mid: 2\n",
      "2\n"
     ]
    }
   ],
   "source": [
    "n = 3\n",
    "lost = [3]\n",
    "reserve =  [1]\n",
    "result = solution(n, lost, reserve)\n",
    "print(result) # 2 "
   ]
  },
  {
   "cell_type": "code",
   "execution_count": 102,
   "metadata": {},
   "outputs": [
    {
     "name": "stdout",
     "output_type": "stream",
     "text": [
      "count_pre: 3\n",
      "count_mid: 3\n",
      "5\n"
     ]
    }
   ],
   "source": [
    "n = 5\n",
    "lost = [2,4]\n",
    "reserve =  [1,3]\n",
    "result = solution(n, lost, reserve)\n",
    "print(result) # 5 "
   ]
  },
  {
   "cell_type": "code",
   "execution_count": 103,
   "metadata": {},
   "outputs": [
    {
     "name": "stdout",
     "output_type": "stream",
     "text": [
      "count_pre: 3\n",
      "count_mid: 5\n",
      "6\n"
     ]
    }
   ],
   "source": [
    "n = 7\n",
    "lost = [2,3,4,5]\n",
    "reserve =  [1,3,5]\n",
    "result = solution(n, lost, reserve)\n",
    "print(result) # 7"
   ]
  },
  {
   "cell_type": "code",
   "execution_count": 104,
   "metadata": {},
   "outputs": [],
   "source": [
    "# 좋은 코드  -> 근데 복잡도는 결국 나랑 같은듯. ->이중 포문 3번 vs 2번 차이  (내경우 변수명좀 간결하게 하면 좋을듯.) \n",
    "\n",
    "def solution(n, lost, reserve):\n",
    "    _reserve = [r for r in reserve if r not in lost]\n",
    "    _lost = [l for l in lost if l not in reserve]\n",
    "    for r in _reserve:\n",
    "        f = r - 1\n",
    "        b = r + 1\n",
    "        if f in _lost:\n",
    "            _lost.remove(f)\n",
    "        elif b in _lost:\n",
    "            _lost.remove(b)\n",
    "    return n - len(_lost)\n"
   ]
  },
  {
   "cell_type": "code",
   "execution_count": null,
   "metadata": {},
   "outputs": [],
   "source": []
  },
  {
   "cell_type": "code",
   "execution_count": null,
   "metadata": {},
   "outputs": [],
   "source": []
  }
 ],
 "metadata": {
  "kernelspec": {
   "display_name": "Python 3",
   "language": "python",
   "name": "python3"
  },
  "language_info": {
   "codemirror_mode": {
    "name": "ipython",
    "version": 3
   },
   "file_extension": ".py",
   "mimetype": "text/x-python",
   "name": "python",
   "nbconvert_exporter": "python",
   "pygments_lexer": "ipython3",
   "version": "3.6.5"
  }
 },
 "nbformat": 4,
 "nbformat_minor": 2
}
