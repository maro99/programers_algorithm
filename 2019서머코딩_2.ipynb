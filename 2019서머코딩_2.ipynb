{
 "cells": [
  {
   "cell_type": "code",
   "execution_count": 1,
   "metadata": {},
   "outputs": [
    {
     "ename": "SyntaxError",
     "evalue": "invalid syntax (<ipython-input-1-73cc782f8760>, line 1)",
     "output_type": "error",
     "traceback": [
      "\u001b[0;36m  File \u001b[0;32m\"<ipython-input-1-73cc782f8760>\"\u001b[0;36m, line \u001b[0;32m1\u001b[0m\n\u001b[0;31m    문제 설명\u001b[0m\n\u001b[0m        ^\u001b[0m\n\u001b[0;31mSyntaxError\u001b[0m\u001b[0;31m:\u001b[0m invalid syntax\n"
     ]
    }
   ],
   "source": [
    "문제 설명\n",
    "올바른 괄호란 (())나 ()와 같이 올바르게 모두 닫힌 괄호를 의미합니다. )(나 ())() 와 같은 괄호는 올바르지 않은 괄호가 됩니다. 괄호 쌍의 개수 N이 주어질 때, N개의 괄호 쌍으로 만들 수 있는 모든 가능한 괄호 문자열을 배열형태로 반환하는 함수 solution을 완성해 주세요. 반환되는 문자열 배열은 오름차순으로 정렬되어 있어야 합니다.\n",
    "\n",
    "제한사항\n",
    "괄호 쌍의 개수 N : 1 ≤ N ≤ 12, N은 정수\n",
    "입출력 예\n",
    "N\tresult\n",
    "2\t[ (()), ()() ]\n",
    "3\t[ ((())), (()()), (())(), ()(()), ()()() ]\n",
    "입출력 예 설명\n",
    "입출력 예 #1\n",
    "2개의 괄호쌍으로 [ (()), ()() ]의 2가지를 만들 수 있습니다.\n",
    "입출력 예 #2 \n",
    "3개의 괄호쌍으로 [ ((())), (()()), (())(), ()(()), ()()() ]의 5가지를 만들 수 있습니다."
   ]
  },
  {
   "cell_type": "code",
   "execution_count": 54,
   "metadata": {},
   "outputs": [],
   "source": [
    "# N개의 괄호 쌍으로 만들 수 있는 모든 가능한 괄호 문자열을 배열 형태로 반환.\n",
    "\n",
    "# 스택을 써서? \n",
    "# 반드시 닫힌 괄호가 있도록. \n",
    "\n",
    "# 완전 탐색? 2**24 이면 천만인데... 괜찮나? \n",
    "# 제한을 1이 나온 만큼만 이후에애 0 나오도록 하면 될까 ? \n",
    "\n",
    "answer = []\n",
    "def permutation(end,left_num, right_num,temp_str):\n",
    "    global answer\n",
    "    print(temp_str, left_num, right_num)\n",
    "    \n",
    "    if end == left_num and end == right_num:\n",
    "        answer.append(temp_str)\n",
    "#         print(temp_str, left_num, right_num)\n",
    "    elif left_num > end or right_num > end:\n",
    "#         print(temp_str, left_num, right_num)\n",
    "        return\n",
    "        \n",
    "    \n",
    "    if not left_num < right_num:\n",
    "        permutation(end,left_num+1,right_num,temp_str+\"(\")\n",
    "        permutation(end,left_num,right_num+1,temp_str+\")\")\n",
    "    \n",
    "    \n",
    "    \n",
    "\n",
    "def solution(N):\n",
    "    global answer\n",
    "    answer = []\n",
    "    \n",
    "    # end_num = left_num 되는순간 결과 저장. \n",
    "    \n",
    "    permutation(N,left_num=1,right_num=0,temp_str=\"(\")\n",
    "\n",
    "    answer.sort()\n",
    "    return answer"
   ]
  },
  {
   "cell_type": "code",
   "execution_count": 53,
   "metadata": {},
   "outputs": [
    {
     "name": "stdout",
     "output_type": "stream",
     "text": [
      "( 1 0\n",
      "(( 2 0\n",
      "((( 3 0\n",
      "(() 2 1\n",
      "(()( 3 1\n",
      "(()) 2 2\n",
      "(())( 3 2\n",
      "(())) 2 3\n",
      "() 1 1\n",
      "()( 2 1\n",
      "()(( 3 1\n",
      "()() 2 2\n",
      "()()( 3 2\n",
      "()()) 2 3\n",
      "()) 1 2\n"
     ]
    },
    {
     "data": {
      "text/plain": [
       "['(())', '()()']"
      ]
     },
     "execution_count": 53,
     "metadata": {},
     "output_type": "execute_result"
    }
   ],
   "source": [
    "N = 2\n",
    "solution(N) # \t[\"(())\", \"()()\"]"
   ]
  },
  {
   "cell_type": "code",
   "execution_count": null,
   "metadata": {},
   "outputs": [],
   "source": []
  },
  {
   "cell_type": "code",
   "execution_count": 55,
   "metadata": {},
   "outputs": [
    {
     "name": "stdout",
     "output_type": "stream",
     "text": [
      "( 1 0\n",
      "(( 2 0\n",
      "((( 3 0\n",
      "(((( 4 0\n",
      "((() 3 1\n",
      "((()( 4 1\n",
      "((()) 3 2\n",
      "((())( 4 2\n",
      "((())) 3 3\n",
      "((()))( 4 3\n",
      "((()))) 3 4\n",
      "(() 2 1\n",
      "(()( 3 1\n",
      "(()(( 4 1\n",
      "(()() 3 2\n",
      "(()()( 4 2\n",
      "(()()) 3 3\n",
      "(()())( 4 3\n",
      "(()())) 3 4\n",
      "(()) 2 2\n",
      "(())( 3 2\n",
      "(())(( 4 2\n",
      "(())() 3 3\n",
      "(())()( 4 3\n",
      "(())()) 3 4\n",
      "(())) 2 3\n",
      "() 1 1\n",
      "()( 2 1\n",
      "()(( 3 1\n",
      "()((( 4 1\n",
      "()(() 3 2\n",
      "()(()( 4 2\n",
      "()(()) 3 3\n",
      "()(())( 4 3\n",
      "()(())) 3 4\n",
      "()() 2 2\n",
      "()()( 3 2\n",
      "()()(( 4 2\n",
      "()()() 3 3\n",
      "()()()( 4 3\n",
      "()()()) 3 4\n",
      "()()) 2 3\n",
      "()) 1 2\n"
     ]
    },
    {
     "data": {
      "text/plain": [
       "['((()))', '(()())', '(())()', '()(())', '()()()']"
      ]
     },
     "execution_count": 55,
     "metadata": {},
     "output_type": "execute_result"
    }
   ],
   "source": [
    "N = 3\n",
    "solution(N) # [\"((()))\", \"(()())\", \"(())()\", \"()(())\", \"()()()\"]"
   ]
  },
  {
   "cell_type": "code",
   "execution_count": 7,
   "metadata": {},
   "outputs": [
    {
     "data": {
      "text/plain": [
       "1048576"
      ]
     },
     "execution_count": 7,
     "metadata": {},
     "output_type": "execute_result"
    }
   ],
   "source": [
    "2**20"
   ]
  },
  {
   "cell_type": "code",
   "execution_count": 8,
   "metadata": {},
   "outputs": [
    {
     "data": {
      "text/plain": [
       "1024"
      ]
     },
     "execution_count": 8,
     "metadata": {},
     "output_type": "execute_result"
    }
   ],
   "source": [
    "2**10"
   ]
  },
  {
   "cell_type": "code",
   "execution_count": 9,
   "metadata": {},
   "outputs": [],
   "source": [
    "a = '12345'"
   ]
  },
  {
   "cell_type": "code",
   "execution_count": 10,
   "metadata": {},
   "outputs": [
    {
     "data": {
      "text/plain": [
       "'1234'"
      ]
     },
     "execution_count": 10,
     "metadata": {},
     "output_type": "execute_result"
    }
   ],
   "source": [
    "a[:-1]"
   ]
  },
  {
   "cell_type": "code",
   "execution_count": null,
   "metadata": {},
   "outputs": [],
   "source": []
  }
 ],
 "metadata": {
  "kernelspec": {
   "display_name": "Python 3",
   "language": "python",
   "name": "python3"
  },
  "language_info": {
   "codemirror_mode": {
    "name": "ipython",
    "version": 3
   },
   "file_extension": ".py",
   "mimetype": "text/x-python",
   "name": "python",
   "nbconvert_exporter": "python",
   "pygments_lexer": "ipython3",
   "version": "3.6.5"
  }
 },
 "nbformat": 4,
 "nbformat_minor": 2
}
