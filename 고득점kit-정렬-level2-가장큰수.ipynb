{
 "cells": [
  {
   "cell_type": "code",
   "execution_count": 1,
   "metadata": {},
   "outputs": [
    {
     "ename": "SyntaxError",
     "evalue": "invalid syntax (<ipython-input-1-3e428e3640bd>, line 1)",
     "output_type": "error",
     "traceback": [
      "\u001b[0;36m  File \u001b[0;32m\"<ipython-input-1-3e428e3640bd>\"\u001b[0;36m, line \u001b[0;32m1\u001b[0m\n\u001b[0;31m    가장 큰 수\u001b[0m\n\u001b[0m       ^\u001b[0m\n\u001b[0;31mSyntaxError\u001b[0m\u001b[0;31m:\u001b[0m invalid syntax\n"
     ]
    }
   ],
   "source": [
    "가장 큰 수\n",
    "문제 설명\n",
    "0 또는 양의 정수가 주어졌을 때, 정수를 이어 붙여 만들 수 있는 가장 큰 수를 알아내 주세요.\n",
    "\n",
    "예를 들어, 주어진 정수가 [6, 10, 2]라면 [6102, 6210, 1062, 1026, 2610, 2106]를 만들 수 있고, 이중 가장 큰 수는 6210입니다.\n",
    "\n",
    "0 또는 양의 정수가 담긴 배열 numbers가 매개변수로 주어질 때, 순서를 재배치하여 만들 수 있는 가장 큰 수를 문자열로 바꾸어 return 하도록 solution 함수를 작성해주세요.\n",
    "\n",
    "제한 사항\n",
    "numbers의 길이는 1 이상 100,000 이하입니다.\n",
    "numbers의 원소는 0 이상 1,000 이하입니다.\n",
    "정답이 너무 클 수 있으니 문자열로 바꾸어 return 합니다.\n",
    "입출력 예\n",
    "numbers\treturn\n",
    "[6, 10, 2]\t6210\n",
    "[3, 30, 34, 5, 9]\t9534330"
   ]
  },
  {
   "cell_type": "code",
   "execution_count": 2,
   "metadata": {},
   "outputs": [],
   "source": [
    "a = 1234"
   ]
  },
  {
   "cell_type": "code",
   "execution_count": 3,
   "metadata": {},
   "outputs": [],
   "source": [
    "a = str(a)"
   ]
  },
  {
   "cell_type": "code",
   "execution_count": 4,
   "metadata": {},
   "outputs": [
    {
     "data": {
      "text/plain": [
       "'1234'"
      ]
     },
     "execution_count": 4,
     "metadata": {},
     "output_type": "execute_result"
    }
   ],
   "source": [
    "a"
   ]
  },
  {
   "cell_type": "code",
   "execution_count": 8,
   "metadata": {},
   "outputs": [
    {
     "name": "stdout",
     "output_type": "stream",
     "text": [
      "[[1, 2, 3]]\n"
     ]
    }
   ],
   "source": []
  },
  {
   "cell_type": "code",
   "execution_count": 9,
   "metadata": {},
   "outputs": [
    {
     "data": {
      "text/plain": [
       "1"
      ]
     },
     "execution_count": 9,
     "metadata": {},
     "output_type": "execute_result"
    }
   ],
   "source": [
    "1 % 2"
   ]
  },
  {
   "cell_type": "code",
   "execution_count": 11,
   "metadata": {},
   "outputs": [],
   "source": [
    "# https://programmers.co.kr/learn/courses/4008/lessons/12836#note  \n",
    "# 참고중  "
   ]
  },
  {
   "cell_type": "code",
   "execution_count": 28,
   "metadata": {},
   "outputs": [
    {
     "name": "stdout",
     "output_type": "stream",
     "text": [
      "['321', '312', '231', '213', '132', '123']\n",
      "['123', '132', '213', '231', '312', '321']\n",
      "['32', '31', '23', '21', '13', '12']\n"
     ]
    }
   ],
   "source": [
    "import itertools\n",
    "\n",
    "pool = ['3', '2', '1']\n",
    "\n",
    "lista = list(map(''.join, itertools.permutations(pool))) # 3개의 원소로 수열 만들기\n",
    "print(lista)\n",
    "lista.sort()\n",
    "\n",
    "print(lista)\n",
    "\n",
    "print(list(map(''.join, itertools.permutations(pool, 2)))) # 2개의 원소로 수열 만들기"
   ]
  },
  {
   "cell_type": "code",
   "execution_count": 37,
   "metadata": {},
   "outputs": [
    {
     "name": "stdout",
     "output_type": "stream",
     "text": [
      "['321', '312', '231', '213', '132', '123']\n"
     ]
    }
   ],
   "source": [
    "import itertools\n",
    "\n",
    "pool = ['3', '2', '1']\n",
    "a = list(map(''.join, itertools.permutations(pool))) \n",
    "print(a)"
   ]
  },
  {
   "cell_type": "code",
   "execution_count": 38,
   "metadata": {},
   "outputs": [],
   "source": [
    "# 위에거 이용해서 했는데 시간초과 뜸. \n",
    "import itertools\n",
    "\n",
    "def solution(numbers):\n",
    "    \n",
    "    # 모두 str로 우선 바꿈 \n",
    "    str_numbers = []\n",
    "    for number in numbers:\n",
    "        str_numbers.append(str(number))\n",
    "    \n",
    "    case_list = list(map(''.join, itertools.permutations(str_numbers))) \n",
    "    case_list.sort()\n",
    "\n",
    "    return case_list[-1]"
   ]
  },
  {
   "cell_type": "code",
   "execution_count": null,
   "metadata": {},
   "outputs": [],
   "source": []
  },
  {
   "cell_type": "code",
   "execution_count": 42,
   "metadata": {},
   "outputs": [],
   "source": [
    "a = \"123\"\n",
    "b = \"23\""
   ]
  },
  {
   "cell_type": "code",
   "execution_count": 43,
   "metadata": {},
   "outputs": [
    {
     "data": {
      "text/plain": [
       "True"
      ]
     },
     "execution_count": 43,
     "metadata": {},
     "output_type": "execute_result"
    }
   ],
   "source": [
    "b > a"
   ]
  },
  {
   "cell_type": "code",
   "execution_count": null,
   "metadata": {},
   "outputs": [],
   "source": [
    "# https://burningrizen.tistory.com/125 참고함 "
   ]
  },
  {
   "cell_type": "code",
   "execution_count": 2,
   "metadata": {},
   "outputs": [],
   "source": [
    "# 해법. 기본적으로 str로 바꿔서 정렬하면 대충 되긴 하는데 \n",
    "# 3, 30 같은것 겹치면 답이 달라짐 - > 이런경우에는 합친 결과 중 더 큰 케이스로 가야함.\n",
    "\n",
    "\n",
    "# 소트를 하는데 소트의 비교조건이 두값을 앞뒤로 놓아보고 큰값을 만드는 케이스의 앞값이 큰값이라 치는것. \n",
    "\n",
    "\n",
    "def solution(numbers):\n",
    "    \n",
    "    def a_is_bigger_than_b(a,b):\n",
    "        if (a+b) > (b+a):\n",
    "            return True\n",
    "        else:\n",
    "            return False\n",
    "        \n",
    "    def quick_sort(arr):\n",
    "        length = len(arr)\n",
    "        if length <= 1:\n",
    "            return arr\n",
    "        else:\n",
    "            pivot = arr[0]\n",
    "            \n",
    "            greater = []\n",
    "            lesser = []\n",
    "            \n",
    "            for i in arr[1:]:\n",
    "                if a_is_bigger_than_b(i,pivot):\n",
    "                    greater.append(i)\n",
    "                else:\n",
    "                    lesser.append(i)\n",
    "            \n",
    "            return quick_sort(lesser) + [pivot] + quick_sort(greater)\n",
    "        \n",
    "        \n",
    "    \n",
    "    # 모두 str로 우선 바꿈 \n",
    "    str_numbers = []\n",
    "    zero_count = 0 \n",
    "    length  = len(numbers)\n",
    "    \n",
    "    for number in numbers:\n",
    "        str_numbers.append(str(number))\n",
    "        if number ==0:\n",
    "            zero_count +=1\n",
    "    \n",
    "    if zero_count == length:\n",
    "        return \"0\"\n",
    "    \n",
    "    \n",
    "    str_numbers = quick_sort(str_numbers)\n",
    "    str_numbers.reverse()\n",
    "    result = \"\".join(str_numbers)\n",
    "            \n",
    "    return result"
   ]
  },
  {
   "cell_type": "code",
   "execution_count": null,
   "metadata": {},
   "outputs": [],
   "source": []
  },
  {
   "cell_type": "code",
   "execution_count": 3,
   "metadata": {},
   "outputs": [],
   "source": [
    "# 가장 빠른 답 \n",
    "\n",
    "def solution(numbers):\n",
    "    numbers = list(map(str, numbers))\n",
    "    numbers.sort(key=lambda x: x*3, reverse=True)\n",
    "    return str(int(''.join(numbers)))"
   ]
  },
  {
   "cell_type": "code",
   "execution_count": null,
   "metadata": {},
   "outputs": [],
   "source": []
  },
  {
   "cell_type": "code",
   "execution_count": null,
   "metadata": {},
   "outputs": [],
   "source": [
    "# 비교함수만 커스텀해서 쓰는법  functools 사용 \n",
    "\n",
    "import functools\n",
    "\n",
    "def comparator(a,b):\n",
    "    t1 = a+b\n",
    "    t2 = b+a\n",
    "    return (int(t1) > int(t2)) - (int(t1) < int(t2)) #  t1이 크다면 1  // t2가 크다면 -1  //  같으면 0\n",
    "\n",
    "def solution(numbers):\n",
    "    n = [str(x) for x in numbers]\n",
    "    n = sorted(n, key=functools.cmp_to_key(comparator),reverse=True)\n",
    "    return str(int(''.join(n)))\n"
   ]
  }
 ],
 "metadata": {
  "kernelspec": {
   "display_name": "Python 3",
   "language": "python",
   "name": "python3"
  },
  "language_info": {
   "codemirror_mode": {
    "name": "ipython",
    "version": 3
   },
   "file_extension": ".py",
   "mimetype": "text/x-python",
   "name": "python",
   "nbconvert_exporter": "python",
   "pygments_lexer": "ipython3",
   "version": "3.6.5"
  }
 },
 "nbformat": 4,
 "nbformat_minor": 2
}
