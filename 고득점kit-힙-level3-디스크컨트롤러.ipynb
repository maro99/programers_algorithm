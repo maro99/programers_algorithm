{
 "cells": [
  {
   "cell_type": "code",
   "execution_count": 1,
   "metadata": {},
   "outputs": [
    {
     "ename": "SyntaxError",
     "evalue": "invalid syntax (<ipython-input-1-0e77f84502d6>, line 1)",
     "output_type": "error",
     "traceback": [
      "\u001b[0;36m  File \u001b[0;32m\"<ipython-input-1-0e77f84502d6>\"\u001b[0;36m, line \u001b[0;32m1\u001b[0m\n\u001b[0;31m    문제 설명\u001b[0m\n\u001b[0m        ^\u001b[0m\n\u001b[0;31mSyntaxError\u001b[0m\u001b[0;31m:\u001b[0m invalid syntax\n"
     ]
    }
   ],
   "source": [
    "문제 설명\n",
    "하드디스크는 한 번에 하나의 작업만 수행할 수 있습니다. 디스크 컨트롤러를 구현하는 방법은 여러 가지가 있습니다. 가장 일반적인 방법은 요청이 들어온 순서대로 처리하는 것입니다.\n",
    "\n",
    "예를들어\n",
    "\n",
    "- 0ms 시점에 3ms가 소요되는 A작업 요청\n",
    "- 1ms 시점에 9ms가 소요되는 B작업 요청\n",
    "- 2ms 시점에 6ms가 소요되는 C작업 요청\n",
    "와 같은 요청이 들어왔습니다. 이를 그림으로 표현하면 아래와 같습니다.\n",
    "Screen Shot 2018-09-13 at 6.34.58 PM.png\n",
    "\n",
    "한 번에 하나의 요청만을 수행할 수 있기 때문에 각각의 작업을 요청받은 순서대로 처리하면 다음과 같이 처리 됩니다.\n",
    "Screen Shot 2018-09-13 at 6.38.52 PM.png\n",
    "\n",
    "- A: 3ms 시점에 작업 완료 (요청에서 종료까지 : 3ms)\n",
    "- B: 1ms부터 대기하다가, 3ms 시점에 작업을 시작해서 12ms 시점에 작업 완료(요청에서 종료까지 : 11ms)\n",
    "- C: 2ms부터 대기하다가, 12ms 시점에 작업을 시작해서 18ms 시점에 작업 완료(요청에서 종료까지 : 16ms)\n",
    "이 때 각 작업의 요청부터 종료까지 걸린 시간의 평균은 10ms(= (3 + 11 + 16) / 3)가 됩니다.\n",
    "\n",
    "하지만 A → C → B 순서대로 처리하면\n",
    "Screen Shot 2018-09-13 at 6.41.42 PM.png\n",
    "\n",
    "- A: 3ms 시점에 작업 완료(요청에서 종료까지 : 3ms)\n",
    "- C: 2ms부터 대기하다가, 3ms 시점에 작업을 시작해서 9ms 시점에 작업 완료(요청에서 종료까지 : 7ms)\n",
    "- B: 1ms부터 대기하다가, 9ms 시점에 작업을 시작해서 18ms 시점에 작업 완료(요청에서 종료까지 : 17ms)\n",
    "이렇게 A → C → B의 순서로 처리하면 각 작업의 요청부터 종료까지 걸린 시간의 평균은 9ms(= (3 + 7 + 17) / 3)가 됩니다.\n",
    "\n",
    "각 작업에 대해 [작업이 요청되는 시점, 작업의 소요시간]을 담은 2차원 배열 jobs가 매개변수로 주어질 때, 작업의 요청부터 종료까지 걸린 시간의 평균을 가장 줄이는 방법으로 처리하면 평균이 얼마가 되는지 return 하도록 solution 함수를 작성해주세요. (단, 소수점 이하의 수는 버립니다)\n",
    "\n",
    "제한 사항\n",
    "jobs의 길이는 1 이상 500 이하입니다.\n",
    "jobs의 각 행은 하나의 작업에 대한 [작업이 요청되는 시점, 작업의 소요시간] 입니다.\n",
    "각 작업에 대해 작업이 요청되는 시간은 0 이상 1,000 이하입니다.\n",
    "각 작업에 대해 작업의 소요시간은 1 이상 1,000 이하입니다.\n",
    "하드디스크가 작업을 수행하고 있지 않을 때에는 먼저 요청이 들어온 작업부터 처리합니다.\n",
    "입출력 예\n",
    "jobs\treturn\n",
    "[[0, 3], [1, 9], [2, 6]]\t9\n",
    "입출력 예 설명\n",
    "문제에 주어진 예와 같습니다.\n",
    "\n",
    "0ms 시점에 3ms 걸리는 작업 요청이 들어옵니다.\n",
    "1ms 시점에 9ms 걸리는 작업 요청이 들어옵니다.\n",
    "2ms 시점에 6ms 걸리는 작업 요청이 들어옵니다.\n"
   ]
  },
  {
   "cell_type": "code",
   "execution_count": 20,
   "metadata": {},
   "outputs": [],
   "source": [
    "import heapq\n",
    "def solution(jobs):\n",
    "\n",
    "    h = []\n",
    "    # heapq.heappush(h,1)\n",
    "    # heapq.heappop(h)\n",
    "\n",
    "    time = 0\n",
    "    workspace = 0 \n",
    "    result_sum = 0 \n",
    "    requested_time = 0\n",
    "\n",
    "    done_count = 0 \n",
    "\n",
    "\n",
    "    while True:\n",
    "\n",
    "        # 해당 시점에 들어오는 요청들 힙에 넣는다. \n",
    "        for job in jobs:\n",
    "            if job[0] == time:\n",
    "                heapq.heappush(h,(job[1], job[0]))\n",
    "\n",
    "\n",
    "        # 만약 workspace할당된 작업 없으면 & 힙이 안비어 있다면 힙에서 \n",
    "        # 가장 작은 값 꺼내서 할당. \n",
    "        if workspace == 0  and h:\n",
    "            workspace, requested_time = heapq.heappop(h)\n",
    "\n",
    "        if workspace > 0:\n",
    "            workspace -=1 \n",
    "            time+=1           \n",
    "            if workspace == 0: # 이부분이 맨 위로가면 좋긴 한데 여기 이렇게 달아놓음 \n",
    "                result_sum += time - requested_time  \n",
    "                done_count +=1\n",
    "                # print(result_sum, time)\n",
    "                if done_count == len(jobs):\n",
    "                    break\n",
    "\n",
    "        else:\n",
    "            time+=1      \n",
    "\n",
    "    return result_sum// len(jobs)"
   ]
  },
  {
   "cell_type": "code",
   "execution_count": null,
   "metadata": {},
   "outputs": [],
   "source": [
    "# 좀더 알아보기 쉽게 해보면 \n",
    "import heapq\n",
    "def solution(jobs):\n",
    "\n",
    "    h = []\n",
    "\n",
    "    time = 0\n",
    "    workspace = 0   # 작업 할당하는부분 . \n",
    "    result_sum = 0  # 전체 평균 내기위해 저장 \n",
    "    requested_time = 0 # 각 작업이 요청 됬던 시간. workspace에 들어간 순간 여기 할당 .\n",
    "    done_count = 0  # 3개 작업 끝냈는지 판단 \n",
    "    \n",
    "    before_time_was_not_zero_flag = False\n",
    "    \n",
    "    \n",
    "    while True:\n",
    "        \n",
    "        # workspace 0즉 작업 할당 0 이고, 앞선 타임에선 + 였던 상황. \n",
    "        # 이번 시점에서(이번 시점 시작하는 순간) 작업 하나 완료된것. \n",
    "        if workspace == 0 and before_time_was_not_zero_flag: \n",
    "            result_sum += time - requested_time  \n",
    "            done_count +=1\n",
    "            before_time_was_not_zero_flag = False\n",
    "            # print(result_sum, time)\n",
    "            if done_count == len(jobs):\n",
    "                break\n",
    "        \n",
    "        \n",
    "        \n",
    "        # 해당 시점에 들어오는 요청들 힙에 넣는다. \n",
    "        for job in jobs:\n",
    "            if job[0] == time:\n",
    "                heapq.heappush(h,(job[1], job[0]))\n",
    "\n",
    "\n",
    "        # 만약 workspace할당된 작업 없으면 & 힙이 안비어 있다면 힙에서 \n",
    "        # 가장 작은 값 꺼내서 할당. \n",
    "        if workspace == 0  and h:\n",
    "            workspace, requested_time = heapq.heappop(h)\n",
    "        \n",
    "        # 작업 할당 위에서 받았거나, 할당 이전에 되있던 상태라면 여기서 작업 처리 \n",
    "        if workspace > 0:\n",
    "            workspace -=1 \n",
    "            time+=1           \n",
    "            before_time_was_not_zero_flag = True\n",
    "            \n",
    "        # 작업 할당 안되있거나 두계단 위의 h가 비어있어서 작업 할당 새로 못했다면 time만 증가 \n",
    "        else:\n",
    "            time+=1      \n",
    "\n",
    "    return result_sum// len(jobs)\n"
   ]
  },
  {
   "cell_type": "code",
   "execution_count": 8,
   "metadata": {},
   "outputs": [],
   "source": [
    "import heapq\n",
    "\n",
    "h = [] \n",
    "\n",
    "heapq.heappush(h,(1,0))"
   ]
  },
  {
   "cell_type": "code",
   "execution_count": 11,
   "metadata": {},
   "outputs": [
    {
     "name": "stdout",
     "output_type": "stream",
     "text": [
      "[(1, 0)]\n"
     ]
    }
   ],
   "source": [
    "if h:\n",
    "    print(h)"
   ]
  },
  {
   "cell_type": "code",
   "execution_count": 14,
   "metadata": {},
   "outputs": [
    {
     "ename": "TypeError",
     "evalue": "'tuple' object does not support item assignment",
     "output_type": "error",
     "traceback": [
      "\u001b[0;31m---------------------------------------------------------------------------\u001b[0m",
      "\u001b[0;31mTypeError\u001b[0m                                 Traceback (most recent call last)",
      "\u001b[0;32m<ipython-input-14-64d71a04fb38>\u001b[0m in \u001b[0;36m<module>\u001b[0;34m()\u001b[0m\n\u001b[0;32m----> 1\u001b[0;31m \u001b[0mh\u001b[0m\u001b[0;34m[\u001b[0m\u001b[0;36m0\u001b[0m\u001b[0;34m]\u001b[0m\u001b[0;34m[\u001b[0m\u001b[0;36m1\u001b[0m\u001b[0;34m]\u001b[0m \u001b[0;34m=\u001b[0m \u001b[0mh\u001b[0m\u001b[0;34m[\u001b[0m\u001b[0;36m0\u001b[0m\u001b[0;34m]\u001b[0m\u001b[0;34m[\u001b[0m\u001b[0;36m1\u001b[0m\u001b[0;34m]\u001b[0m\u001b[0;34m+\u001b[0m\u001b[0;36m1\u001b[0m\u001b[0;34m\u001b[0m\u001b[0;34m\u001b[0m\u001b[0m\n\u001b[0m",
      "\u001b[0;31mTypeError\u001b[0m: 'tuple' object does not support item assignment"
     ]
    }
   ],
   "source": [
    "h[0][1] = h[0][1]+1"
   ]
  },
  {
   "cell_type": "code",
   "execution_count": 5,
   "metadata": {},
   "outputs": [],
   "source": [
    "a= [1,2,3,4,5]"
   ]
  },
  {
   "cell_type": "code",
   "execution_count": 7,
   "metadata": {},
   "outputs": [
    {
     "data": {
      "text/plain": [
       "1"
      ]
     },
     "execution_count": 7,
     "metadata": {},
     "output_type": "execute_result"
    }
   ],
   "source": [
    "a.pop(0)"
   ]
  },
  {
   "cell_type": "code",
   "execution_count": 15,
   "metadata": {},
   "outputs": [
    {
     "data": {
      "text/plain": [
       "2"
      ]
     },
     "execution_count": 15,
     "metadata": {},
     "output_type": "execute_result"
    }
   ],
   "source": [
    "4//2"
   ]
  },
  {
   "cell_type": "code",
   "execution_count": 16,
   "metadata": {},
   "outputs": [
    {
     "data": {
      "text/plain": [
       "4"
      ]
     },
     "execution_count": 16,
     "metadata": {},
     "output_type": "execute_result"
    }
   ],
   "source": [
    "4//1"
   ]
  },
  {
   "cell_type": "code",
   "execution_count": 17,
   "metadata": {},
   "outputs": [
    {
     "data": {
      "text/plain": [
       "7"
      ]
     },
     "execution_count": 17,
     "metadata": {},
     "output_type": "execute_result"
    }
   ],
   "source": [
    "15//2"
   ]
  },
  {
   "cell_type": "code",
   "execution_count": 19,
   "metadata": {},
   "outputs": [
    {
     "data": {
      "text/plain": [
       "0"
      ]
     },
     "execution_count": 19,
     "metadata": {},
     "output_type": "execute_result"
    }
   ],
   "source": [
    "1//2"
   ]
  },
  {
   "cell_type": "code",
   "execution_count": null,
   "metadata": {},
   "outputs": [],
   "source": []
  }
 ],
 "metadata": {
  "kernelspec": {
   "display_name": "Python 3",
   "language": "python",
   "name": "python3"
  },
  "language_info": {
   "codemirror_mode": {
    "name": "ipython",
    "version": 3
   },
   "file_extension": ".py",
   "mimetype": "text/x-python",
   "name": "python",
   "nbconvert_exporter": "python",
   "pygments_lexer": "ipython3",
   "version": "3.6.5"
  }
 },
 "nbformat": 4,
 "nbformat_minor": 2
}
