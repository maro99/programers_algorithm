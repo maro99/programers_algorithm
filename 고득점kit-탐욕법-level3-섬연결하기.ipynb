{
 "cells": [
  {
   "cell_type": "markdown",
   "metadata": {},
   "source": [
    "```\n",
    "섬 연결하기\n",
    "문제 설명\n",
    "n개의 섬 사이에 다리를 건설하는 비용(costs)이 주어질 때, 최소의 비용으로 모든 섬이 서로 통행 가능하도록 만들 때 \n",
    "필요한 최소 비용을 return 하도록 solution을 완성하세요.\n",
    "\n",
    "다리를 여러 번 건너더라도, 도달할 수만 있으면 통행 가능하다고 봅니다. 예를 들어 A 섬과 B 섬 사이에 다리가 있고, B 섬과 C 섬 사이에 다리가 있으면 A 섬과 C 섬은 서로 통행 가능합니다.\n",
    "\n",
    "제한사항\n",
    "\n",
    "섬의 개수 n은 1 이상 100 이하입니다.\n",
    "costs의 길이는 ((n-1) * n) / 2이하입니다.\n",
    "임의의 i에 대해, costs[i][0] 와 costs[i] [1]에는 다리가 연결되는 두 섬의 번호가 들어있고, costs[i] [2]에는 이 두 섬을 연결하는 다리를 건설할 때 드는 비용입니다.\n",
    "같은 연결은 두 번 주어지지 않습니다. 또한 순서가 바뀌더라도 같은 연결로 봅니다. 즉 0과 1 사이를 연결하는 비용이 주어졌을 때, 1과 0의 비용이 주어지지 않습니다.\n",
    "모든 섬 사이의 다리 건설 비용이 주어지지 않습니다. 이 경우, 두 섬 사이의 건설이 불가능한 것으로 봅니다.\n",
    "연결할 수 없는 섬은 주어지지 않습니다.\n",
    "입출력 예\n",
    "\n",
    "n\tcosts\treturn\n",
    "4\t[[0,1,1],[0,2,2],[1,2,5],[1,3,1],[2,3,8]]\t4\n",
    "입출력 예 설명\n",
    "\n",
    "costs를 그림으로 표현하면 다음과 같으며, 이때 초록색 경로로 연결하는 것이 가장 적은 비용으로 모두를 통행할 수 있도록 만드는 방법입니다.\n",
    "\n",
    "image.png  \n",
    "``` "
   ]
  },
  {
   "cell_type": "code",
   "execution_count": 33,
   "metadata": {},
   "outputs": [],
   "source": [
    "# 모든 섬 통행 가능하게 하는 최소비용을 return\n",
    "\n",
    "# 그냥 최소 신장 트리아닌가 \n",
    "\n",
    "# 싸이클생성하는 경우가 더 최소비용 저렴할 가능성은 -> 없다. \n",
    "# 싸이클은 어쨌든 필요없는연결 하나 더 생긴것. \n",
    "\n",
    "\n",
    "# kruskal -> 간선 길이 대로 정렬하고 하나씩 꺼내면서 간선이 싸이클 생성 안하면 pass \n",
    "# prim   -> 0. \n",
    "#            1.한 정점에서 시작해서 \n",
    "#            2. 트리에 해당 정점 추가.  \n",
    "#            3.     해당 정점에서 인접한 정점까지 거리 가 트리로 부터 거리보다 더 짧다면 거리정보 업데이트     \n",
    "#            4. 트리에 추가 안한 정점중 거리정보 가장 짧은곳 뽑아서 트리에 추가 \n",
    "#            5.     해당 정점에서 인접한 정점 ~~~~ 4,5 반복.  \n",
    "\n",
    "# 그리디란 지역적인(즉 어떤 시점에서의 ) 결과 가지고 그다음에 취할수있는 최적의 값을 선택하는 과정. 전체 과정에 대한 고려 x \n",
    "# (정확히는 입력 전체를 고려하지 않고 지역적인 입력에 대해서 그리디 하게 선택하며 이를 축적하여 해를 얻는다.) \n",
    "\n",
    "# 동적계획법이란 전체 과정 고려해서 앞선 단계에서의 결과가 그다음 과정에서 필요한 과정 반복. -> floyd wall shall\n",
    "#  (정확히는 작은 부분문제들의 해를 먼저 계산하고 그 해들을 바탕으로 그 다음으로 큰 부분 문제들을 해결하면서 주어진 문제의 해를 계산. )\n",
    "\n",
    "\n",
    "# 그럼 나는 prim 써보자. \n",
    "\n",
    "import sys \n",
    "\n",
    "def solution(n, costs):\n",
    "    \n",
    "    # 내가 익숙한 구조로 먼저 바꾸자. \n",
    "    # 정점 인덱스 0   - [ [인접정점1 - 거기까지의 거리], [인접정점2  - 거기까지의 거리]  .... ]  \n",
    "    #     인덱스 1   - ..\n",
    "    \n",
    "    lista = []\n",
    "\n",
    "    for i in range(n):\n",
    "        lista.append([])\n",
    "    \n",
    "    \n",
    "    for fr,to,co in costs:\n",
    "        lista[fr].append([to,co])\n",
    "        lista[to].append([fr,co])\n",
    "        \n",
    "        \n",
    "    \n",
    "    answer = 0\n",
    "    \n",
    "    N = n-1 # 간선수  \n",
    "    visited = [False]* n # 방문 즉 트리에 포함 됬는지 \n",
    "    D = [sys.maxsize]*n # 트리로 부터 각 정점까지의 거리 \n",
    "    \n",
    "    s = 0 # 0번 최초로 트리에 포함. \n",
    "    D[s] = 0 \n",
    "    \n",
    "    for i in range(n):\n",
    "        \n",
    "        # 방문하지 않은 정점들중 트리까지의 거리 최소값 뽑는다. \n",
    "        m = -1 \n",
    "        min_value = sys.maxsize\n",
    "        \n",
    "        for j in range(n):\n",
    "            if not visited[j] and D[j] < min_value:\n",
    "                m = j\n",
    "                min_value = D[j]\n",
    "        \n",
    "        # 방문. \n",
    "        visited[m] = True\n",
    "        answer+=D[m]\n",
    "        print(m)\n",
    "        \n",
    "        \n",
    "        # 방문정점에 인접한 정점들에 대한 트리 까지의 거리 업데이트 \n",
    "        # 이미 방문 했다면 업데이트 안해도 됨. \n",
    "        \n",
    "        for to,co in lista[m]:\n",
    "            \n",
    "            if not visited[to] and  co < D[to]:\n",
    "                D[to] = co\n",
    "                \n",
    "    \n",
    "    \n",
    "    \n",
    "    return answer"
   ]
  },
  {
   "cell_type": "code",
   "execution_count": 34,
   "metadata": {},
   "outputs": [
    {
     "name": "stdout",
     "output_type": "stream",
     "text": [
      "0\n",
      "1\n",
      "3\n",
      "2\n"
     ]
    },
    {
     "data": {
      "text/plain": [
       "4"
      ]
     },
     "execution_count": 34,
     "metadata": {},
     "output_type": "execute_result"
    }
   ],
   "source": [
    "n = 4 \n",
    "costs = [[0, 1, 1], [0, 2, 2], [1, 2, 5], [1, 3, 1], [2, 3, 8]] # 4 \n",
    "solution(n,costs)"
   ]
  },
  {
   "cell_type": "code",
   "execution_count": 7,
   "metadata": {},
   "outputs": [
    {
     "data": {
      "text/plain": [
       "9223372036854775807"
      ]
     },
     "execution_count": 7,
     "metadata": {},
     "output_type": "execute_result"
    }
   ],
   "source": [
    "sys.maxsize"
   ]
  },
  {
   "cell_type": "code",
   "execution_count": 16,
   "metadata": {},
   "outputs": [],
   "source": [
    "lista = []\n",
    "\n",
    "for i in range(3):\n",
    "    lista.append([])"
   ]
  },
  {
   "cell_type": "code",
   "execution_count": 17,
   "metadata": {},
   "outputs": [
    {
     "data": {
      "text/plain": [
       "[[], [], []]"
      ]
     },
     "execution_count": 17,
     "metadata": {},
     "output_type": "execute_result"
    }
   ],
   "source": [
    "lista"
   ]
  },
  {
   "cell_type": "code",
   "execution_count": 18,
   "metadata": {},
   "outputs": [],
   "source": [
    "lista[0].append(1)"
   ]
  },
  {
   "cell_type": "code",
   "execution_count": 19,
   "metadata": {},
   "outputs": [
    {
     "data": {
      "text/plain": [
       "[[1], [], []]"
      ]
     },
     "execution_count": 19,
     "metadata": {},
     "output_type": "execute_result"
    }
   ],
   "source": [
    "lista"
   ]
  },
  {
   "cell_type": "code",
   "execution_count": 20,
   "metadata": {},
   "outputs": [],
   "source": [
    "lista = [[1,2,3]]"
   ]
  },
  {
   "cell_type": "code",
   "execution_count": 22,
   "metadata": {},
   "outputs": [
    {
     "name": "stdout",
     "output_type": "stream",
     "text": [
      "1 2 3\n"
     ]
    }
   ],
   "source": [
    "for x,y,z in lista:\n",
    "    print(x,y,z)"
   ]
  },
  {
   "cell_type": "code",
   "execution_count": 24,
   "metadata": {},
   "outputs": [],
   "source": [
    "\n"
   ]
  },
  {
   "cell_type": "code",
   "execution_count": 28,
   "metadata": {},
   "outputs": [
    {
     "name": "stdout",
     "output_type": "stream",
     "text": [
      "0 1 1\n",
      "0 2 2\n",
      "1 2 5\n",
      "1 3 1\n",
      "2 3 8\n",
      "[[[1, 1], [2, 2]], [[0, 1], [2, 5], [3, 1]], [[0, 2], [1, 5], [3, 8]], [[1, 1], [2, 8]]]\n"
     ]
    }
   ],
   "source": [
    "lista = []\n",
    "\n",
    "for i in range(4):\n",
    "    lista.append([])\n",
    "\n",
    "\n",
    "costs = [[0, 1, 1], [0, 2, 2], [1, 2, 5], [1, 3, 1], [2, 3, 8]]\n",
    "\n",
    "\n",
    "for fr,to,co in costs:\n",
    "    print(fr,to,co)\n",
    "    lista[fr].append([to,co])\n",
    "    lista[to].append([fr,co])\n",
    "\n",
    "print(lista)"
   ]
  },
  {
   "cell_type": "code",
   "execution_count": null,
   "metadata": {},
   "outputs": [],
   "source": []
  }
 ],
 "metadata": {
  "kernelspec": {
   "display_name": "Python 3",
   "language": "python",
   "name": "python3"
  },
  "language_info": {
   "codemirror_mode": {
    "name": "ipython",
    "version": 3
   },
   "file_extension": ".py",
   "mimetype": "text/x-python",
   "name": "python",
   "nbconvert_exporter": "python",
   "pygments_lexer": "ipython3",
   "version": "3.6.5"
  }
 },
 "nbformat": 4,
 "nbformat_minor": 2
}
