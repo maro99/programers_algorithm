{
 "cells": [
  {
   "cell_type": "code",
   "execution_count": 1,
   "metadata": {},
   "outputs": [
    {
     "ename": "SyntaxError",
     "evalue": "invalid syntax (<ipython-input-1-c3810c63b348>, line 1)",
     "output_type": "error",
     "traceback": [
      "\u001b[0;36m  File \u001b[0;32m\"<ipython-input-1-c3810c63b348>\"\u001b[0;36m, line \u001b[0;32m1\u001b[0m\n\u001b[0;31m    Leo는 카펫을 사러 갔다가 아래 그림과 같이 중앙에는 빨간색으로 칠해져 있고 모서리는 갈색으로 칠해져 있는 격자 모양 카펫을 봤습니다.\u001b[0m\n\u001b[0m           ^\u001b[0m\n\u001b[0;31mSyntaxError\u001b[0m\u001b[0;31m:\u001b[0m invalid syntax\n"
     ]
    }
   ],
   "source": [
    "Leo는 카펫을 사러 갔다가 아래 그림과 같이 중앙에는 빨간색으로 칠해져 있고 모서리는 갈색으로 칠해져 있는 격자 모양 카펫을 봤습니다.\n",
    "\n",
    "image.png\n",
    "\n",
    "Leo는 집으로 돌아와서 아까 본 카펫의 빨간색과 갈색으로 색칠된 격자의 개수는 기억했지만, 전체 카펫의 크기는 기억하지 못했습니다.\n",
    "\n",
    "Leo가 본 카펫에서 갈색 격자의 수 brown, 빨간색 격자의 수 red가 매개변수로 주어질 때 카펫의 가로, 세로 크기를 순서대로 배열에 담아 return 하도록 solution 함수를 작성해주세요.\n",
    "\n",
    "제한사항\n",
    "갈색 격자의 수 brown은 8 이상 5,000 이하인 자연수입니다.\n",
    "빨간색 격자의 수 red는 1 이상 2,000,000 이하인 자연수입니다.\n",
    "카펫의 가로 길이는 세로 길이와 같거나, 세로 길이보다 깁니다.\n",
    "입출력 예\n",
    "brown\tred\treturn\n",
    "10\t2\t[4, 3]\n",
    "8\t1\t[3, 3]\n",
    "24\t24\t[8, 6]\n",
    "출처"
   ]
  },
  {
   "cell_type": "code",
   "execution_count": 3,
   "metadata": {},
   "outputs": [],
   "source": [
    "def get_tuple_list(num):\n",
    "    if num == 1:\n",
    "        return [(1,1)]\n",
    "    \n",
    "    elif num == 2:\n",
    "        return [(2,1)]\n",
    "    \n",
    "    else:\n",
    "        mid = int(num ** 0.5)\n",
    "        temp_list = []\n",
    "        for i in range(2,mid+1):\n",
    "            if num % i == 0:\n",
    "                temp_list.append((num//i,i))\n",
    "        return temp_list\n",
    "    "
   ]
  },
  {
   "cell_type": "code",
   "execution_count": 11,
   "metadata": {},
   "outputs": [
    {
     "data": {
      "text/plain": [
       "[(5, 5)]"
      ]
     },
     "execution_count": 11,
     "metadata": {},
     "output_type": "execute_result"
    }
   ],
   "source": [
    "get_tuple_list(25)"
   ]
  },
  {
   "cell_type": "code",
   "execution_count": 12,
   "metadata": {},
   "outputs": [
    {
     "data": {
      "text/plain": [
       "[1, 2]"
      ]
     },
     "execution_count": 12,
     "metadata": {},
     "output_type": "execute_result"
    }
   ],
   "source": [
    "list((1,2))"
   ]
  },
  {
   "cell_type": "code",
   "execution_count": null,
   "metadata": {},
   "outputs": [],
   "source": [
    "def get_tuple_list(num):\n",
    "    if num == 1:\n",
    "        return [(1,1)]\n",
    "    \n",
    "    elif num == 2:\n",
    "        return [(2,1)]\n",
    "    \n",
    "    else:\n",
    "        mid = int(num ** 0.5)\n",
    "        temp_list = []\n",
    "        for i in range(2,mid+1):\n",
    "            if num % i == 0:\n",
    "                temp_list.append((num//i,i))\n",
    "        return temp_list\n",
    "    \n",
    "    \n",
    "\n",
    "def solution(brown, red):\n",
    "    \n",
    "    # red의 약수들로 가로 새로 길이를 탐색해보자 .\n",
    "    tuple_list = get_tuple_list(red)\n",
    "    \n",
    "    for num_set in tuple_list:\n",
    "        x,y = num_set\n",
    "        \n",
    "        if 2*x + 2*y + 4 == brown:\n",
    "            result = [x+2,y+2]\n",
    "            return result\n",
    "    "
   ]
  }
 ],
 "metadata": {
  "kernelspec": {
   "display_name": "Python 3",
   "language": "python",
   "name": "python3"
  },
  "language_info": {
   "codemirror_mode": {
    "name": "ipython",
    "version": 3
   },
   "file_extension": ".py",
   "mimetype": "text/x-python",
   "name": "python",
   "nbconvert_exporter": "python",
   "pygments_lexer": "ipython3",
   "version": "3.6.5"
  }
 },
 "nbformat": 4,
 "nbformat_minor": 2
}
