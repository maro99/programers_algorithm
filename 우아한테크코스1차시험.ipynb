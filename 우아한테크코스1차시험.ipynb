{
 "cells": [
  {
   "cell_type": "code",
   "execution_count": 43,
   "metadata": {},
   "outputs": [
    {
     "ename": "SyntaxError",
     "evalue": "invalid syntax (<ipython-input-43-770bbc24c0ec>, line 1)",
     "output_type": "error",
     "traceback": [
      "\u001b[0;36m  File \u001b[0;32m\"<ipython-input-43-770bbc24c0ec>\"\u001b[0;36m, line \u001b[0;32m1\u001b[0m\n\u001b[0;31m    계좌에 들어있는 돈 일부를 은행에서 출금하고자 합니다. 돈 담을 지갑이 최대한 가볍도록 큰 금액의 화폐 위주로 받습니다.\u001b[0m\n\u001b[0m           ^\u001b[0m\n\u001b[0;31mSyntaxError\u001b[0m\u001b[0;31m:\u001b[0m invalid syntax\n"
     ]
    }
   ],
   "source": [
    "계좌에 들어있는 돈 일부를 은행에서 출금하고자 합니다. 돈 담을 지갑이 최대한 가볍도록 큰 금액의 화폐 위주로 받습니다.\n",
    "\n",
    "돈의 액수 money가 매개변수로 주어질 때, 오만 원권, 만 원권, 오천 원권, 천 원권, 오백원 동전, 백원 동전, 오십원 동전, 십원 동전, 일원 동전 각 몇 개로 변환되는지 금액이 큰 순서대로 배열에 담아 return 하도록 solution 메서드를 완성해주세요.\n",
    "\n",
    "제한사항\n",
    "money는 1 이상 1,000,000 이하인 자연수입니다.\n",
    "입출력 예\n",
    "money\tresult\n",
    "50237\t[1, 0, 0, 0, 0, 2, 0, 3, 7]\n",
    "15000\t[0, 1, 1, 0, 0, 0, 0, 0, 0]\n",
    "입출력 예 설명\n",
    "입출력 예 #1\n",
    "50,237원은 5만 원권 1매, 100원짜리 동전 2개, 10원짜리 동전 3개, 1원짜리 동전 7개로 만들 수 있습니다.\n",
    "\n",
    "입출력 예 #2\n",
    "15,000원은 만 원권 1매, 5천 원권 1매로 만들 수 있습니다."
   ]
  },
  {
   "cell_type": "code",
   "execution_count": null,
   "metadata": {},
   "outputs": [],
   "source": []
  },
  {
   "cell_type": "code",
   "execution_count": null,
   "metadata": {},
   "outputs": [],
   "source": [
    "def solution(money):\n",
    "    \n",
    "    money_types = [50000,10000,5000,1000,500,100,50,10,1]\n",
    "    result = []\n",
    "    \n",
    "    temp_value = 0 \n",
    "    \n",
    "    for t in money_types:\n",
    "        \n",
    "        temp_value = money % t\n",
    "        result.append(money//t)\n",
    "        money = temp_value\n",
    "        \n",
    "        \n",
    "    answer = []\n",
    "    return result"
   ]
  },
  {
   "cell_type": "code",
   "execution_count": 8,
   "metadata": {},
   "outputs": [
    {
     "name": "stdout",
     "output_type": "stream",
     "text": [
      "22\n"
     ]
    }
   ],
   "source": [
    "if 's' != ' ':\n",
    "    print('22')"
   ]
  },
  {
   "cell_type": "code",
   "execution_count": 9,
   "metadata": {},
   "outputs": [
    {
     "data": {
      "text/plain": [
       "'Z'"
      ]
     },
     "execution_count": 9,
     "metadata": {},
     "output_type": "execute_result"
    }
   ],
   "source": [
    "chr(90)"
   ]
  },
  {
   "cell_type": "code",
   "execution_count": null,
   "metadata": {},
   "outputs": [],
   "source": []
  },
  {
   "cell_type": "code",
   "execution_count": null,
   "metadata": {},
   "outputs": [],
   "source": []
  },
  {
   "cell_type": "code",
   "execution_count": null,
   "metadata": {},
   "outputs": [],
   "source": [
    "문제 설명\n",
    "어느 연못에 엄마 말씀을 좀처럼 듣지 않는 청개구리가 살고 있었습니다. 청개구리는 엄마가 하는 말은 무엇이든 반대로 말하였습니다.\n",
    "\n",
    "엄마 말씀 word가 매개변수로 주어질 때, 아래 청개구리 사전을 참고해 반대로 변환하여 return 하도록 solution 메서드를 완성해주세요.\n",
    "\n",
    "A\tB\tC\tD\tE\tF\tG\tH\tI\tJ\tK\tL\tM\tN\tO\tP\tQ\tR\tS\tT\tU\tV\tW\tX\tY\tZ\n",
    "Z\tY\tX\tW\tV\tU\tT\tS\tR\tQ\tP\tO\tN\tM\tL\tK\tJ\tI\tH\tG\tF\tE\tD\tC\tB\tA\n",
    "제한사항\n",
    "word는 길이가 1 이상 1,000 이하인 문자열입니다.\n",
    "알파벳 외의 문자는 변환하지 않습니다.\n",
    "알파벳 대문자는 알파벳 대문자로, 알파벳 소문자는 알파벳 소문자로 변환합니다.\n",
    "입출력 예\n",
    "word\tresult\n",
    "I love you\tR olev blf\n",
    "입출력 예 설명\n",
    "입출력 예 #1\n",
    "\n",
    "'I'는 알파벳 대문자이므로 'R'로 변환할 수 있습니다.\n",
    "공백(스페이스 바)은 알파벳 외의 문자이므로 변환하지 않습니다.\n",
    "'l'은 알파벳 소문자이므로 'o'로 변환할 수 있습니다.\n",
    "'o'은 알파벳 소문자이므로 'l'로 변환할 수 있습니다.\n",
    "'v'은 알파벳 소문자이므로 'e'로 변환할 수 있습니다.\n",
    "'e'은 알파벳 소문자이므로 'v'로 변환할 수 있습니다.\n",
    "공백(스페이스 바)은 알파벳 외의 문자이므로 변환하지 않습니다.\n",
    "'y'은 알파벳 소문자이므로 'b'로 변환할 수 있습니다.\n",
    "'o'은 알파벳 소문자이므로 'l'로 변환할 수 있습니다.\n",
    "'u'은 알파벳 소문자이므로 'f'로 변환할 수 있습니다."
   ]
  },
  {
   "cell_type": "code",
   "execution_count": 10,
   "metadata": {},
   "outputs": [],
   "source": [
    "def solution(word):\n",
    "    \n",
    "    result = \"\"\n",
    "\n",
    "    for letter in word:\n",
    "        \n",
    "        if letter != \" \":\n",
    "            if 65 <= ord(letter) and  ord(letter)<= 90:\n",
    "                print(letter)\n",
    "                print(ord(letter))\n",
    "                temp_num = ord(letter)-65\n",
    "                num = 90 - temp_num\n",
    "                \n",
    "                result+=(chr(num))\n",
    "            else:\n",
    "                temp_num = ord(letter)-97\n",
    "                num = 122 - temp_num\n",
    "                \n",
    "                result+=(chr(num))\n",
    "        else:\n",
    "            result+=(\" \")\n",
    "        \n",
    "    \n",
    "    \n",
    "#     print ord(\"Z\")       # 출력 결과: 90\n",
    "\n",
    "#     print chr(90)  \n",
    "    \n",
    "    \n",
    "    \n",
    "    answer = ''\n",
    "    return result"
   ]
  },
  {
   "cell_type": "code",
   "execution_count": null,
   "metadata": {},
   "outputs": [],
   "source": []
  },
  {
   "cell_type": "code",
   "execution_count": 17,
   "metadata": {},
   "outputs": [],
   "source": [
    "r  = 3"
   ]
  },
  {
   "cell_type": "code",
   "execution_count": 18,
   "metadata": {},
   "outputs": [],
   "source": [
    "r_100 = r//100\n",
    "r = r % 100\n",
    "r_10 = r//10\n",
    "r = r % 10\n",
    "r_1 = r"
   ]
  },
  {
   "cell_type": "code",
   "execution_count": 19,
   "metadata": {},
   "outputs": [
    {
     "name": "stdout",
     "output_type": "stream",
     "text": [
      "0\n",
      "0\n",
      "3\n"
     ]
    }
   ],
   "source": [
    "print(r_100)\n",
    "print(r_10)\n",
    "print(r_1)"
   ]
  },
  {
   "cell_type": "code",
   "execution_count": 20,
   "metadata": {},
   "outputs": [
    {
     "data": {
      "text/plain": [
       "4"
      ]
     },
     "execution_count": 20,
     "metadata": {},
     "output_type": "execute_result"
    }
   ],
   "source": [
    "max(1,4)"
   ]
  },
  {
   "cell_type": "code",
   "execution_count": 28,
   "metadata": {},
   "outputs": [
    {
     "ename": "SyntaxError",
     "evalue": "invalid syntax (<ipython-input-28-b161d529ed1c>, line 1)",
     "output_type": "error",
     "traceback": [
      "\u001b[0;36m  File \u001b[0;32m\"<ipython-input-28-b161d529ed1c>\"\u001b[0;36m, line \u001b[0;32m1\u001b[0m\n\u001b[0;31m    r =\u001b[0m\n\u001b[0m        ^\u001b[0m\n\u001b[0;31mSyntaxError\u001b[0m\u001b[0;31m:\u001b[0m invalid syntax\n"
     ]
    }
   ],
   "source": [
    "r = "
   ]
  },
  {
   "cell_type": "code",
   "execution_count": 31,
   "metadata": {},
   "outputs": [
    {
     "ename": "AttributeError",
     "evalue": "'int' object has no attribute 'type'",
     "output_type": "error",
     "traceback": [
      "\u001b[0;31m---------------------------------------------------------------------------\u001b[0m",
      "\u001b[0;31mAttributeError\u001b[0m                            Traceback (most recent call last)",
      "\u001b[0;32m<ipython-input-31-082a22965c12>\u001b[0m in \u001b[0;36m<module>\u001b[0;34m()\u001b[0m\n\u001b[0;32m----> 1\u001b[0;31m \u001b[0mget_sum\u001b[0m\u001b[0;34m(\u001b[0m\u001b[0;36m98\u001b[0m\u001b[0;34m)\u001b[0m\u001b[0;34m.\u001b[0m\u001b[0mtype\u001b[0m\u001b[0;34m(\u001b[0m\u001b[0;34m)\u001b[0m\u001b[0;34m\u001b[0m\u001b[0m\n\u001b[0m",
      "\u001b[0;31mAttributeError\u001b[0m: 'int' object has no attribute 'type'"
     ]
    }
   ],
   "source": [
    "get_sum(98)"
   ]
  },
  {
   "cell_type": "code",
   "execution_count": 32,
   "metadata": {},
   "outputs": [
    {
     "ename": "SyntaxError",
     "evalue": "invalid syntax (<ipython-input-32-8b04869e6746>, line 1)",
     "output_type": "error",
     "traceback": [
      "\u001b[0;36m  File \u001b[0;32m\"<ipython-input-32-8b04869e6746>\"\u001b[0;36m, line \u001b[0;32m1\u001b[0m\n\u001b[0;31m    문제 설명\u001b[0m\n\u001b[0m        ^\u001b[0m\n\u001b[0;31mSyntaxError\u001b[0m\u001b[0;31m:\u001b[0m invalid syntax\n"
     ]
    }
   ],
   "source": [
    "문제 설명\n",
    "포비와 크롱이 페이지 번호가 1부터 시작되는 400 페이지의 책을 주웠습니다. 책을 살펴보니 왼쪽 페이지는 홀수, 오른쪽 페이지는 짝수 번호이고 모든 페이지에는 번호가 적혀있었습니다. 책이 마음에 든 포비와 크롱은 페이지 번호 게임을 통해 게임에서 이긴 사람이 책을 갖기로 합니다. 페이지 번호 게임의 규칙은 아래와 같습니다.\n",
    "\n",
    "1. 책을 임의로 펼칩니다.\n",
    "2. 왼쪽 페이지 번호의 각 자리 숫자를 모두 더하거나, 모두 곱해 가장 큰 수를 구합니다.\n",
    "3. 오른쪽 페이지 번호의 각 자리 숫자를 모두 더하거나, 모두 곱해 가장 큰 수를 구합니다.\n",
    "4. 2~3 과정에서 가장 큰 수를 본인의 점수로 합니다.\n",
    "5. 점수를 비교해 가장 높은 사람이 게임의 승자입니다.\n",
    "6. 시작 면이나 마지막 면이 나오도록 책을 펼치지 않습니다.\n",
    "포비와 크롱이 펼친 페이지가 들어있는 배열 pobi와 crong이 주어질 때, 포비가 이긴다면 1, 크롱이 이긴다면 2, 무승부는 0, 예외사항은 -1로 return 하도록 solution 메서드를 완성해주세요.\n",
    "\n",
    "제한사항\n",
    "pobi와 crong의 길이는 2입니다.\n",
    "pobi와 crong에는 [왼쪽 페이지 번호, 오른쪽 페이지 번호]가 순서대로 들어있습니다.\n",
    "입출력 예\n",
    "pobi\tcrong\tresult\n",
    "[97, 98]\t[197, 198]\t0\n",
    "[131, 132]\t[211, 212]\t1\n",
    "[99, 102]\t[211, 212]\t-1\n",
    "입출력 예 설명\n",
    "입출력 예 #1\n",
    "포비의 점수는 72점, 크롱의 점수도 72점이므로 무승부입니다.\n",
    "\n",
    "이름\t왼쪽 페이지 각 자리 숫자의 합\t왼쪽 각 자리 숫자의 곱\t오른쪽 페이지 각 자리 숫자의 합\t오른쪽 각 자리 숫자의 곱\n",
    "포비\t16\t63\t17\t72\n",
    "크롱\t17\t63\t18\t72\n",
    "입출력 예 #2\n",
    "포비의 점수는 6점, 크롱의 점수는 5점이므로 포비의 승리입니다.\n",
    "\n",
    "이름\t왼쪽 페이지 각 자리 숫자의 합\t왼쪽 각 자리 숫자의 곱\t오른쪽 페이지 각 자리 숫자의 합\t오른쪽 각 자리 숫자의 곱\n",
    "포비\t5\t3\t6\t6\n",
    "크롱\t4\t2\t5\t4\n",
    "입출력 예 #3\n",
    "포비가 펼친 페이지의 왼쪽 페이지 번호는 99, 오른쪽 페이지 번호는 101입니다. 올바른 페이지 번호가 아니므로 예외사항에 해당됩니다."
   ]
  },
  {
   "cell_type": "code",
   "execution_count": 33,
   "metadata": {},
   "outputs": [],
   "source": [
    "def solution(pobi, crong):\n",
    "    \n",
    "    def get_max(r):\n",
    "        # 오른쪽 각 자리수.구하자.(최대 3자리.) -> 만약 비면 각자리 0됨. \n",
    "        r_100 = r//100\n",
    "        r = r % 100\n",
    "        r_10 = r//10\n",
    "        r = r % 10\n",
    "        r_1 = r\n",
    "\n",
    "        # 오른쪽의 합   -> 걍 더하면됨. \n",
    "        r_plus = r_100 + r_10 + r_1\n",
    "        r_mul = 1\n",
    "        # 오른쪽의 곱.\n",
    "        \n",
    "        # 3자리 풀인경우\n",
    "        if r_100 !=0:\n",
    "            r_mul  = r_100*r_10*r_1\n",
    "        # 2자리 인경우 \n",
    "        if r_100 == 0 and r_10 !=0:\n",
    "            r_mul  = r_10*r_1\n",
    "        # 1자리인경우 \n",
    "        if r_100 ==0 and r_10 ==0 and r_1 !=0:\n",
    "            r_mul  = r_1\n",
    "            \n",
    "        max_value = max(r_plus, r_mul)\n",
    "        \n",
    "        return max_value\n",
    "    \n",
    "    \n",
    "    # 만약 페이지 연속이면 바로 -1 return하고 종료하자. \n",
    "    if pobi[1] - pobi[0] !=1 or crong[1] - crong[0] !=1:\n",
    "        return -1\n",
    "    \n",
    "    \n",
    "    # pobi, crong 의 좌우중 큰값을 구하자. \n",
    "    pobi_max = max(get_max(pobi[0]), get_max(pobi[1]) ) \n",
    "    crong_max = max(get_max(crong[0]), get_max(crong[1]) )\n",
    "    \n",
    "    if pobi_max == crong_max:\n",
    "        return 0\n",
    "    elif pobi_max > crong_max:\n",
    "        return 1    \n",
    "    elif pobi_max < crong_max:\n",
    "        return 2"
   ]
  },
  {
   "cell_type": "code",
   "execution_count": 34,
   "metadata": {},
   "outputs": [],
   "source": [
    "a= '1234,567'\n"
   ]
  },
  {
   "cell_type": "code",
   "execution_count": 35,
   "metadata": {},
   "outputs": [
    {
     "data": {
      "text/plain": [
       "['1234', '567']"
      ]
     },
     "execution_count": 35,
     "metadata": {},
     "output_type": "execute_result"
    }
   ],
   "source": [
    "a.split(',')"
   ]
  },
  {
   "cell_type": "code",
   "execution_count": 40,
   "metadata": {},
   "outputs": [],
   "source": [
    "a = \"woni request 09:12:29\""
   ]
  },
  {
   "cell_type": "code",
   "execution_count": 42,
   "metadata": {},
   "outputs": [
    {
     "data": {
      "text/plain": [
       "['12', '29']"
      ]
     },
     "execution_count": 42,
     "metadata": {},
     "output_type": "execute_result"
    }
   ],
   "source": [
    "a.split(':')[-2:]"
   ]
  },
  {
   "cell_type": "code",
   "execution_count": 44,
   "metadata": {},
   "outputs": [
    {
     "ename": "SyntaxError",
     "evalue": "invalid syntax (<ipython-input-44-46022d572d4a>, line 1)",
     "output_type": "error",
     "traceback": [
      "\u001b[0;36m  File \u001b[0;32m\"<ipython-input-44-46022d572d4a>\"\u001b[0;36m, line \u001b[0;32m1\u001b[0m\n\u001b[0;31m    문제 설명\u001b[0m\n\u001b[0m        ^\u001b[0m\n\u001b[0;31mSyntaxError\u001b[0m\u001b[0;31m:\u001b[0m invalid syntax\n"
     ]
    }
   ],
   "source": [
    "문제 설명\n",
    "물 좋고 공기 좋은 강원도 양양의 한 개발자 마을 토지를 분양받고자 합니다. 토지는 직사각형 형태로 분양받을 수 있으며, x축(수평 방향)과 y축(수직 방향)에 의해 만들어지는 2차원 평면에서 두 점 P1(x1, y1)과 P2(x2, y2)로 표현할 수 있습니다. 마을 곳곳에는 식수원이 존재하여, 이미 분양된 토지와 겹치지 않으며 식수원 일부를 포함한 토지를 분양받고자 합니다.\n",
    "\n",
    "landDistributing_ver06.png\n",
    "\n",
    "위의 예에서 이미 분양된 토지와 겹치지 않으며 식수원을 포함하고 있으므로 분양 가능합니다.\n",
    "\n",
    "이미 분양된 토지별 위치를 담은 이차원 배열 lands와 식수원별 위치를 담은 이차원 배열 wells, 분양받고자 하는 토지의 위치를 담은 배열 point가 매개변수로 주어질 때, 토지분양이 가능한지 판별하여 return 하도록 solution 메서드를 완성해주세요.\n",
    "\n",
    "제한사항\n",
    "lands와 wells의 길이는 1 이상 10,000 이하입니다.\n",
    "lands와 wells의 원소(토지와 식수원의 위치)는 [x1, y1, x2, y2]로 들어있습니다.\n",
    "point의 길이는 4입니다.\n",
    "point에는 점이 [x1, y1, x2, y2]로 들어있습니다.\n",
    "x 좌표와 y 좌표는 0 이상 1,000,000 이하인 정수입니다.\n",
    "입출력 예\n",
    "lands\twells\tpoint\tresult\n",
    "[ [10, 0, 30, 5], [0, 30, 20, 50], [30, 30, 40, 40] ]\t[ [15, 15, 25, 25], [40, 10, 50, 20] ]\t[10, 10, 30, 30]\ttrue\n",
    "[ [0, 0, 20, 10], [10, 20, 20, 40], [30, 0, 50, 20] ]\t[ [20, 40, 30, 50], [30, 20, 50, 30] ]\t[20, 30, 30, 40]\tfalse\n",
    "입출력 예 설명\n",
    "입출력 예 #1\n",
    "문제의 예시와 같습니다.\n",
    "\n",
    "입출력 예 #2\n",
    "이미 분양된 토지와 겹치지 않지만 식수원 일부를 포함하고 있지 않아 분양받을 수 없습니다."
   ]
  },
  {
   "cell_type": "code",
   "execution_count": 45,
   "metadata": {},
   "outputs": [],
   "source": [
    "def solution(lands, wells, point):\n",
    "    answer = True\n",
    "    \n",
    "    # 포인트가 하나라도 해당 경계에 들어가 버리면 포함된다. \n",
    "    # 1. 상하 경계 포함 + 2. 좌우경계 포함 동시에 만족하면 겹치는 구간 반드시 생김. \n",
    "    \n",
    "    \n",
    "    # range1의 경계 안에 range2가 겹치는지 테스트 하는 함수. \n",
    "    def test_is_in(range1, range2):\n",
    "        x1 = range2[0]\n",
    "        y1 = range2[1]\n",
    "        x2 = range2[2]\n",
    "        y2 = range2[3]\n",
    "        \n",
    "        result = False\n",
    "        # 상하 경계에 걸치는지 \n",
    "        if (range1[0] < x1 and x1 <range1[2]) or (range1[0] < x2 and x2 <range1[2]):\n",
    "            result = True\n",
    "        if (range1[1] < y1 and y1 <range1[3]) or (range1[1] < y2 and y2 <range1[3]):\n",
    "            result = True\n",
    "        return result\n",
    "    \n",
    "    \n",
    "    # 이미 분양된 토지와 분양할 토지와 겹치는것 있는지 판단. \n",
    "    for land in lands:\n",
    "        if test_is_in(land,point):\n",
    "            answer = False\n",
    "    \n",
    "    # 우물이 분양할 토지에 겹치는지\n",
    "    for well in wells:\n",
    "        if test_is_in(point,well):\n",
    "            answer = True\n",
    "        \n",
    "        \n",
    "    \n",
    "    \n",
    "    return answer"
   ]
  },
  {
   "cell_type": "code",
   "execution_count": null,
   "metadata": {},
   "outputs": [],
   "source": []
  },
  {
   "cell_type": "code",
   "execution_count": 46,
   "metadata": {},
   "outputs": [
    {
     "ename": "SyntaxError",
     "evalue": "invalid syntax (<ipython-input-46-cb302ff182e3>, line 1)",
     "output_type": "error",
     "traceback": [
      "\u001b[0;36m  File \u001b[0;32m\"<ipython-input-46-cb302ff182e3>\"\u001b[0;36m, line \u001b[0;32m1\u001b[0m\n\u001b[0;31m    문제 설명\u001b[0m\n\u001b[0m        ^\u001b[0m\n\u001b[0;31mSyntaxError\u001b[0m\u001b[0;31m:\u001b[0m invalid syntax\n"
     ]
    }
   ],
   "source": [
    "문제 설명\n",
    "어느 연못에 엄마 말씀을 좀처럼 듣지 않는 청개구리가 살고 있었습니다. 청개구리는 엄마가 하는 말은 무엇이든 반대로 말하였습니다.\n",
    "\n",
    "엄마 말씀 word가 매개변수로 주어질 때, 아래 청개구리 사전을 참고해 반대로 변환하여 return 하도록 solution 메서드를 완성해주세요.\n",
    "\n",
    "A\tB\tC\tD\tE\tF\tG\tH\tI\tJ\tK\tL\tM\tN\tO\tP\tQ\tR\tS\tT\tU\tV\tW\tX\tY\tZ\n",
    "Z\tY\tX\tW\tV\tU\tT\tS\tR\tQ\tP\tO\tN\tM\tL\tK\tJ\tI\tH\tG\tF\tE\tD\tC\tB\tA\n",
    "제한사항\n",
    "word는 길이가 1 이상 1,000 이하인 문자열입니다.\n",
    "알파벳 외의 문자는 변환하지 않습니다.\n",
    "알파벳 대문자는 알파벳 대문자로, 알파벳 소문자는 알파벳 소문자로 변환합니다.\n",
    "입출력 예\n",
    "word\tresult\n",
    "I love you\tR olev blf\n",
    "입출력 예 설명\n",
    "입출력 예 #1\n",
    "\n",
    "'I'는 알파벳 대문자이므로 'R'로 변환할 수 있습니다.\n",
    "공백(스페이스 바)은 알파벳 외의 문자이므로 변환하지 않습니다.\n",
    "'l'은 알파벳 소문자이므로 'o'로 변환할 수 있습니다.\n",
    "'o'은 알파벳 소문자이므로 'l'로 변환할 수 있습니다.\n",
    "'v'은 알파벳 소문자이므로 'e'로 변환할 수 있습니다.\n",
    "'e'은 알파벳 소문자이므로 'v'로 변환할 수 있습니다.\n",
    "공백(스페이스 바)은 알파벳 외의 문자이므로 변환하지 않습니다.\n",
    "'y'은 알파벳 소문자이므로 'b'로 변환할 수 있습니다.\n",
    "'o'은 알파벳 소문자이므로 'l'로 변환할 수 있습니다.\n",
    "'u'은 알파벳 소문자이므로 'f'로 변환할 수 있습니다."
   ]
  },
  {
   "cell_type": "code",
   "execution_count": 47,
   "metadata": {},
   "outputs": [],
   "source": [
    "def solution(word):\n",
    "    \n",
    "    result = \"\"\n",
    "\n",
    "    for letter in word:\n",
    "        \n",
    "        if letter != \" \":\n",
    "            if 65 <= ord(letter) and  ord(letter)<= 90:\n",
    "                print(letter)\n",
    "                print(ord(letter))\n",
    "                temp_num = ord(letter)-65\n",
    "                num = 90 - temp_num\n",
    "                \n",
    "                result+=(chr(num))\n",
    "            else:\n",
    "                temp_num = ord(letter)-97\n",
    "                num = 122 - temp_num\n",
    "                \n",
    "                result+=(chr(num))\n",
    "        else:\n",
    "            result+=(\" \")\n",
    "        \n",
    "    \n",
    "    \n",
    "#     print ord(\"Z\")       # 출력 결과: 90\n",
    "\n",
    "#     print chr(90)  \n",
    "    \n",
    "    \n",
    "    \n",
    "    answer = ''\n",
    "    return result"
   ]
  },
  {
   "cell_type": "code",
   "execution_count": null,
   "metadata": {},
   "outputs": [],
   "source": []
  },
  {
   "cell_type": "code",
   "execution_count": 48,
   "metadata": {},
   "outputs": [
    {
     "ename": "SyntaxError",
     "evalue": "invalid syntax (<ipython-input-48-b801b0f5cd9a>, line 1)",
     "output_type": "error",
     "traceback": [
      "\u001b[0;36m  File \u001b[0;32m\"<ipython-input-48-b801b0f5cd9a>\"\u001b[0;36m, line \u001b[0;32m1\u001b[0m\n\u001b[0;31m    문제 설명\u001b[0m\n\u001b[0m        ^\u001b[0m\n\u001b[0;31mSyntaxError\u001b[0m\u001b[0;31m:\u001b[0m invalid syntax\n"
     ]
    }
   ],
   "source": [
    "문제 설명\n",
    "배달이가 좋아하는 369게임(배달이는 아재입니다.)을 하고자 합니다. 놀이법은 1부터 숫자를 하나씩 대면서, 3, 6, 9가 들어가는 숫자는 숫자를 말하는 대신 3, 6, 9의 개수만큼 손뼉을 쳐야 합니다.\n",
    "\n",
    "숫자 number가 매개변수로 주어질 때, 1부터 number까지 손뼉을 몇 번 쳐야 하는지 횟수를 return 하도록 solution 메서드를 완성해주세요.\n",
    "\n",
    "제한사항\n",
    "number는 1 이상 10,000 이하인 자연수입니다.\n",
    "입출력 예\n",
    "number\tresult\n",
    "13\t4\n",
    "33\t14\n",
    "입출력 예 설명\n",
    "입출력 예 #1\n",
    "1부터 13까지 총 4번의 손뼉을 쳐야 합니다.\n",
    "\n",
    "3\t6\t9\t13\n",
    "짝\t짝\t짝\t짝\n",
    "입출력 예 #2\n",
    "1부터 33까지 총 14번의 손뼉을 쳐야 합니다.\n",
    "\n",
    "3\t6\t9\t13\t16\t19\t23\t26\t29\t30\t31\t32\t33\n",
    "짝\t짝\t짝\t짝\t짝\t짝\t짝\t짝\t짝\t짝\t짝\t짝\t짝짝"
   ]
  },
  {
   "cell_type": "code",
   "execution_count": 49,
   "metadata": {},
   "outputs": [],
   "source": [
    "def solution(number):\n",
    "\n",
    "    selecte_values = ['3','6','9']\n",
    "    \n",
    "    result = 0 \n",
    "    for num in range(0,number+1):\n",
    "        num_str = str(num)\n",
    "        for partial_num in num_str:\n",
    "            if partial_num in selecte_values:\n",
    "                result+=1\n",
    "    \n",
    "    \n",
    "    \n",
    "    return result"
   ]
  },
  {
   "cell_type": "code",
   "execution_count": null,
   "metadata": {},
   "outputs": [],
   "source": []
  },
  {
   "cell_type": "code",
   "execution_count": null,
   "metadata": {},
   "outputs": [],
   "source": []
  },
  {
   "cell_type": "code",
   "execution_count": 50,
   "metadata": {},
   "outputs": [
    {
     "ename": "SyntaxError",
     "evalue": "invalid syntax (<ipython-input-50-0e6806d90746>, line 1)",
     "output_type": "error",
     "traceback": [
      "\u001b[0;36m  File \u001b[0;32m\"<ipython-input-50-0e6806d90746>\"\u001b[0;36m, line \u001b[0;32m1\u001b[0m\n\u001b[0;31m    문제 설명\u001b[0m\n\u001b[0m        ^\u001b[0m\n\u001b[0;31mSyntaxError\u001b[0m\u001b[0;31m:\u001b[0m invalid syntax\n"
     ]
    }
   ],
   "source": [
    "문제 설명\n",
    "성공한 덕후로서 연예 기획사에 입사를 하게 된 배달이는 첫 프로젝트로 콘서트 티켓팅을 진행하게 되었습니다. 기존에는 팬으로서 참여했던 티켓팅을 운영자로서 참여하게 되어서 감회가 새로운 배달이었지만 한편으로 팬들의 마음을 누구보다도 잘 알았기 때문에 그들의 힘듦을 최소화해주고 싶다는 책임감에 잠 못 이루었습니다. 결국 티켓팅 시뮬레이션을 통해 적절한 솔루션을 찾기 위해 테스트 시뮬레이션을 만들기로 하였습니다.\n",
    "\n",
    "총 티켓 수 totalTicket과 접속/취소 로그 배열 logs가 주어질 때, 아래의 시뮬레이션 설명을 참고하여 티켓팅에 성공한 유저의 아이디 목록을 추출하여 return 하도록 solution 메서드를 완성해주세요.\n",
    "\n",
    "시뮬레이션 설명\n",
    "접속 시도를 하면 request 로그가 남고 접속 후 1분 이내 접속을 종료하면 leave 로그가 남는다. (09:00:00에 request 후 09:00:59에 leave 시 구매 실패, 09:00:00에 request 후 09:01:00에 leave 시 구매 성공)\n",
    "이미 한 유저가 접속한 상태라면 다른 유저들은 접속을 할 수 없으며 다시 접속을 시도해야 한다.\n",
    "티켓을 구매하기 위해서는 서버 접속 후 1분을 유지해야 한다.\n",
    "티켓 구매를 성공한 유저는 접속은 가능하지만 다시 구매는 할 수 없다.\n",
    "KakaoTalk_Image_2019-03-15-09-37-55.png\n",
    "\n",
    "case 1\n",
    "09:12:29에 request 한 woni는 1분 동안 접속을 유지하여 티켓 구매에 성공함.\n",
    "case 2\n",
    "09:23:11에 request 한 brown은 1분 동안 접속을 유지하지 못하고 09:23:44초에 접속을 종료하여 leave 로그가 남으며 티켓 구매에 실패함.\n",
    "case 3\n",
    "jason과 jun과 cu가 접속을 시도하였지만 가장 빨리 접속 시도를 한 jason이 접속을 하였고 그 이후로 접속 시도한 jun과 cu는 접속을 실패함.\n",
    "구매 성공\n",
    "구매 중인 유저가 없을 때 request 하여 1분 동안 접속 유지(leave 로그가 없음)\n",
    "구매 실패\n",
    "접속 후 1분을 유지하지 못한 경우(leave 로그 있음)\n",
    "다른 유저가 접속한 상태에서 request 한 경우"
   ]
  },
  {
   "cell_type": "code",
   "execution_count": 51,
   "metadata": {},
   "outputs": [],
   "source": [
    "# 티켓팅에 성공한 유저의 아이디 목록을 추출하여 return 하도록\n",
    "\n",
    "              # 총 티켓 수 , 취소 로그 배열 \n",
    "def solution(totalTicket, logs):\n",
    "    \n",
    "    # 전략 매 로그마다 1. 티켓팅 시도 가능할시 집어넣고 \n",
    "    #               2. 티켓팅 시도중인 것 체크해서 성공리스트에 추가 가능한 경우 추가하기. \n",
    "    \n",
    "    successed = []\n",
    "    now_ticketing = []\n",
    "    log_length = len(logs)\n",
    "    \n",
    "    for index, log in enumerate(logs):\n",
    "        \n",
    "        # 현 정보 변수저장. \n",
    "        nick_name = log.split(' ')[0]\n",
    "        log_type = log.split(' ')[-1]\n",
    "        now_time = int(log.split(':')[-1]*60) + int(log.split(':')[-2])*60\n",
    "        \n",
    "        # 아무도 티켓팅 안하고 있다면 추가 \n",
    "        if now_ticketing == []:\n",
    "            now_ticketing.append([nick_name,log_type,now_time])\n",
    "            \n",
    "        # 앞서서 티켓팅 시도중이라면 \n",
    "        else:       \n",
    "            # 앞선것 시간 +60 and  앞선것과 현닉네임 다르면  앞선것 티켓팅 확정, \n",
    "            if ((now_time - now_ticketing[0][2]) >= 60) and (now_ticketing[0][0] != nick_name):\n",
    "                successed.append(now_ticketing.pop()[0])\n",
    "            \n",
    "            # 앞선것이 이번 타임에 leave할수도 있음 .\n",
    "            elif now_ticketing[0][0] == nick_name and now_ticketing[0][1]=='leave':\n",
    "                # 이경우 그냥 티켓팅중인곳에서 빼버리자.\n",
    "                now_ticketing.pop()\n",
    "                \n",
    "                \n",
    "# 마지막로그는 그다음번 없어서 마지막 로그 들어온 시점에 60초 안찬 로그나, 마지막 로그는  이후 티켓팅 성공했어도 success처리 해줄 수 없기 때문에\n",
    "# 마지막 에 티켓팅 큐에 들어온 친구는 따로 처리해주자. \n",
    "# 만약 3600 - time >= 60 이면 완료리스트에 넣어주자. \n",
    "    if now_ticketing:\n",
    "        if (3600 - now_ticketing[0][2]) >= 60:\n",
    "            successed.append(now_ticketing.pop()[0]) \n",
    "    \n",
    "    successed.sort()\n",
    "    \n",
    "    return successed"
   ]
  },
  {
   "cell_type": "code",
   "execution_count": null,
   "metadata": {},
   "outputs": [],
   "source": []
  },
  {
   "cell_type": "code",
   "execution_count": 52,
   "metadata": {},
   "outputs": [
    {
     "ename": "SyntaxError",
     "evalue": "invalid syntax (<ipython-input-52-77930f8a87db>, line 1)",
     "output_type": "error",
     "traceback": [
      "\u001b[0;36m  File \u001b[0;32m\"<ipython-input-52-77930f8a87db>\"\u001b[0;36m, line \u001b[0;32m1\u001b[0m\n\u001b[0;31m    문제 설명\u001b[0m\n\u001b[0m        ^\u001b[0m\n\u001b[0;31mSyntaxError\u001b[0m\u001b[0;31m:\u001b[0m invalid syntax\n"
     ]
    }
   ],
   "source": [
    "문제 설명\n",
    "암호문을 좋아하는 괴짜 개발자 브라운이 이번에는 중복 문자를 이용한 새로운 암호를 만들었습니다. 예를 들어 browoanoommnaon이라는 암호문은 다음과 같은 순서로 해독할 수 있습니다.\n",
    "\n",
    "1. \"browoanoommnaon\"\n",
    "2. \"browoannaon\"\n",
    "3. \"browoaaon\"\n",
    "4. \"browoon\"\n",
    "5. \"brown\"\n",
    "임의의 문자열 cryptogram이 매개변수로 주어질 때, 연속하는 중복 문자들을 삭제한 결과를 return 하도록 solution 메서드를 완성해주세요.\n",
    "\n",
    "제한사항\n",
    "cryptogram은 길이가 1 이상 1000 이하인 문자열입니다.\n",
    "cryptogram은 알파벳 소문자로만 이루어져 있습니다.\n",
    "입출력 예\n",
    "cryptogram\tresult\n",
    "browoanoommnaon\tbrown\n",
    "zyelleyz\t\"\"\n",
    "입출력 예 설명\n",
    "입출력 예 #1\n",
    "문제의 예시와 같습니다.\n",
    "\n",
    "입출력 예 #2\n",
    "다음과 같은 순서로 해독할 수 있습니다.\n",
    "\n",
    "1. \"zyelleyz\"\n",
    "2. \"zyeeyz\"\n",
    "3. \"zyyz\"\n",
    "4. \"zz\"\n",
    "5. \"\""
   ]
  },
  {
   "cell_type": "code",
   "execution_count": null,
   "metadata": {},
   "outputs": [],
   "source": [
    "def solution(cryptogram):\n",
    "    print(type(cryptogram))\n",
    "    count_deleted = True\n",
    "    while count_deleted:\n",
    "        count_deleted = False\n",
    "        \n",
    "        pre_value = ' '\n",
    "        split_pivot_list = []\n",
    "        for index, word in enumerate(cryptogram):\n",
    "            if pre_value == word:\n",
    "                split_pivot_list.append(pre_value + word)\n",
    "                count_deleted  = True\n",
    "            pre_value = word\n",
    "        \n",
    "        \n",
    "        for pivot in split_pivot_list:\n",
    "            part_list = cryptogram.split(pivot)\n",
    "            result = \"\"\n",
    "            for part in part_list:\n",
    "                result+=part\n",
    "            cryptogram = result \n",
    "                \n",
    "            \n",
    "    return cryptogram"
   ]
  }
 ],
 "metadata": {
  "kernelspec": {
   "display_name": "Python 3",
   "language": "python",
   "name": "python3"
  },
  "language_info": {
   "codemirror_mode": {
    "name": "ipython",
    "version": 3
   },
   "file_extension": ".py",
   "mimetype": "text/x-python",
   "name": "python",
   "nbconvert_exporter": "python",
   "pygments_lexer": "ipython3",
   "version": "3.6.5"
  }
 },
 "nbformat": 4,
 "nbformat_minor": 2
}
