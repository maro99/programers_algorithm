{
 "cells": [
  {
   "cell_type": "code",
   "execution_count": 5,
   "metadata": {},
   "outputs": [
    {
     "ename": "SyntaxError",
     "evalue": "invalid syntax (<ipython-input-5-b0244681e5d8>, line 1)",
     "output_type": "error",
     "traceback": [
      "\u001b[0;36m  File \u001b[0;32m\"<ipython-input-5-b0244681e5d8>\"\u001b[0;36m, line \u001b[0;32m1\u001b[0m\n\u001b[0;31m    문제 설명\u001b[0m\n\u001b[0m        ^\u001b[0m\n\u001b[0;31mSyntaxError\u001b[0m\u001b[0;31m:\u001b[0m invalid syntax\n"
     ]
    }
   ],
   "source": [
    "문제 설명\n",
    "n개의 음이 아닌 정수가 있습니다. 이 수를 적절히 더하거나 빼서 타겟 넘버를 만들려고 합니다. 예를 들어 [1, 1, 1, 1, 1]로 숫자 3을 만들려면 다음 다섯 방법을 쓸 수 있습니다.\n",
    "\n",
    "-1+1+1+1+1 = 3\n",
    "+1-1+1+1+1 = 3\n",
    "+1+1-1+1+1 = 3\n",
    "+1+1+1-1+1 = 3\n",
    "+1+1+1+1-1 = 3\n",
    "사용할 수 있는 숫자가 담긴 배열 numbers, 타겟 넘버 target이 매개변수로 주어질 때 숫자를 적절히 더하고 빼서 타겟 넘버를 만드는 방법의 수를 return 하도록 solution 함수를 작성해주세요.\n",
    "\n",
    "제한사항\n",
    "주어지는 숫자의 개수는 2개 이상 20개 이하입니다.\n",
    "각 숫자는 1 이상 50 이하인 자연수입니다.\n",
    "타겟 넘버는 1 이상 1000 이하인 자연수입니다.\n",
    "입출력 예\n",
    "numbers\ttarget\treturn\n",
    "[1, 1, 1, 1, 1]\t3\t5\n",
    "입출력 예 설명\n",
    "문제에 나온 예와 같습니다."
   ]
  },
  {
   "cell_type": "code",
   "execution_count": null,
   "metadata": {},
   "outputs": [],
   "source": []
  },
  {
   "cell_type": "code",
   "execution_count": 6,
   "metadata": {},
   "outputs": [],
   "source": [
    "# +1 하다보면 최대 2^20 의 경우의수 있다.  =100만. \n",
    "# DFS로 풀어야 하는뗴..이건 그냥 모든 경우의수 조합인듯. \n",
    "# --->아니근데 생각해보니 이게 깊이우선인데결국은. 맞는 방법이긴 한듯. \n",
    "\n",
    "count = 0\n",
    "def solution(numbers, target):\n",
    "    \n",
    "    p_m_list = []\n",
    "    for i in numbers:\n",
    "        p_m_list.append([i,-i])\n",
    "        \n",
    "    \n",
    "    def get_every_case(lista,d_stack,temp_sum):\n",
    "\n",
    "        global count\n",
    "        \n",
    "        if depth == d_stack:\n",
    "            if temp_sum == target:\n",
    "                count= count +1\n",
    "            return\n",
    "            \n",
    "        for i in range(2):\n",
    "            temp = temp_sum\n",
    "            temp_sum = temp_sum + lista[d_stack][i]\n",
    "            get_every_case(lista,d_stack+1,temp_sum)\n",
    "            temp_sum = temp\n",
    "            \n",
    "            \n",
    "    # count = 0 \n",
    "    temp_sum = 0\n",
    "    d_stack = 0 \n",
    "    depth = len(p_m_list)\n",
    "    get_every_case(p_m_list,d_stack,temp_sum)\n",
    "\n",
    "    return count"
   ]
  },
  {
   "cell_type": "code",
   "execution_count": null,
   "metadata": {},
   "outputs": [],
   "source": []
  },
  {
   "cell_type": "code",
   "execution_count": 55,
   "metadata": {},
   "outputs": [],
   "source": [
    "# DFS다른 사람이푼것. (이거 내거보다 1.5배빠름 ) \n",
    "\n",
    "answer = 0\n",
    "def DFS(idx, numbers, target, value):\n",
    "    global answer\n",
    "    N = len(numbers)\n",
    "    if(idx== N and target == value):\n",
    "        answer += 1\n",
    "        return\n",
    "    if(idx == N):\n",
    "        return\n",
    "\n",
    "    DFS(idx+1,numbers,target,value+numbers[idx])\n",
    "    DFS(idx+1,numbers,target,value-numbers[idx])\n",
    "def solution(numbers, target):\n",
    "    global answer\n",
    "    DFS(0,numbers,target,0)\n",
    "    return answer\n"
   ]
  },
  {
   "cell_type": "code",
   "execution_count": null,
   "metadata": {},
   "outputs": [],
   "source": []
  },
  {
   "cell_type": "code",
   "execution_count": null,
   "metadata": {},
   "outputs": [],
   "source": []
  },
  {
   "cell_type": "code",
   "execution_count": null,
   "metadata": {},
   "outputs": [],
   "source": []
  },
  {
   "cell_type": "code",
   "execution_count": null,
   "metadata": {},
   "outputs": [],
   "source": []
  },
  {
   "cell_type": "code",
   "execution_count": null,
   "metadata": {},
   "outputs": [],
   "source": []
  },
  {
   "cell_type": "code",
   "execution_count": null,
   "metadata": {},
   "outputs": [],
   "source": []
  },
  {
   "cell_type": "code",
   "execution_count": null,
   "metadata": {},
   "outputs": [],
   "source": [
    "# 다른 사람거 안보고 다시 해봄 \n",
    "def DFS(numbers, target, depth, value_sum):\n",
    "    global count\n",
    "    \n",
    "    if depth == len(numbers):\n",
    "        if value_sum == target:\n",
    "            count+=1\n",
    "        return\n",
    "    \n",
    "    \n",
    "    DFS(numbers, target, depth+1, value_sum +numbers[depth])\n",
    "    DFS(numbers, target, depth+1, value_sum -numbers[depth])\n",
    "    \n",
    "count = 0\n",
    "def solution(numbers, target):\n",
    "    \n",
    "     \n",
    "    DFS(numbers, target, 0, 0)\n",
    "    \n",
    "    return count"
   ]
  },
  {
   "cell_type": "code",
   "execution_count": null,
   "metadata": {},
   "outputs": [],
   "source": []
  },
  {
   "cell_type": "code",
   "execution_count": null,
   "metadata": {},
   "outputs": [],
   "source": []
  },
  {
   "cell_type": "code",
   "execution_count": null,
   "metadata": {},
   "outputs": [],
   "source": []
  },
  {
   "cell_type": "code",
   "execution_count": null,
   "metadata": {},
   "outputs": [],
   "source": []
  },
  {
   "cell_type": "code",
   "execution_count": null,
   "metadata": {},
   "outputs": [],
   "source": []
  },
  {
   "cell_type": "code",
   "execution_count": null,
   "metadata": {},
   "outputs": [],
   "source": []
  },
  {
   "cell_type": "code",
   "execution_count": null,
   "metadata": {},
   "outputs": [],
   "source": []
  },
  {
   "cell_type": "code",
   "execution_count": null,
   "metadata": {},
   "outputs": [],
   "source": []
  },
  {
   "cell_type": "code",
   "execution_count": null,
   "metadata": {},
   "outputs": [],
   "source": []
  },
  {
   "cell_type": "code",
   "execution_count": null,
   "metadata": {},
   "outputs": [],
   "source": []
  },
  {
   "cell_type": "code",
   "execution_count": null,
   "metadata": {},
   "outputs": [],
   "source": []
  },
  {
   "cell_type": "code",
   "execution_count": null,
   "metadata": {},
   "outputs": [],
   "source": []
  },
  {
   "cell_type": "code",
   "execution_count": null,
   "metadata": {},
   "outputs": [],
   "source": []
  },
  {
   "cell_type": "code",
   "execution_count": null,
   "metadata": {},
   "outputs": [],
   "source": []
  },
  {
   "cell_type": "code",
   "execution_count": null,
   "metadata": {},
   "outputs": [],
   "source": [
    "##################\n",
    "# 전역변수 관한 고찰 #\n",
    "##################"
   ]
  },
  {
   "cell_type": "code",
   "execution_count": 9,
   "metadata": {},
   "outputs": [
    {
     "name": "stdout",
     "output_type": "stream",
     "text": [
      "inside test 2\n",
      "after test 2\n"
     ]
    }
   ],
   "source": [
    "# 이렇게 가져다쓰는건 되지만 바꾸려면 global 넣어줘야함. \n",
    "a = 2\n",
    "\n",
    "def test():\n",
    "    print(\"inside test\", a)\n",
    "#     a = 3\n",
    "\n",
    "test()\n",
    "print(\"after test\", a)"
   ]
  },
  {
   "cell_type": "code",
   "execution_count": 13,
   "metadata": {},
   "outputs": [
    {
     "name": "stdout",
     "output_type": "stream",
     "text": [
      "inside test 2\n",
      "after test 3\n"
     ]
    }
   ],
   "source": [
    "# 값 바뀌는 경우 글로벌 안넣어주면 안됨. \n",
    "c = 2\n",
    "\n",
    "def test():\n",
    "    global c\n",
    "    print(\"inside test\", c)\n",
    "    c = 3  # 바꾸는 경우 \n",
    "\n",
    "test()\n",
    "print(\"after test\", c)"
   ]
  },
  {
   "cell_type": "code",
   "execution_count": 20,
   "metadata": {},
   "outputs": [
    {
     "name": "stdout",
     "output_type": "stream",
     "text": [
      "inside test 2\n",
      "after test 2\n",
      "inside test 2\n"
     ]
    }
   ],
   "source": [
    "# 이중 함수인경우 역시 가져다 쓰는건 됨. 바로밖, 가장 밖 둘다 \n",
    "\n",
    "# 가장밖 \n",
    "a = 2\n",
    "\n",
    "def test():\n",
    "    \n",
    "    def test2():\n",
    "        print(\"inside test\", a)\n",
    "        \n",
    "    test2()\n",
    "\n",
    "test()\n",
    "print(\"after test\", a)\n",
    "\n",
    "# 바로밖 \n",
    "\n",
    "def test3():\n",
    "    \n",
    "    def test4():\n",
    "        print(\"inside test\", b)\n",
    "    \n",
    "    b = 2\n",
    "    test4()\n",
    "\n",
    "test3()\n"
   ]
  },
  {
   "cell_type": "code",
   "execution_count": 46,
   "metadata": {},
   "outputs": [
    {
     "ename": "UnboundLocalError",
     "evalue": "local variable 'e' referenced before assignment",
     "output_type": "error",
     "traceback": [
      "\u001b[0;31m---------------------------------------------------------------------------\u001b[0m",
      "\u001b[0;31mUnboundLocalError\u001b[0m                         Traceback (most recent call last)",
      "\u001b[0;32m<ipython-input-46-e0640c35f364>\u001b[0m in \u001b[0;36m<module>\u001b[0;34m()\u001b[0m\n\u001b[1;32m     13\u001b[0m     \u001b[0mtest2\u001b[0m\u001b[0;34m(\u001b[0m\u001b[0;34m)\u001b[0m\u001b[0;34m\u001b[0m\u001b[0;34m\u001b[0m\u001b[0m\n\u001b[1;32m     14\u001b[0m \u001b[0;34m\u001b[0m\u001b[0m\n\u001b[0;32m---> 15\u001b[0;31m \u001b[0mtest\u001b[0m\u001b[0;34m(\u001b[0m\u001b[0;34m)\u001b[0m\u001b[0;34m\u001b[0m\u001b[0;34m\u001b[0m\u001b[0m\n\u001b[0m\u001b[1;32m     16\u001b[0m \u001b[0mprint\u001b[0m\u001b[0;34m(\u001b[0m\u001b[0;34m\"after test\"\u001b[0m\u001b[0;34m,\u001b[0m \u001b[0me\u001b[0m\u001b[0;34m)\u001b[0m\u001b[0;34m\u001b[0m\u001b[0;34m\u001b[0m\u001b[0m\n\u001b[1;32m     17\u001b[0m \u001b[0;34m\u001b[0m\u001b[0m\n",
      "\u001b[0;32m<ipython-input-46-e0640c35f364>\u001b[0m in \u001b[0;36mtest\u001b[0;34m()\u001b[0m\n\u001b[1;32m     11\u001b[0m         \u001b[0mprint\u001b[0m\u001b[0;34m(\u001b[0m\u001b[0;34m\"inside test\"\u001b[0m\u001b[0;34m,\u001b[0m \u001b[0me\u001b[0m\u001b[0;34m)\u001b[0m\u001b[0;34m\u001b[0m\u001b[0;34m\u001b[0m\u001b[0m\n\u001b[1;32m     12\u001b[0m \u001b[0;34m\u001b[0m\u001b[0m\n\u001b[0;32m---> 13\u001b[0;31m     \u001b[0mtest2\u001b[0m\u001b[0;34m(\u001b[0m\u001b[0;34m)\u001b[0m\u001b[0;34m\u001b[0m\u001b[0;34m\u001b[0m\u001b[0m\n\u001b[0m\u001b[1;32m     14\u001b[0m \u001b[0;34m\u001b[0m\u001b[0m\n\u001b[1;32m     15\u001b[0m \u001b[0mtest\u001b[0m\u001b[0;34m(\u001b[0m\u001b[0;34m)\u001b[0m\u001b[0;34m\u001b[0m\u001b[0;34m\u001b[0m\u001b[0m\n",
      "\u001b[0;32m<ipython-input-46-e0640c35f364>\u001b[0m in \u001b[0;36mtest2\u001b[0;34m()\u001b[0m\n\u001b[1;32m      8\u001b[0m     \u001b[0;32mdef\u001b[0m \u001b[0mtest2\u001b[0m\u001b[0;34m(\u001b[0m\u001b[0;34m)\u001b[0m\u001b[0;34m:\u001b[0m    \u001b[0;31m# 엄밀히 말하면\u001b[0m\u001b[0;34m\u001b[0m\u001b[0;34m\u001b[0m\u001b[0m\n\u001b[1;32m      9\u001b[0m \u001b[0;31m#         e =3        # 이런 식으로 할당하면 지역변수 되버리고\u001b[0m\u001b[0;34m\u001b[0m\u001b[0;34m\u001b[0m\u001b[0;34m\u001b[0m\u001b[0m\n\u001b[0;32m---> 10\u001b[0;31m         \u001b[0me\u001b[0m \u001b[0;34m+=\u001b[0m\u001b[0;36m3\u001b[0m     \u001b[0;31m# 이런식으로 e= e=2 이렇게 가져다 쓰려 하면 아예 안가져와짐.\u001b[0m\u001b[0;34m\u001b[0m\u001b[0;34m\u001b[0m\u001b[0m\n\u001b[0m\u001b[1;32m     11\u001b[0m         \u001b[0mprint\u001b[0m\u001b[0;34m(\u001b[0m\u001b[0;34m\"inside test\"\u001b[0m\u001b[0;34m,\u001b[0m \u001b[0me\u001b[0m\u001b[0;34m)\u001b[0m\u001b[0;34m\u001b[0m\u001b[0;34m\u001b[0m\u001b[0m\n\u001b[1;32m     12\u001b[0m \u001b[0;34m\u001b[0m\u001b[0m\n",
      "\u001b[0;31mUnboundLocalError\u001b[0m: local variable 'e' referenced before assignment"
     ]
    }
   ],
   "source": [
    "# 만약 변경하려 하면 안됨. \n",
    "\n",
    "# 가장밖 \n",
    "e = 2\n",
    "\n",
    "def test():\n",
    "    \n",
    "    def test2():    # 엄밀히 말하면 \n",
    "#         e =3        # 이런 식으로 할당하면 지역변수 되버리고 \n",
    "        e +=3     # 이런식으로 e= e=2 이렇게 가져다 쓰려 하면 아예 안가져와짐.\n",
    "        print(\"inside test\", e)\n",
    "        \n",
    "    test2()\n",
    "\n",
    "test()\n",
    "print(\"after test\", e)\n",
    "\n",
    "# 바로밖 \n",
    "\n",
    "def test3():\n",
    "    \n",
    "    def test4():    # 여기도 엄밀히 말하면 \n",
    "#         f=3         # 이런식으로 지역변수에 할당하는건 되지만 \n",
    "        f= f+3      # 이런 식으로 바로밖 값 가져와서 변경은 안됨 (그냥 가져다 쓰는 건 바로위에서 된거 확인)\n",
    "        \n",
    "        print(\"inside test\", f)\n",
    "    \n",
    "    f = 2\n",
    "    test4()\n",
    "    print(\"after test\", f)\n",
    "\n",
    "test3()\n"
   ]
  },
  {
   "cell_type": "code",
   "execution_count": 54,
   "metadata": {},
   "outputs": [
    {
     "name": "stdout",
     "output_type": "stream",
     "text": [
      "inside test 5\n",
      "after test 5\n"
     ]
    }
   ],
   "source": [
    "# 그래서 해결책은 이번 문제 푼것처럼 글로벌? \n",
    "\n",
    "# 가장밖 \n",
    "h = 2\n",
    "\n",
    "def test():\n",
    "    \n",
    "    def test2():    \n",
    "        global h\n",
    "#         h =3       \n",
    "        h +=3     \n",
    "        print(\"inside test\", h)\n",
    "        \n",
    "    test2()\n",
    "\n",
    "test() # -> 오류 x\n",
    "print(\"after test\", h)\n",
    "\n",
    "# 바로밖 \n",
    "\n",
    "def test3():\n",
    "    \n",
    "    \n",
    "    def test4():\n",
    "        global g\n",
    "\n",
    "        g= g+3    \n",
    "        \n",
    "        print(\"inside test\", g)\n",
    "    \n",
    "    g = 2\n",
    "    test4()\n",
    "    print(\"after test\", g)\n",
    "\n",
    "# test3() #   -> h 정의 안됬다며 오류 \n",
    "\n",
    "\n",
    "# 가장밖 + 글로벌을 바로 밖에 \n",
    "\n",
    "j = 2 \n",
    "def test5():\n",
    "    \n",
    "    global j\n",
    "    \n",
    "    def test4():\n",
    "        \n",
    "        j= j+3    \n",
    "        \n",
    "        print(\"inside test\", j)\n",
    "    \n",
    "    test4()\n",
    "    print(\"after test\", j)\n",
    "\n",
    "# test5()   -> 할당전 쓴다며 오류 \n",
    "\n",
    "\n",
    "# 고찰 \n",
    "# 가장 밖의 경우는 예상처럼 전역변수 잘 작동 하지만 \n",
    "# 바로밖의 경우는 내부함수 함수 내부에서 global 쓴다고 바로밖 함수의 g를 전역변수화 쓰지 않음. \n",
    "# \n",
    "\n",
    "# 즉 값을 가져오고 싶으면 그냥 함수 바로밖 or 가장밖에 놓고 안변하게 가져와 쓸 수 있지만. \n",
    "# 값을 축적하거나 쌓아가고 싶은 경우에는 가장밖에 초기값 놓고 쓸 함수 안에서 global이라 명시해 줘야함. \n",
    "# ( 변수 쓸 함수에서 global 안해주면 선언 안해준거라면서 애러뜸. -> 마지막 경우. )\n"
   ]
  },
  {
   "cell_type": "code",
   "execution_count": null,
   "metadata": {},
   "outputs": [],
   "source": []
  },
  {
   "cell_type": "code",
   "execution_count": 2,
   "metadata": {},
   "outputs": [
    {
     "name": "stdout",
     "output_type": "stream",
     "text": [
      "level : 1 2\n",
      "level : 2 3\n",
      "level : 3 3\n"
     ]
    }
   ],
   "source": [
    "# 가장 밖의 전역변수 함수, 그안에서 쓰는 함수 에서 global로 가져다 쓰면?   --> 암튼 아래같은 방식으로 공용 가능. \n",
    "\n",
    "kk  = 1 \n",
    "\n",
    "def func1():\n",
    "    global kk\n",
    "    kk +=1\n",
    "    print(f'level : 1 {kk}')\n",
    "    \n",
    "    func2()\n",
    "    print(f'level : 2 {kk}')\n",
    "  \n",
    "    \n",
    "def func2():\n",
    "    global kk\n",
    "    kk +=1\n",
    "\n",
    "func1()\n",
    "print(f'level : 3 {kk}')\n",
    "\n"
   ]
  },
  {
   "cell_type": "code",
   "execution_count": null,
   "metadata": {},
   "outputs": [],
   "source": []
  },
  {
   "cell_type": "code",
   "execution_count": 3,
   "metadata": {},
   "outputs": [
    {
     "name": "stdout",
     "output_type": "stream",
     "text": [
      "level : 1 [0, 0, 0, 0, 0]\n",
      "level : 2 [1, 1, 1, 1, 1]\n",
      "level : 3 [1, 1, 1, 1, 1]\n"
     ]
    }
   ],
   "source": [
    "# 리스트 라면? ->응 잘되 . \n",
    "kk  = [] \n",
    "\n",
    "def func1():\n",
    "    global kk\n",
    "    kk  = [0]*5\n",
    "    print(f'level : 1 {kk}')\n",
    "    \n",
    "    func2()\n",
    "    print(f'level : 2 {kk}')\n",
    "  \n",
    "    \n",
    "def func2():\n",
    "    global kk\n",
    "\n",
    "    for index, i in enumerate(kk):\n",
    "        kk[index] = 1\n",
    "        \n",
    "        \n",
    "func1()\n",
    "print(f'level : 3 {kk}')\n",
    "\n"
   ]
  },
  {
   "cell_type": "code",
   "execution_count": null,
   "metadata": {},
   "outputs": [],
   "source": []
  }
 ],
 "metadata": {
  "kernelspec": {
   "display_name": "Python 3",
   "language": "python",
   "name": "python3"
  },
  "language_info": {
   "codemirror_mode": {
    "name": "ipython",
    "version": 3
   },
   "file_extension": ".py",
   "mimetype": "text/x-python",
   "name": "python",
   "nbconvert_exporter": "python",
   "pygments_lexer": "ipython3",
   "version": "3.6.5"
  }
 },
 "nbformat": 4,
 "nbformat_minor": 2
}
