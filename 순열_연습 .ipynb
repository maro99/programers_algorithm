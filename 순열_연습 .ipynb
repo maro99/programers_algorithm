{
 "cells": [
  {
   "cell_type": "code",
   "execution_count": 29,
   "metadata": {},
   "outputs": [],
   "source": [
    "# [\"A\",\"B\",\"C\"] 가지고 가능한 모든 순열 을 구해보자.  3개뽑을대, 2개, 1개 각각가능하도록.\n",
    "# https://www.evernote.com/u/0/client/web#?fs=true&n=4babd507-3027-4517-9b4e-39717928323c&s=s372&\n",
    "\n",
    "# 3개 뽑는 경우 \n",
    "# \n",
    "# depth 0 에서 기존 ABC 의  0자리 바뀜 \n",
    "# a[0] <-> a[0]       [A] BC       *(이경우 먼저 보는거임  [] 안이 해당 depth 에서 확정 )      \n",
    "# a[0] <-> a[1]       [B] AC       ** \n",
    "# a[0] <-> a[2]       [C] AB\n",
    "\n",
    "# depth 1 에서 \n",
    "# 앞자리 A인경우  -> ABC의 1자리 바뀜 .\n",
    "# a[0][1] < - > a[0][1]  [AB]C\n",
    "# a[0][1] < - > a[0][2]  [AC]B \n",
    "# 앞자리 B인경우 \n",
    "# 앞자리 C인경우 \n",
    "\n",
    "# depth 2에서 \n",
    "# a[0][1] 즉 앞이 AB 확정인 경우 \n",
    "# a[0][1][2] <-> a[0][1][2] 그대로감. [ABC]\n",
    "#\n",
    "# a[0][2] 즉 앞이 AC 확정인 경우 \n",
    "# a[0][2][1] < -> a[0][2][1] 그대로감. [ACB]\n",
    "\n",
    "## 다시 depth 0부터 **경우 똑같이 풀면됨. \n",
    "\n",
    "\n",
    "# 포인트는 depth 에서 depth번째 와 depth~ 끝번째 까지를 한번씩 교환한다는것. \n",
    "result = []\n",
    "def permutation(lista, depth, n, k ):\n",
    "    \n",
    "    global result \n",
    "    \n",
    "    if k == depth:\n",
    "        result.append(lista[:k])\n",
    "        return\n",
    "        \n",
    "        \n",
    "    for i in range(depth,n+1):\n",
    "        swap(lista,depth,i)\n",
    "        permutation(lista, depth+1, n, k )\n",
    "        swap(lista,depth,i)\n",
    "        \n",
    "def swap(listb,d,i):\n",
    "    x,y = listb[d], listb[i]\n",
    "    listb[d], listb[i] = y,x\n",
    "    \n",
    "    "
   ]
  },
  {
   "cell_type": "code",
   "execution_count": 30,
   "metadata": {},
   "outputs": [],
   "source": [
    "listc = [\"A\",\"B\",\"C\"] \n",
    "listd = [\"1\",\"2\",\"3\",\"4\",\"5\"]\n",
    "permutation(listd,0,len(listd)-1,3)"
   ]
  },
  {
   "cell_type": "code",
   "execution_count": 31,
   "metadata": {},
   "outputs": [
    {
     "data": {
      "text/plain": [
       "[['1', '2', '3'],\n",
       " ['1', '2', '4'],\n",
       " ['1', '2', '5'],\n",
       " ['1', '3', '2'],\n",
       " ['1', '3', '4'],\n",
       " ['1', '3', '5'],\n",
       " ['1', '4', '3'],\n",
       " ['1', '4', '2'],\n",
       " ['1', '4', '5'],\n",
       " ['1', '5', '3'],\n",
       " ['1', '5', '4'],\n",
       " ['1', '5', '2'],\n",
       " ['2', '1', '3'],\n",
       " ['2', '1', '4'],\n",
       " ['2', '1', '5'],\n",
       " ['2', '3', '1'],\n",
       " ['2', '3', '4'],\n",
       " ['2', '3', '5'],\n",
       " ['2', '4', '3'],\n",
       " ['2', '4', '1'],\n",
       " ['2', '4', '5'],\n",
       " ['2', '5', '3'],\n",
       " ['2', '5', '4'],\n",
       " ['2', '5', '1'],\n",
       " ['3', '2', '1'],\n",
       " ['3', '2', '4'],\n",
       " ['3', '2', '5'],\n",
       " ['3', '1', '2'],\n",
       " ['3', '1', '4'],\n",
       " ['3', '1', '5'],\n",
       " ['3', '4', '1'],\n",
       " ['3', '4', '2'],\n",
       " ['3', '4', '5'],\n",
       " ['3', '5', '1'],\n",
       " ['3', '5', '4'],\n",
       " ['3', '5', '2'],\n",
       " ['4', '2', '3'],\n",
       " ['4', '2', '1'],\n",
       " ['4', '2', '5'],\n",
       " ['4', '3', '2'],\n",
       " ['4', '3', '1'],\n",
       " ['4', '3', '5'],\n",
       " ['4', '1', '3'],\n",
       " ['4', '1', '2'],\n",
       " ['4', '1', '5'],\n",
       " ['4', '5', '3'],\n",
       " ['4', '5', '1'],\n",
       " ['4', '5', '2'],\n",
       " ['5', '2', '3'],\n",
       " ['5', '2', '4'],\n",
       " ['5', '2', '1'],\n",
       " ['5', '3', '2'],\n",
       " ['5', '3', '4'],\n",
       " ['5', '3', '1'],\n",
       " ['5', '4', '3'],\n",
       " ['5', '4', '2'],\n",
       " ['5', '4', '1'],\n",
       " ['5', '1', '3'],\n",
       " ['5', '1', '4'],\n",
       " ['5', '1', '2']]"
      ]
     },
     "execution_count": 31,
     "metadata": {},
     "output_type": "execute_result"
    }
   ],
   "source": [
    "result"
   ]
  },
  {
   "cell_type": "code",
   "execution_count": 32,
   "metadata": {},
   "outputs": [
    {
     "data": {
      "text/plain": [
       "60"
      ]
     },
     "execution_count": 32,
     "metadata": {},
     "output_type": "execute_result"
    }
   ],
   "source": [
    "len(result)"
   ]
  },
  {
   "cell_type": "code",
   "execution_count": 34,
   "metadata": {},
   "outputs": [
    {
     "ename": "TypeError",
     "evalue": "unhashable type: 'list'",
     "output_type": "error",
     "traceback": [
      "\u001b[0;31m---------------------------------------------------------------------------\u001b[0m",
      "\u001b[0;31mTypeError\u001b[0m                                 Traceback (most recent call last)",
      "\u001b[0;32m<ipython-input-34-4b11f8ee0145>\u001b[0m in \u001b[0;36m<module>\u001b[0;34m()\u001b[0m\n\u001b[0;32m----> 1\u001b[0;31m \u001b[0mlen\u001b[0m\u001b[0;34m(\u001b[0m\u001b[0mset\u001b[0m\u001b[0;34m(\u001b[0m\u001b[0mresult\u001b[0m\u001b[0;34m)\u001b[0m\u001b[0;34m)\u001b[0m\u001b[0;34m\u001b[0m\u001b[0;34m\u001b[0m\u001b[0m\n\u001b[0m",
      "\u001b[0;31mTypeError\u001b[0m: unhashable type: 'list'"
     ]
    }
   ],
   "source": []
  },
  {
   "cell_type": "code",
   "execution_count": null,
   "metadata": {},
   "outputs": [],
   "source": []
  }
 ],
 "metadata": {
  "kernelspec": {
   "display_name": "Python 3",
   "language": "python",
   "name": "python3"
  },
  "language_info": {
   "codemirror_mode": {
    "name": "ipython",
    "version": 3
   },
   "file_extension": ".py",
   "mimetype": "text/x-python",
   "name": "python",
   "nbconvert_exporter": "python",
   "pygments_lexer": "ipython3",
   "version": "3.6.5"
  }
 },
 "nbformat": 4,
 "nbformat_minor": 2
}
