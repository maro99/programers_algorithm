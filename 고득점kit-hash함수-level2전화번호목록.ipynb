{
 "cells": [
  {
   "cell_type": "markdown",
   "metadata": {},
   "source": [
    "구조대 : 119  \n",
    "박준영 : 97 674 223  \n",
    "지영석 : 11 9552 4421  \n",
    "전화번호부에 적힌 전화번호를 담은 배열 phone_book 이 solution 함수의 매개변수로 주어질 때, 어떤 번호가 다른 번호의 접두어인 경우가 있으면   false를 그렇지 않으면 true를 return 하도록 solution 함수를 작성해주세요.  \n",
    "\n",
    "제한 사항  \n",
    "phone_book의 길이는 1 이상 1,000,000 이하입니다.  \n",
    "각 전화번호의 길이는 1 이상 20 이하입니다.  \n",
    "입출력 예제  \n",
    "phone_book\treturn  \n",
    "[119, 97674223, 1195524421]\tfalse  \n",
    "[123,456,789]\ttrue  \n",
    "[12,123,1235,567,88]\tfalse  \n",
    "입출력 예 설명  \n",
    "입출력 예 #1  \n",
    "앞에서 설명한 예와 같습니다.  \n",
    "\n",
    "입출력 예 #2  \n",
    "한 번호가 다른 번호의 접두사인 경우가 없으므로, 답은 true입니다.  \n",
    "\n",
    "입출력 예 #3  \n",
    "첫 번째 전화번호, “12”가 두 번째 전화번호 “123”의 접두사입니다. 따라서 답은 false입니다.  "
   ]
  },
  {
   "cell_type": "code",
   "execution_count": null,
   "metadata": {},
   "outputs": [],
   "source": [
    "def solution(phone_book):\n",
    "    check_dict = dict()  \n",
    "    \n",
    "    phone_book.sort()\n",
    "    \n",
    "    for number in phone_book:\n",
    "        \n",
    "        temp_number = \"\"\n",
    "        for i in number:\n",
    "            temp_number += i\n",
    "            if check_dict.get(temp_number):\n",
    "                return False\n",
    "        \n",
    "        check_dict[number] = number\n",
    "        \n",
    "    \n",
    "    print(phone_book)\n",
    "    \n",
    "    answer = True\n",
    "    return answer"
   ]
  },
  {
   "cell_type": "code",
   "execution_count": null,
   "metadata": {},
   "outputs": [],
   "source": []
  }
 ],
 "metadata": {
  "kernelspec": {
   "display_name": "Python 3",
   "language": "python",
   "name": "python3"
  },
  "language_info": {
   "codemirror_mode": {
    "name": "ipython",
    "version": 3
   },
   "file_extension": ".py",
   "mimetype": "text/x-python",
   "name": "python",
   "nbconvert_exporter": "python",
   "pygments_lexer": "ipython3",
   "version": "3.6.5"
  }
 },
 "nbformat": 4,
 "nbformat_minor": 2
}
