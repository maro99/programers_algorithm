{
 "cells": [
  {
   "cell_type": "code",
   "execution_count": 1,
   "metadata": {},
   "outputs": [
    {
     "ename": "SyntaxError",
     "evalue": "invalid syntax (<ipython-input-1-c7a245c522ce>, line 1)",
     "output_type": "error",
     "traceback": [
      "\u001b[0;36m  File \u001b[0;32m\"<ipython-input-1-c7a245c522ce>\"\u001b[0;36m, line \u001b[0;32m1\u001b[0m\n\u001b[0;31m    문제 설명\u001b[0m\n\u001b[0m        ^\u001b[0m\n\u001b[0;31mSyntaxError\u001b[0m\u001b[0;31m:\u001b[0m invalid syntax\n"
     ]
    }
   ],
   "source": [
    "문제 설명\n",
    "조이스틱으로 알파벳 이름을 완성하세요. 맨 처음엔 A로만 이루어져 있습니다.\n",
    "ex) 완성해야 하는 이름이 세 글자면 AAA, 네 글자면 AAAA\n",
    "\n",
    "조이스틱을 각 방향으로 움직이면 아래와 같습니다.\n",
    "\n",
    "▲ - 다음 알파벳\n",
    "▼ - 이전 알파벳 (A에서 아래쪽으로 이동하면 Z로)\n",
    "◀ - 커서를 왼쪽으로 이동 (첫 번째 위치에서 왼쪽으로 이동하면 마지막 문자에 커서)\n",
    "▶ - 커서를 오른쪽으로 이동\n",
    "예를 들어 아래의 방법으로 JAZ를 만들 수 있습니다.\n",
    "\n",
    "- 첫 번째 위치에서 조이스틱을 위로 9번 조작하여 J를 완성합니다.\n",
    "- 조이스틱을 왼쪽으로 1번 조작하여 커서를 마지막 문자 위치로 이동시킵니다.\n",
    "- 마지막 위치에서 조이스틱을 아래로 1번 조작하여 Z를 완성합니다.\n",
    "따라서 11번 이동시켜 \"JAZ\"를 만들 수 있고, 이때가 최소 이동입니다.\n",
    "만들고자 하는 이름 name이 매개변수로 주어질 때, 이름에 대해 조이스틱 조작\n",
    "횟수의 최솟값을 return 하도록 solution 함수를 만드세요.\n",
    "\n",
    "제한 사항\n",
    "name은 알파벳 대문자로만 이루어져 있습니다.\n",
    "name의 길이는 1 이상 20 이하입니다.\n",
    "입출력 예\n",
    "name\treturn\n",
    "JEROEN\t56\n",
    "JAN\t23\n"
   ]
  },
  {
   "cell_type": "code",
   "execution_count": 33,
   "metadata": {},
   "outputs": [],
   "source": [
    "import copy\n",
    "\n",
    "def solution(name):\n",
    "    \n",
    "    alphabet_1 = ['A','B','C','D','E','F','G','H','I','J','K','L','M','N']\n",
    "    alphabet_2 = ['A','Z', 'Y', 'X', 'W', 'V', 'U', 'T', 'S', 'R', 'Q', 'P', 'O']\n",
    "\n",
    "    # 세로로 몇번 움직이는지 정하고 \n",
    "    # 가로로 몇번 움직여서 바꿔야 되는 곳들 순회하는지 정하자. \n",
    "    \n",
    "    should_visit = [] # 가로로 방문해야 되는 곳들 \n",
    "    vertical_shifts = [] # 새로로 변경 해야되는 곳들. A인경우는 0 넣어주겠슴. \n",
    "    \n",
    "    # B ~ M 은 위로 바꾸는게 빠르고 \n",
    "    # O~Z 는 반대로 바꾸는 것이 빠름 \n",
    "    # N은 둘다 상관 없음 -> 걍 맨위에 경우에 포함 되도록 함. \n",
    "    \n",
    "    # 세로 이동부터 다 더해줌.(어쨌든 세로 이동은 최적 고정임)\n",
    "    for char in name:\n",
    "        if char <='N':\n",
    "            for index, char_temp in enumerate(alphabet_1):\n",
    "                if char_temp == char:\n",
    "                    vertical_shifts.append(index)\n",
    "                    print(char, index)\n",
    "            \n",
    "        elif char > \"N\":\n",
    "            for index, char_temp in enumerate(alphabet_2):\n",
    "                \n",
    "                if char_temp == char:\n",
    "                    vertical_shifts.append(index)\n",
    "                    print(char,index)\n",
    "        \n",
    "        print('@@@@@@@@@@@@@@@@@@@@@')\n",
    "        \n",
    "    # 혹운 기존에 주어진 JEROEN 에서 A가 아닌 경우 빼고 이동최소화 하는 것을 구해보자. \n",
    "    # 걍 좌로 갈때 우로갈때의 경우 카운트 해보고 둘중에 적은 경우를 더하자. \n",
    "    \n",
    "    \n",
    "    \n",
    "#    i) 처음부터 좌 -> \n",
    "#    ii) [우1-좌~, 우2-좌 ~ ..우 -좌0 ] \n",
    "#    이 두가지로 모두 커버 가능. \n",
    "    \n",
    "    \n",
    "    \n",
    "#     # 우로 이동하는 경우 \n",
    "#     r_count = 0 \n",
    "#     for i, char in enumerate(name[1:]):\n",
    "#         if char != 'A':\n",
    "#             r_count = i\n",
    "    \n",
    "    \n",
    "    # 바로 좌로 이동하는 경우 \n",
    "    l_count = 0 \n",
    "    name = name[::-1]\n",
    "    for i, char in enumerate(name[:-1]):\n",
    "        print(i)\n",
    "        if name[i] != \"A\":\n",
    "            l_count = i\n",
    "    \n",
    "    \n",
    "    # 우  섞어서 이동하는 경우  (좌우던 우좌던 같다 사실! )\n",
    "    # \"AZAAAAAAAZ\" 이런경우. \n",
    "    name = name[::-1]\n",
    "    \n",
    "    lr_counts = []\n",
    "    # 우 -> 좌 인 경우 \n",
    "    for i,char in enumerate(name):\n",
    "        # 한칸까지 좌로 가고 그다음 우로 가는 경우~ \n",
    "        # 두칸까지 좌로가고 그다음 우로 가는 경우 ~ ...\n",
    "        name = name[::-1]\n",
    "        temp = i + 1  # 마지막 경우 우 -> 끝까지 이경우 걍 인덱스 저장해야되서. (아레 하부 for문은 안돔) \n",
    "        \n",
    "        for j,char_temp in enumerate(name[:-(i+1)]):\n",
    "            if name[j] !=\"A\":\n",
    "                temp = i+j +2 # 초기 우 -> 터닝포인트 -> 좌이동 시작 -> 원점 이것때문에 2 추가해줌 .\n",
    "                              # 원점 인덱스가 0이라 카운트 안됬기 때문에 \n",
    "        lr_counts.append(temp) \n",
    "        name = name[::-1]\n",
    "    \n",
    "    lr_count = min(lr_counts)\n",
    "        \n",
    "    \n",
    "    print(vertical_shifts)\n",
    "#     print(r_count,l_count,lr_count)\n",
    "    \n",
    "    count = sum(vertical_shifts) + min(l_count+1, lr_count)\n",
    "    \n",
    "    \n",
    "    answer = 0\n",
    "    return count"
   ]
  },
  {
   "cell_type": "code",
   "execution_count": 165,
   "metadata": {},
   "outputs": [
    {
     "name": "stdout",
     "output_type": "stream",
     "text": [
      "A 0\n",
      "@@@@@@@@@@@@@@@@@@@@@\n",
      "Z 1\n",
      "@@@@@@@@@@@@@@@@@@@@@\n",
      "A 0\n",
      "@@@@@@@@@@@@@@@@@@@@@\n",
      "A 0\n",
      "@@@@@@@@@@@@@@@@@@@@@\n",
      "A 0\n",
      "@@@@@@@@@@@@@@@@@@@@@\n",
      "Z 1\n",
      "@@@@@@@@@@@@@@@@@@@@@\n",
      "0\n",
      "1\n",
      "2\n",
      "3\n",
      "4\n",
      "[0, 1, 0, 0, 0, 1]\n"
     ]
    },
    {
     "data": {
      "text/plain": [
       "5"
      ]
     },
     "execution_count": 165,
     "metadata": {},
     "output_type": "execute_result"
    }
   ],
   "source": [
    "name = \"AZAAAZ\"\n",
    "solution(name) # 이경우 5 좌로 1, 우로 1씩 가서 해결 "
   ]
  },
  {
   "cell_type": "code",
   "execution_count": 127,
   "metadata": {},
   "outputs": [
    {
     "name": "stdout",
     "output_type": "stream",
     "text": [
      "J 9\n",
      "@@@@@@@@@@@@@@@@@@@@@\n",
      "E 4\n",
      "@@@@@@@@@@@@@@@@@@@@@\n",
      "R 9\n",
      "@@@@@@@@@@@@@@@@@@@@@\n",
      "O 12\n",
      "@@@@@@@@@@@@@@@@@@@@@\n",
      "E 4\n",
      "@@@@@@@@@@@@@@@@@@@@@\n",
      "N 13\n",
      "@@@@@@@@@@@@@@@@@@@@@\n",
      "0\n",
      "1\n",
      "2\n",
      "3\n",
      "4\n",
      "[9, 4, 9, 12, 4, 13]\n",
      "4 4\n"
     ]
    },
    {
     "data": {
      "text/plain": [
       "[0, 5, 5, 5, 5, 5]"
      ]
     },
     "execution_count": 127,
     "metadata": {},
     "output_type": "execute_result"
    }
   ],
   "source": [
    "name = \"JEROEN\"\n",
    "solution(name)"
   ]
  },
  {
   "cell_type": "code",
   "execution_count": 121,
   "metadata": {},
   "outputs": [
    {
     "name": "stdout",
     "output_type": "stream",
     "text": [
      "J 9\n",
      "@@@@@@@@@@@@@@@@@@@@@\n",
      "A 0\n",
      "@@@@@@@@@@@@@@@@@@@@@\n",
      "N 13\n",
      "@@@@@@@@@@@@@@@@@@@@@\n",
      "0\n",
      "1\n",
      "[9, 0, 13]\n",
      "1 0\n"
     ]
    },
    {
     "data": {
      "text/plain": [
       "23"
      ]
     },
     "execution_count": 121,
     "metadata": {},
     "output_type": "execute_result"
    }
   ],
   "source": [
    "name = \"JAN\"\n",
    "solution(name)"
   ]
  },
  {
   "cell_type": "code",
   "execution_count": 34,
   "metadata": {},
   "outputs": [
    {
     "name": "stdout",
     "output_type": "stream",
     "text": [
      "A 0\n",
      "@@@@@@@@@@@@@@@@@@@@@\n",
      "Z 1\n",
      "@@@@@@@@@@@@@@@@@@@@@\n",
      "A 0\n",
      "@@@@@@@@@@@@@@@@@@@@@\n",
      "A 0\n",
      "@@@@@@@@@@@@@@@@@@@@@\n",
      "A 0\n",
      "@@@@@@@@@@@@@@@@@@@@@\n",
      "Z 1\n",
      "@@@@@@@@@@@@@@@@@@@@@\n",
      "0\n",
      "1\n",
      "2\n",
      "3\n",
      "4\n",
      "[0, 1, 0, 0, 0, 1]\n"
     ]
    },
    {
     "data": {
      "text/plain": [
       "5"
      ]
     },
     "execution_count": 34,
     "metadata": {},
     "output_type": "execute_result"
    }
   ],
   "source": [
    "name = \"AZAAAZ\"\n",
    "solution(name) # 이경우 5 좌로 1, 우로 1씩 가서 해결 "
   ]
  },
  {
   "cell_type": "code",
   "execution_count": 8,
   "metadata": {},
   "outputs": [],
   "source": [
    "alphabet = ['A','B','C','D','E','F','G','H','I','J','K','L','M','N','O',\n",
    "               'P','Q','R','S','T','U','V','W','X','Y','Z']"
   ]
  },
  {
   "cell_type": "code",
   "execution_count": 157,
   "metadata": {},
   "outputs": [],
   "source": [
    "a = [1,2,3,4]\n"
   ]
  },
  {
   "cell_type": "code",
   "execution_count": 159,
   "metadata": {},
   "outputs": [
    {
     "data": {
      "text/plain": [
       "[1, 2, 3]"
      ]
     },
     "execution_count": 159,
     "metadata": {},
     "output_type": "execute_result"
    }
   ],
   "source": [
    "a[:-1]"
   ]
  },
  {
   "cell_type": "code",
   "execution_count": null,
   "metadata": {},
   "outputs": [],
   "source": []
  },
  {
   "cell_type": "code",
   "execution_count": 166,
   "metadata": {},
   "outputs": [
    {
     "ename": "SyntaxError",
     "evalue": "invalid syntax (<ipython-input-166-c4f71fe8f44e>, line 41)",
     "output_type": "error",
     "traceback": [
      "\u001b[0;36m  File \u001b[0;32m\"<ipython-input-166-c4f71fe8f44e>\"\u001b[0;36m, line \u001b[0;32m41\u001b[0m\n\u001b[0;31m    ```\u001b[0m\n\u001b[0m    ^\u001b[0m\n\u001b[0;31mSyntaxError\u001b[0m\u001b[0;31m:\u001b[0m invalid syntax\n"
     ]
    }
   ],
   "source": [
    "# 리뷰해보니 내가 한것은 완전 탐색처럼 그냥 다해보는것이지.\n",
    "# 본래 의미대로 부분에서 거기서 최선인 것들을 해나가는 탐욕법을 적용한것은 아닌듯. \n",
    "# \n",
    "# https://codedrive.tistory.com/28 참고 \n",
    "\n",
    "# 이거참고 해보자. \n",
    "# \n",
    "# def solution(name):\n",
    "#     answer = 0\n",
    "#     name=list(name)\n",
    "#     base=[\"A\"]*len(name)\n",
    "#     idx=0\n",
    "#     while(True):\n",
    "#         rightidx=1\n",
    "#         leftidx=1\n",
    "#         if name[idx]!=\"A\":\n",
    "#             if ord(name[idx])-ord(\"A\")>13:\n",
    "#                 answer+=26-(ord(name[idx])-ord(\"A\"))\n",
    "#             else:\n",
    "#                 answer+=ord(name[idx])-ord(\"A\")\n",
    "#             name[idx]=\"A\"\n",
    "#         if name ==base:\n",
    "#             break\n",
    "#         else:\n",
    "#             for i in range(1,len(name)):\n",
    "#                 if name[idx+i]==\"A\":\n",
    "#                     rightidx+=1\n",
    "#                 else:\n",
    "#                     break\n",
    "#                 if name[idx-i]==\"A\":\n",
    "#                     leftidx+=1\n",
    "#                 else:\n",
    "#                     break\n",
    "#             if rightidx>leftidx:\n",
    "#                 answer+=leftidx\n",
    "#                 idx-=leftidx\n",
    "#             else:\n",
    "#                 answer+=rightidx\n",
    "#                 idx+=rightidx\n",
    "#     return answer\n",
    "\n",
    "\n"
   ]
  },
  {
   "cell_type": "code",
   "execution_count": 192,
   "metadata": {},
   "outputs": [],
   "source": [
    "# 위의 아이디어 정리 해보면 \n",
    "#\n",
    "# 1. 이동한 후 해당 값 B등으로부터 A까지 얼마나 가야되나 체크후 \n",
    "# 2. 해당 자리의 값을 A로 변경 \n",
    "# 3. 모든 값들이 A가 아니라면 \n",
    "# 4. 해당 인덱스로부터 이동할 곳의 좌 or 우 의 인덱스를 판별 \n",
    "#   이동한 인덱스에서 그다음 이동할 인덱스를 판별하는데 \n",
    "#   판별 기준은 해당 인덱스에서 가장 가까운 거리안의 \n",
    "#   좌, 혹은 우방향에서의 인덱스들의 값들중에 \n",
    "#   가까운 거리안에서 A가 아닌곳으로 이동 \n",
    "\n",
    "\n",
    "def solution(name):\n",
    "    name = list(name)\n",
    "    base = ['A']*len(name)\n",
    "    idx = 0 \n",
    "    answer = 0\n",
    "    a_1 = ['A','B','C','D','E','F','G','H','I','J','K','L','M','N']\n",
    "    a_2 = ['A','Z', 'Y', 'X', 'W', 'V', 'U', 'T', 'S', 'R', 'Q', 'P', 'O']\n",
    "    \n",
    "    while(True):\n",
    "        l_idx = 1 \n",
    "        r_idx = 1 \n",
    "        \n",
    "        print(name)\n",
    "        if name[idx] !='A':\n",
    "            \n",
    "            if name[idx] <= \"N\":\n",
    "                for i,char in enumerate(a_1):\n",
    "                    if char == name[idx]:\n",
    "                        answer+= i\n",
    "                        break\n",
    "            else:\n",
    "                for i,char in enumerate(a_2):\n",
    "                    if char == name[idx]:\n",
    "                        answer+= i\n",
    "                        break\n",
    "                        \n",
    "            name[idx] = 'A'\n",
    "        \n",
    "        if name == base:\n",
    "            break\n",
    "            \n",
    "        else:\n",
    "            \n",
    "            for i in range(1,len(name)): # 1 ~ 5           여기인 경우 인덱스 에러 뜨는거 아닌가\n",
    "                if name[idx+i] =='A':             # [aabaaa'a']\n",
    "                    r_idx +=1\n",
    "                else:\n",
    "                    break\n",
    "                \n",
    "                if name[idx-i]==\"A\":\n",
    "                    l_idx +=1\n",
    "                else:\n",
    "                    break\n",
    "                    \n",
    "\n",
    "            if r_idx > l_idx:\n",
    "                answer += l_idx\n",
    "                idx-=l_idx\n",
    "            else:\n",
    "                answer +=r_idx\n",
    "                idx+=r_idx\n",
    "                    \n",
    "    \n",
    "    return answer\n",
    "                \n",
    "\n",
    "\n"
   ]
  },
  {
   "cell_type": "code",
   "execution_count": 193,
   "metadata": {},
   "outputs": [
    {
     "name": "stdout",
     "output_type": "stream",
     "text": [
      "['J', 'A', 'N']\n",
      "['A', 'A', 'N']\n"
     ]
    },
    {
     "data": {
      "text/plain": [
       "23"
      ]
     },
     "execution_count": 193,
     "metadata": {},
     "output_type": "execute_result"
    }
   ],
   "source": [
    "name = \"JAN\"\n",
    "solution(name)"
   ]
  },
  {
   "cell_type": "code",
   "execution_count": 194,
   "metadata": {},
   "outputs": [
    {
     "name": "stdout",
     "output_type": "stream",
     "text": [
      "['A', 'Z', 'A', 'A', 'A', 'Z']\n",
      "['A', 'Z', 'A', 'A', 'A', 'Z']\n",
      "['A', 'A', 'A', 'A', 'A', 'Z']\n"
     ]
    },
    {
     "data": {
      "text/plain": [
       "5"
      ]
     },
     "execution_count": 194,
     "metadata": {},
     "output_type": "execute_result"
    }
   ],
   "source": [
    "name = \"AZAAAZ\"\n",
    "solution(name) # 이경우 5 좌로 1, 우로 1씩 가서 해결 "
   ]
  },
  {
   "cell_type": "code",
   "execution_count": 169,
   "metadata": {},
   "outputs": [
    {
     "name": "stdout",
     "output_type": "stream",
     "text": [
      "0\n",
      "1\n",
      "2\n",
      "3\n",
      "4\n",
      "5\n",
      "6\n",
      "7\n",
      "8\n",
      "9\n"
     ]
    }
   ],
   "source": [
    "for i in range(10):\n",
    "    print(i)"
   ]
  },
  {
   "cell_type": "code",
   "execution_count": 170,
   "metadata": {},
   "outputs": [],
   "source": [
    "aa = [1,2,3,4,5]"
   ]
  },
  {
   "cell_type": "code",
   "execution_count": 175,
   "metadata": {},
   "outputs": [
    {
     "ename": "IndexError",
     "evalue": "list index out of range",
     "output_type": "error",
     "traceback": [
      "\u001b[0;31m---------------------------------------------------------------------------\u001b[0m",
      "\u001b[0;31mIndexError\u001b[0m                                Traceback (most recent call last)",
      "\u001b[0;32m<ipython-input-175-adfc8541f495>\u001b[0m in \u001b[0;36m<module>\u001b[0;34m\u001b[0m\n\u001b[0;32m----> 1\u001b[0;31m \u001b[0maa\u001b[0m\u001b[0;34m[\u001b[0m\u001b[0;34m-\u001b[0m\u001b[0;36m6\u001b[0m\u001b[0;34m]\u001b[0m\u001b[0;34m\u001b[0m\u001b[0;34m\u001b[0m\u001b[0m\n\u001b[0m",
      "\u001b[0;31mIndexError\u001b[0m: list index out of range"
     ]
    }
   ],
   "source": [
    "aa[-6]"
   ]
  },
  {
   "cell_type": "code",
   "execution_count": 47,
   "metadata": {},
   "outputs": [],
   "source": [
    "## 다시 풀어봄  \n",
    "# 조이스틱으로 알파벳 이름을 완성하세요. 맨 처음엔 A로만 이루어져 있습니다.  가로 새로 최소 몇번으로 카바 가능한지? \n",
    "\n",
    "\n",
    "def solution(name):\n",
    "    \n",
    "    \n",
    "    a1 = ['A','B','C','D','E','F','G','H','I','J','K','L','M','N']\n",
    "    a2 = ['A','Z', 'Y', 'X', 'W', 'V', 'U', 'T', 'S', 'R', 'Q', 'P', 'O']\n",
    "    idx = 0 \n",
    "    name = list(name)\n",
    "    fin_result = ['A']*len(name)\n",
    "    answer = 0 \n",
    "    \n",
    "    while True:\n",
    "        print(name)\n",
    "        idx_r = 1 \n",
    "        idx_l = 1 \n",
    "        \n",
    "        # 세로로 돌리는 경우는 정해져 있으니 이것부터 count하겠다. \n",
    "        if name[idx]!='A':\n",
    "            if name[idx] <= 'N':\n",
    "                for i,char in enumerate(a1):\n",
    "                    if char == name[idx]:\n",
    "                        answer+=i\n",
    "                        break\n",
    "            else:\n",
    "                for i,char in enumerate(a2):\n",
    "                    if char == name[idx]:\n",
    "                        answer+=i\n",
    "                        break\n",
    "\n",
    "            name[idx] = 'A'\n",
    "        \n",
    "        \n",
    "        # 가로로 방문 해보자. name[0] ~ name[-1]\n",
    "        if name == fin_result:\n",
    "            break\n",
    "            \n",
    "        else:\n",
    "        # 좌로 갈지 우로 갈지 비교해서 더 가까운 곳에 A아닌 char있는 곳을 다음 idx로 삼는다. \n",
    "            \n",
    "            # idx ~ 끝 우로 \n",
    "            for i in range(1,len(name)):\n",
    "                if name[idx+i] == 'A':             \n",
    "                    idx_r += i\n",
    "                else:                       # 2. l == r이면 여기서 멈춘것. \n",
    "                    break\n",
    "                \n",
    "                if name[idx-i] == 'A':\n",
    "                    idx_l +=i\n",
    "                else:                       # 1. r> l 이면 여기서 멈춘것 \n",
    "                    break\n",
    "            \n",
    "            if idx_r > idx_l:\n",
    "                answer += idx_l\n",
    "                idx-=idx_l\n",
    "            else:\n",
    "                answer +=idx_r\n",
    "                idx+=idx_r\n",
    "    \n",
    "    \n",
    "    \n",
    "    return answer\n"
   ]
  },
  {
   "cell_type": "code",
   "execution_count": 48,
   "metadata": {},
   "outputs": [
    {
     "name": "stdout",
     "output_type": "stream",
     "text": [
      "['J', 'A', 'N']\n",
      "['A', 'A', 'N']\n"
     ]
    },
    {
     "data": {
      "text/plain": [
       "23"
      ]
     },
     "execution_count": 48,
     "metadata": {},
     "output_type": "execute_result"
    }
   ],
   "source": [
    "name = \"JAN\"\n",
    "solution(name)"
   ]
  },
  {
   "cell_type": "code",
   "execution_count": 52,
   "metadata": {},
   "outputs": [
    {
     "name": "stdout",
     "output_type": "stream",
     "text": [
      "['A', 'A', 'A', 'Z', 'A', 'Z']\n",
      "['A', 'A', 'A', 'Z', 'A', 'Z']\n",
      "['A', 'A', 'A', 'Z', 'A', 'A']\n"
     ]
    },
    {
     "data": {
      "text/plain": [
       "5"
      ]
     },
     "execution_count": 52,
     "metadata": {},
     "output_type": "execute_result"
    }
   ],
   "source": [
    "name = \"AZAAAZ\"\n",
    "solution(name)"
   ]
  },
  {
   "cell_type": "code",
   "execution_count": 11,
   "metadata": {},
   "outputs": [
    {
     "data": {
      "text/plain": [
       "True"
      ]
     },
     "execution_count": 11,
     "metadata": {},
     "output_type": "execute_result"
    }
   ],
   "source": [
    "'B' <'N'"
   ]
  },
  {
   "cell_type": "code",
   "execution_count": 20,
   "metadata": {},
   "outputs": [
    {
     "name": "stdout",
     "output_type": "stream",
     "text": [
      "g\n",
      "f\n",
      "e\n",
      "d\n",
      "c\n",
      "b\n",
      "a\n"
     ]
    }
   ],
   "source": [
    "# 0부터 좌로 해서 1까지 탐색 해보자.\n",
    "aaa =  \"abcdefg\"\n",
    "\n",
    "for i in range(6,-1,-1):\n",
    "    print(aaa[i])"
   ]
  },
  {
   "cell_type": "code",
   "execution_count": 50,
   "metadata": {},
   "outputs": [
    {
     "ename": "IndexError",
     "evalue": "string index out of range",
     "output_type": "error",
     "traceback": [
      "\u001b[0;31m---------------------------------------------------------------------------\u001b[0m",
      "\u001b[0;31mIndexError\u001b[0m                                Traceback (most recent call last)",
      "\u001b[0;32m<ipython-input-50-90c3d38fe9ee>\u001b[0m in \u001b[0;36m<module>\u001b[0;34m\u001b[0m\n\u001b[0;32m----> 1\u001b[0;31m \u001b[0maaa\u001b[0m\u001b[0;34m[\u001b[0m\u001b[0;34m-\u001b[0m\u001b[0;36m10\u001b[0m\u001b[0;34m]\u001b[0m\u001b[0;34m\u001b[0m\u001b[0;34m\u001b[0m\u001b[0m\n\u001b[0m",
      "\u001b[0;31mIndexError\u001b[0m: string index out of range"
     ]
    }
   ],
   "source": [
    "aaa[-10]"
   ]
  },
  {
   "cell_type": "code",
   "execution_count": null,
   "metadata": {},
   "outputs": [],
   "source": []
  }
 ],
 "metadata": {
  "kernelspec": {
   "display_name": "Python 3",
   "language": "python",
   "name": "python3"
  },
  "language_info": {
   "codemirror_mode": {
    "name": "ipython",
    "version": 3
   },
   "file_extension": ".py",
   "mimetype": "text/x-python",
   "name": "python",
   "nbconvert_exporter": "python",
   "pygments_lexer": "ipython3",
   "version": "3.6.5"
  }
 },
 "nbformat": 4,
 "nbformat_minor": 2
}
