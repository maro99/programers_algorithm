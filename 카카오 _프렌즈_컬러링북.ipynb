{
 "cells": [
  {
   "cell_type": "code",
   "execution_count": 153,
   "metadata": {},
   "outputs": [],
   "source": [
    "def turn_zero(m,n,value, turn_zero_list, picture, turn_zero_list_duplicated):\n",
    "    \n",
    "    # 더이상 turn_zero_list에 좌표가 없다면 함수종료됨.(이 함수를 호출한 위의 함수에서 같은 값을 가진 픽셀이 한개도 검색되지 않은것)\n",
    "    if len(turn_zero_list) == 0:\n",
    "        return turn_zero_list_duplicated \n",
    "    \n",
    "    for index_y, index_x in turn_zero_list:\n",
    "\n",
    "        picture[index_y][index_x] = 0       \n",
    "\n",
    "        turn_zero_list.pop(0)\n",
    "\n",
    "        if (index_x + 1) <= (n - 1): # 경계조건 적용. index애러 방지위해. \n",
    "            right = picture[index_y][index_x + 1]\n",
    "            if right == value:\n",
    "                turn_zero_list.append((index_y, index_x + 1))\n",
    "                turn_zero_list_duplicated.append((index_y, index_x + 1))\n",
    "\n",
    "\n",
    "        if (index_x - 1) >= 0: # 경계조건 적용.\n",
    "            left = picture[index_y][index_x - 1]\n",
    "            if left == value:\n",
    "                turn_zero_list.append((index_y, index_x - 1))\n",
    "                turn_zero_list_duplicated.append((index_y, index_x - 1))\n",
    "\n",
    "\n",
    "        if (index_y + 1) <= (m - 1): # 경계조건 적용.\n",
    "            bottom = picture[index_y + 1][index_x]\n",
    "            if bottom == value:\n",
    "                turn_zero_list.append((index_y + 1, index_x))\n",
    "                turn_zero_list_duplicated.append((index_y + 1, index_x))\n",
    "\n",
    "\n",
    "        turn_zero(m,n,value, turn_zero_list, picture, turn_zero_list_duplicated)\n",
    "        \n",
    "        return turn_zero_list_duplicated\n",
    "\n"
   ]
  },
  {
   "cell_type": "code",
   "execution_count": 154,
   "metadata": {},
   "outputs": [],
   "source": [
    "def solution(m, n, picture):\n",
    "    result_list = []\n",
    "    for index_y in range(0, m):\n",
    "        for index_x in range(0, n):\n",
    "\n",
    "#             print('@@@@@@@@')\n",
    "#             print(index_y)\n",
    "#             print(index_x)\n",
    "\n",
    "            value = picture[index_y][index_x]\n",
    "            \n",
    "            print('@@@@@@@@@')\n",
    "            # 해당 y,x 픽셀에 값이 0이 아닌지 판단. 0이면 지나가고 0이아니면 이하를 수행.\n",
    "            if value == 0:\n",
    "                continue\n",
    "            \n",
    "            #최초의 픽셀 좌표를 리스트에 저장하고 활용하겠다. \n",
    "            # 이 리스트에 zero로 만들 픽셀값들을 넣고 지워가면서 값이 같은 픽셀을 카운트 하겠다.\n",
    "            turn_zero_list = []             # 인근값 판단에 사용할 리스트 --> 해당좌표 picture값 0 으로 변경후 pop되서 카운트힘듬 \n",
    "            turn_zero_list_duplicated = []  # 따로 그 값들을 여기 저장해 놓자. 값은 중복됨. 그뒤 중복 제거후 카운트 하겠슴.\n",
    "\n",
    "        \n",
    "            # 최조 좌표를 저장,\n",
    "            turn_zero_list.append((index_y, index_x))\n",
    "            turn_zero_list_duplicated.append((index_y, index_x))\n",
    "            \n",
    "            # turn_zero--> 방문한 픽셀을 0으로 바꾸면서 인접한 픽셀도 값이 같다면 0으로 바꿔나가고 \n",
    "            # 값이같은 픽셀의 좌표를 모두 turn_zero_list_duplicated에 중복되든 말든 저장해 버리는 함수 \n",
    "            # picture,turn_zero_list_duplicated 의 경우 리스터여서 따로 리턴 주고받지 않아도 값이 전역적으로 적용되는듯하다.\n",
    "            # (int등의 경우는 함수안에 넣어준 인자가 함수안에서 바뀌어도 적용 안되었다.)\n",
    "            turn_zero(m,n,value, turn_zero_list, picture, turn_zero_list_duplicated)\n",
    "            \n",
    "            \n",
    "            turn_zero_list_duplicated = list(set(turn_zero_list_duplicated)) # 중복 제거 \n",
    "            num_of_this_value=len(turn_zero_list_duplicated)\n",
    "\n",
    "            \n",
    "            print(picture)\n",
    "            result_list.append((value, num_of_this_value))  # 색상값, 그수 튜플로 리스트에 추가.\n",
    "\n",
    "    return result_list"
   ]
  },
  {
   "cell_type": "code",
   "execution_count": null,
   "metadata": {},
   "outputs": [],
   "source": []
  },
  {
   "cell_type": "code",
   "execution_count": 156,
   "metadata": {
    "scrolled": true
   },
   "outputs": [
    {
     "name": "stdout",
     "output_type": "stream",
     "text": [
      "@@@@@@@@@\n",
      "[[0, 0, 0, 0], [0, 2, 2, 0], [0, 0, 0, 1], [0, 0, 0, 1], [0, 0, 0, 3], [0, 0, 0, 3]]\n",
      "@@@@@@@@@\n",
      "@@@@@@@@@\n",
      "@@@@@@@@@\n",
      "@@@@@@@@@\n",
      "@@@@@@@@@\n",
      "[[0, 0, 0, 0], [0, 0, 0, 0], [0, 0, 0, 1], [0, 0, 0, 1], [0, 0, 0, 3], [0, 0, 0, 3]]\n",
      "@@@@@@@@@\n",
      "@@@@@@@@@\n",
      "@@@@@@@@@\n",
      "@@@@@@@@@\n",
      "@@@@@@@@@\n",
      "@@@@@@@@@\n",
      "[[0, 0, 0, 0], [0, 0, 0, 0], [0, 0, 0, 0], [0, 0, 0, 0], [0, 0, 0, 3], [0, 0, 0, 3]]\n",
      "@@@@@@@@@\n",
      "@@@@@@@@@\n",
      "@@@@@@@@@\n",
      "@@@@@@@@@\n",
      "@@@@@@@@@\n",
      "@@@@@@@@@\n",
      "@@@@@@@@@\n",
      "@@@@@@@@@\n",
      "[[0, 0, 0, 0], [0, 0, 0, 0], [0, 0, 0, 0], [0, 0, 0, 0], [0, 0, 0, 0], [0, 0, 0, 0]]\n",
      "@@@@@@@@@\n",
      "@@@@@@@@@\n",
      "@@@@@@@@@\n",
      "@@@@@@@@@\n",
      "[(1, 5), (2, 2), (1, 2), (3, 2)]\n"
     ]
    }
   ],
   "source": [
    "m=6 #세로\n",
    "n=4 #가로\n",
    "\n",
    "picture = [[1, 1, 1, 0], [1, 2, 2, 0], [1, 0, 0, 1], [0, 0, 0, 1], [0, 0, 0, 3], [0, 0, 0, 3]]\n",
    "# picture =  [[1, 1, 1, 0], [1, 1, 1, 0], [0, 0, 0, 1], [0, 0, 0, 1], [0, 0, 0, 1], [0, 0, 0, 1]]\n",
    "\n",
    "result = solution(6,4,picture)\n",
    "print(result)"
   ]
  },
  {
   "cell_type": "code",
   "execution_count": null,
   "metadata": {},
   "outputs": [],
   "source": []
  },
  {
   "cell_type": "code",
   "execution_count": null,
   "metadata": {},
   "outputs": [],
   "source": [
    "m=6 #세로\n",
    "n=4 #가로\n",
    "\n",
    "picture = [[1, 1, 1, 0], [1, 2, 2, 0], [1, 0, 0, 1], [0, 0, 0, 1], [0, 0, 0, 3], [0, 0, 0, 3]]\n",
    "\n",
    "result = solution(6,4,picture,num_of_this_value)\n",
    "print(result)"
   ]
  },
  {
   "cell_type": "code",
   "execution_count": 143,
   "metadata": {},
   "outputs": [
    {
     "data": {
      "text/plain": [
       "[[0, 0, 0, 0, 0, 0, 0, 1, 1, 0, 0, 0, 0, 0, 0, 0]]"
      ]
     },
     "execution_count": 143,
     "metadata": {},
     "output_type": "execute_result"
    }
   ],
   "source": [
    "[[0,0,0,0,0,0,0,1,1,0,0,0,0,0,0,0]]"
   ]
  },
  {
   "cell_type": "code",
   "execution_count": null,
   "metadata": {},
   "outputs": [],
   "source": []
  },
  {
   "cell_type": "code",
   "execution_count": null,
   "metadata": {},
   "outputs": [],
   "source": []
  },
  {
   "cell_type": "markdown",
   "metadata": {},
   "source": [
    "```\n",
    "고찰.\n",
    "\n",
    "제귀에 대한 개념이 흐려서 시간 많이 걸림.\n",
    "중복자체를 피하고 이전에 방문한 픽셀은 검사 안하는 방법이 없을까?\n",
    "\n",
    "앞서서는 그 부모되는 픽셀 값을 0으로 바꾸면 자동으로 중복을 피할 것으로 생각됬는데\n",
    "테스트 결과 같은 레벨의 자식되는 픽셀에서 그 값이 겹치는 경우는 동시에 실행되는 격이기에 중복이 되고만다.\n",
    "\n",
    "나는 이것을 기존의 픽셀검사후 0으로 만들어버리는 turn_zero_list를 하나더 만들어서 \n",
    "이것은 중복이고 뭐고 다 담은뒤 중복 제거해서 카운트 하도록 했다. \n",
    "\n",
    "덕선이의 경우는 아예 방문조차 못하도록 경우의 수를 줄여서 했다는데 어떻게 한지 모르겠다. \n",
    "같은 레벨에서는 같은 순간 제귀함수가 돌탠데 서로 어떻게 스택(?저장공간)을 주고받아서 해결하는지 모르겠다.\n",
    "\n",
    "\n",
    "\n",
    "```"
   ]
  },
  {
   "cell_type": "code",
   "execution_count": null,
   "metadata": {},
   "outputs": [],
   "source": []
  }
 ],
 "metadata": {
  "kernelspec": {
   "display_name": "Python 3",
   "language": "python",
   "name": "python3"
  },
  "language_info": {
   "codemirror_mode": {
    "name": "ipython",
    "version": 3
   },
   "file_extension": ".py",
   "mimetype": "text/x-python",
   "name": "python",
   "nbconvert_exporter": "python",
   "pygments_lexer": "ipython3",
   "version": "3.6.5"
  }
 },
 "nbformat": 4,
 "nbformat_minor": 2
}
